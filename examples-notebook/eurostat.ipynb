{
 "cells": [
  {
   "cell_type": "markdown",
   "metadata": {},
   "source": [
    "## Notebook: using jsonstat.py with eurostat api\n",
    "\n",
    "This Jupyter notebook shows the python library [jsonstat.py](http://github.com/26fe/jsonstat.py) in action.\n",
    "Eurostat provides a rest api to download its datasets. You can find details about the api [here](http://ec.europa.eu/eurostat/web/json-and-unicode-web-services)\n",
    "It is possible to use a [query builder](http://ec.europa.eu/eurostat/web/json-and-unicode-web-services/getting-started/query-builder) for discovering the rest api parameters  <img src=\"eurostat_query_builder_step2.png\" width=\"50%\" height=\"50%\"/>"
   ]
  },
  {
   "cell_type": "code",
   "execution_count": 1,
   "metadata": {
    "collapsed": false
   },
   "outputs": [],
   "source": [
    "from __future__ import print_function\n",
    "import os\n",
    "import pandas as ps\n",
    "import jsonstat"
   ]
  },
  {
   "cell_type": "markdown",
   "metadata": {},
   "source": [
    "### Exploring data with one dimension (time) with size > 1\n",
    "\n",
    "Download or use the json file cached on disk. Caching file is useful to avoid download file every time. Caching can speed the development, and provide consistent result.\n",
    "You can see the raw data [here](http://ec.europa.eu/eurostat/wdds/rest/data/v1.1/json/en/nama_gdp_c?precision=1&geo=IT&unit=EUR_HAB&indic_na=B1GM)"
   ]
  },
  {
   "cell_type": "code",
   "execution_count": 2,
   "metadata": {
    "collapsed": false
   },
   "outputs": [
    {
     "name": "stdout",
     "output_type": "stream",
     "text": [
      "using file from fixtures\n"
     ]
    }
   ],
   "source": [
    "url = 'http://ec.europa.eu/eurostat/wdds/rest/data/v1.1/json/en/nama_gdp_c?precision=1&geo=IT&unit=EUR_HAB&indic_na=B1GM'\n",
    "file_name = \"eurostat-name_gpd_c-geo_IT.json\"\n",
    "\n",
    "file_path = os.path.abspath(os.path.join(\"..\", \"tests\", \"fixtures\", \"eurostat\", file_name))\n",
    "if os.path.exists(file_path):\n",
    "    print(\"using file from fixtures\")\n",
    "else:\n",
    "    print(\"download file into the current directory\")\n",
    "    jsonstat.download(url, file_name)\n",
    "    file_path = file_name"
   ]
  },
  {
   "cell_type": "markdown",
   "metadata": {},
   "source": [
    "Initialize JsonStatCollection and print some info."
   ]
  },
  {
   "cell_type": "code",
   "execution_count": 3,
   "metadata": {
    "collapsed": false
   },
   "outputs": [
    {
     "data": {
      "text/plain": [
       "0: dataset 'nama_gdp_c'"
      ]
     },
     "execution_count": 3,
     "metadata": {},
     "output_type": "execute_result"
    }
   ],
   "source": [
    "collection = jsonstat.JsonStatCollection()\n",
    "collection.from_file(file_path)"
   ]
  },
  {
   "cell_type": "code",
   "execution_count": 4,
   "metadata": {
    "collapsed": false
   },
   "outputs": [
    {
     "data": {
      "text/plain": [
       "name:   'nama_gdp_c'\n",
       "title:  'GDP and main components - Current prices'\n",
       "size: 69\n",
       "4 dimensions:\n",
       "  0: dim id/name: 'unit' size: '1' role: 'None'\n",
       "  1: dim id/name: 'indic_na' size: '1' role: 'None'\n",
       "  2: dim id/name: 'geo' size: '1' role: 'None'\n",
       "  3: dim id/name: 'time' size: '69' role: 'None'"
      ]
     },
     "execution_count": 4,
     "metadata": {},
     "output_type": "execute_result"
    }
   ],
   "source": [
    "nama_gdp_c = collection.dataset('nama_gdp_c')\n",
    "nama_gdp_c"
   ]
  },
  {
   "cell_type": "markdown",
   "metadata": {},
   "source": [
    "The only dataset contained is `nama_gdp_c`. All dimensions are of size 1 with exception of time dimension. Let's explore the time dimension."
   ]
  },
  {
   "cell_type": "code",
   "execution_count": 5,
   "metadata": {
    "collapsed": false
   },
   "outputs": [
    {
     "data": {
      "text/plain": [
       "index\n",
       "  pos    idx  label\n",
       "    0   1946   1946\n",
       "    1   1947   1947\n",
       "    2   1948   1948\n",
       "    3   1949   1949\n",
       "    4   1950   1950\n",
       "    5   1951   1951\n",
       "    6   1952   1952\n",
       "    7   1953   1953\n",
       "    8   1954   1954\n",
       "    9   1955   1955\n",
       "   10   1956   1956\n",
       "   11   1957   1957\n",
       "   12   1958   1958\n",
       "   13   1959   1959\n",
       "   14   1960   1960\n",
       "   15   1961   1961\n",
       "   16   1962   1962\n",
       "   17   1963   1963\n",
       "   18   1964   1964\n",
       "   19   1965   1965\n",
       "   20   1966   1966\n",
       "   21   1967   1967\n",
       "   22   1968   1968\n",
       "   23   1969   1969\n",
       "   24   1970   1970\n",
       "   25   1971   1971\n",
       "   26   1972   1972\n",
       "   27   1973   1973\n",
       "   28   1974   1974\n",
       "   29   1975   1975\n",
       "   30   1976   1976\n",
       "   31   1977   1977\n",
       "   32   1978   1978\n",
       "   33   1979   1979\n",
       "   34   1980   1980\n",
       "   35   1981   1981\n",
       "   36   1982   1982\n",
       "   37   1983   1983\n",
       "   38   1984   1984\n",
       "   39   1985   1985\n",
       "   40   1986   1986\n",
       "   41   1987   1987\n",
       "   42   1988   1988\n",
       "   43   1989   1989\n",
       "   44   1990   1990\n",
       "   45   1991   1991\n",
       "   46   1992   1992\n",
       "   47   1993   1993\n",
       "   48   1994   1994\n",
       "   49   1995   1995\n",
       "   50   1996   1996\n",
       "   51   1997   1997\n",
       "   52   1998   1998\n",
       "   53   1999   1999\n",
       "   54   2000   2000\n",
       "   55   2001   2001\n",
       "   56   2002   2002\n",
       "   57   2003   2003\n",
       "   58   2004   2004\n",
       "   59   2005   2005\n",
       "   60   2006   2006\n",
       "   61   2007   2007\n",
       "   62   2008   2008\n",
       "   63   2009   2009\n",
       "   64   2010   2010\n",
       "   65   2011   2011\n",
       "   66   2012   2012\n",
       "   67   2013   2013\n",
       "   68   2014   2014"
      ]
     },
     "execution_count": 5,
     "metadata": {},
     "output_type": "execute_result"
    }
   ],
   "source": [
    "nama_gdp_c.dimension('time')"
   ]
  },
  {
   "cell_type": "markdown",
   "metadata": {},
   "source": [
    "Get value for year 2012."
   ]
  },
  {
   "cell_type": "code",
   "execution_count": 6,
   "metadata": {
    "collapsed": false
   },
   "outputs": [
    {
     "data": {
      "text/plain": [
       "25700"
      ]
     },
     "execution_count": 6,
     "metadata": {},
     "output_type": "execute_result"
    }
   ],
   "source": [
    "nama_gdp_c.value(time='2012')"
   ]
  },
  {
   "cell_type": "code",
   "execution_count": 7,
   "metadata": {
    "collapsed": false
   },
   "outputs": [
    {
     "name": "stdout",
     "output_type": "stream",
     "text": [
      "         IT\n",
      "1946    NaN\n",
      "1947    NaN\n",
      "1948    NaN\n",
      "1949    NaN\n",
      "1950    NaN\n",
      "1951    NaN\n",
      "1952    NaN\n",
      "1953    NaN\n",
      "1954    NaN\n",
      "1955    NaN\n",
      "1956    NaN\n",
      "1957    NaN\n",
      "1958    NaN\n",
      "1959    NaN\n",
      "1960    NaN\n",
      "1961    NaN\n",
      "1962    NaN\n",
      "1963    NaN\n",
      "1964    NaN\n",
      "1965    NaN\n",
      "1966    NaN\n",
      "1967    NaN\n",
      "1968    NaN\n",
      "1969    NaN\n",
      "1970    NaN\n",
      "1971    NaN\n",
      "1972    NaN\n",
      "1973    NaN\n",
      "1974    NaN\n",
      "1975    NaN\n",
      "...     ...\n",
      "1985    NaN\n",
      "1986    NaN\n",
      "1987    NaN\n",
      "1988    NaN\n",
      "1989    NaN\n",
      "1990  15800\n",
      "1991  17100\n",
      "1992  17300\n",
      "1993  15400\n",
      "1994  15700\n",
      "1995  15200\n",
      "1996  17500\n",
      "1997  18600\n",
      "1998  19200\n",
      "1999  19900\n",
      "2000  21000\n",
      "2001  22000\n",
      "2002  22800\n",
      "2003  23300\n",
      "2004  24000\n",
      "2005  24500\n",
      "2006  25300\n",
      "2007  26200\n",
      "2008  26300\n",
      "2009  25200\n",
      "2010  25700\n",
      "2011  26000\n",
      "2012  25700\n",
      "2013  25600\n",
      "2014    NaN\n",
      "\n",
      "[69 rows x 1 columns]\n"
     ]
    }
   ],
   "source": [
    "df = nama_gdp_c.to_data_frame('time', geo='IT')\n",
    "print(df)"
   ]
  },
  {
   "cell_type": "code",
   "execution_count": 8,
   "metadata": {
    "collapsed": false
   },
   "outputs": [
    {
     "data": {
      "text/plain": [
       "<matplotlib.axes._subplots.AxesSubplot at 0x10cee2390>"
      ]
     },
     "execution_count": 8,
     "metadata": {},
     "output_type": "execute_result"
    },
    {
     "data": {
      "image/png": "[encoded data removed]",
      "text/plain": [
       "<matplotlib.figure.Figure at 0x10ce55a10>"
      ]
     },
     "metadata": {},
     "output_type": "display_data"
    }
   ],
   "source": [
    "import matplotlib as plt\n",
    "%matplotlib inline\n",
    "df.plot()"
   ]
  },
  {
   "cell_type": "markdown",
   "metadata": {},
   "source": [
    "### Exploring data with two dimensions (geo, time) with size > 1\n",
    "Download or use the jsonstat file cached on disk. The cache is used to avoid internet download during the devolopment to make the things a bit faster.\n",
    "You can see the raw data [here](http://ec.europa.eu/eurostat/wdds/rest/data/v1.1/json/en/nama_gdp_c?precision=1&geo=IT&geo=FR&unit=EUR_HAB&indic_na=B1GM)"
   ]
  },
  {
   "cell_type": "code",
   "execution_count": 9,
   "metadata": {
    "collapsed": false
   },
   "outputs": [
    {
     "name": "stdout",
     "output_type": "stream",
     "text": [
      "using file from fixtures\n"
     ]
    }
   ],
   "source": [
    "url = 'http://ec.europa.eu/eurostat/wdds/rest/data/v1.1/json/en/nama_gdp_c?precision=1&geo=IT&geo=FR&unit=EUR_HAB&indic_na=B1GM'\n",
    "file_name = \"eurostat-name_gpd_c-geo_IT_FR.json\"\n",
    "\n",
    "file_path = os.path.abspath(os.path.join(\"..\", \"tests\", \"fixtures\", \"eurostat\", file_name))\n",
    "if os.path.exists(file_path):\n",
    "    print(\"using file from fixtures\")\n",
    "else:\n",
    "    print(\"download file into the current directory\")\n",
    "    jsonstat.download(url, file_name)\n",
    "    file_path = file_name"
   ]
  },
  {
   "cell_type": "code",
   "execution_count": 10,
   "metadata": {
    "collapsed": false
   },
   "outputs": [
    {
     "data": {
      "text/plain": [
       "name:   'nama_gdp_c'\n",
       "title:  'GDP and main components - Current prices'\n",
       "size: 138\n",
       "4 dimensions:\n",
       "  0: dim id/name: 'unit' size: '1' role: 'None'\n",
       "  1: dim id/name: 'indic_na' size: '1' role: 'None'\n",
       "  2: dim id/name: 'geo' size: '2' role: 'None'\n",
       "  3: dim id/name: 'time' size: '69' role: 'None'"
      ]
     },
     "execution_count": 10,
     "metadata": {},
     "output_type": "execute_result"
    }
   ],
   "source": [
    "collection = jsonstat.JsonStatCollection()\n",
    "collection.from_file(file_path)\n",
    "nama_gdp_c = collection.dataset('nama_gdp_c')\n",
    "nama_gdp_c"
   ]
  },
  {
   "cell_type": "code",
   "execution_count": 11,
   "metadata": {
    "collapsed": false
   },
   "outputs": [
    {
     "data": {
      "text/plain": [
       "index\n",
       "  pos    idx  label\n",
       "    0     FR France\n",
       "    1     IT  Italy"
      ]
     },
     "execution_count": 11,
     "metadata": {},
     "output_type": "execute_result"
    }
   ],
   "source": [
    "nama_gdp_c.dimension('geo')"
   ]
  },
  {
   "cell_type": "code",
   "execution_count": 12,
   "metadata": {
    "collapsed": false
   },
   "outputs": [
    {
     "data": {
      "text/plain": [
       "25700"
      ]
     },
     "execution_count": 12,
     "metadata": {},
     "output_type": "execute_result"
    }
   ],
   "source": [
    "nama_gdp_c.value(time='2012',geo='IT')"
   ]
  },
  {
   "cell_type": "code",
   "execution_count": 13,
   "metadata": {
    "collapsed": false
   },
   "outputs": [
    {
     "data": {
      "text/plain": [
       "31100"
      ]
     },
     "execution_count": 13,
     "metadata": {},
     "output_type": "execute_result"
    }
   ],
   "source": [
    "nama_gdp_c.value(time='2012',geo='FR')"
   ]
  },
  {
   "cell_type": "code",
   "execution_count": 14,
   "metadata": {
    "collapsed": false
   },
   "outputs": [
    {
     "data": {
      "text/plain": [
       "<matplotlib.axes._subplots.AxesSubplot at 0x10cf08890>"
      ]
     },
     "execution_count": 14,
     "metadata": {},
     "output_type": "execute_result"
    },
    {
     "data": {
      "image/png": "[encoded data removed]",
      "text/plain": [
       "<matplotlib.figure.Figure at 0x10c556fd0>"
      ]
     },
     "metadata": {},
     "output_type": "display_data"
    }
   ],
   "source": [
    "df = nama_gdp_c.to_data_frame('time', geo='FR')\n",
    "df.plot()"
   ]
  },
  {
   "cell_type": "code",
   "execution_count": 18,
   "metadata": {
    "collapsed": false
   },
   "outputs": [
    {
     "data": {
      "text/html": [
       "<div>\n",
       "<table border=\"1\" class=\"dataframe\">\n",
       "  <thead>\n",
       "    <tr style=\"text-align: right;\">\n",
       "      <th></th>\n",
       "      <th>IT</th>\n",
       "    </tr>\n",
       "  </thead>\n",
       "  <tbody>\n",
       "    <tr>\n",
       "      <th>1946</th>\n",
       "      <td>NaN</td>\n",
       "    </tr>\n",
       "    <tr>\n",
       "      <th>1947</th>\n",
       "      <td>NaN</td>\n",
       "    </tr>\n",
       "    <tr>\n",
       "      <th>1948</th>\n",
       "      <td>NaN</td>\n",
       "    </tr>\n",
       "    <tr>\n",
       "      <th>1949</th>\n",
       "      <td>NaN</td>\n",
       "    </tr>\n",
       "    <tr>\n",
       "      <th>1950</th>\n",
       "      <td>NaN</td>\n",
       "    </tr>\n",
       "    <tr>\n",
       "      <th>1951</th>\n",
       "      <td>NaN</td>\n",
       "    </tr>\n",
       "    <tr>\n",
       "      <th>1952</th>\n",
       "      <td>NaN</td>\n",
       "    </tr>\n",
       "    <tr>\n",
       "      <th>1953</th>\n",
       "      <td>NaN</td>\n",
       "    </tr>\n",
       "    <tr>\n",
       "      <th>1954</th>\n",
       "      <td>NaN</td>\n",
       "    </tr>\n",
       "    <tr>\n",
       "      <th>1955</th>\n",
       "      <td>NaN</td>\n",
       "    </tr>\n",
       "    <tr>\n",
       "      <th>1956</th>\n",
       "      <td>NaN</td>\n",
       "    </tr>\n",
       "    <tr>\n",
       "      <th>1957</th>\n",
       "      <td>NaN</td>\n",
       "    </tr>\n",
       "    <tr>\n",
       "      <th>1958</th>\n",
       "      <td>NaN</td>\n",
       "    </tr>\n",
       "    <tr>\n",
       "      <th>1959</th>\n",
       "      <td>NaN</td>\n",
       "    </tr>\n",
       "    <tr>\n",
       "      <th>1960</th>\n",
       "      <td>NaN</td>\n",
       "    </tr>\n",
       "    <tr>\n",
       "      <th>1961</th>\n",
       "      <td>NaN</td>\n",
       "    </tr>\n",
       "    <tr>\n",
       "      <th>1962</th>\n",
       "      <td>NaN</td>\n",
       "    </tr>\n",
       "    <tr>\n",
       "      <th>1963</th>\n",
       "      <td>NaN</td>\n",
       "    </tr>\n",
       "    <tr>\n",
       "      <th>1964</th>\n",
       "      <td>NaN</td>\n",
       "    </tr>\n",
       "    <tr>\n",
       "      <th>1965</th>\n",
       "      <td>NaN</td>\n",
       "    </tr>\n",
       "    <tr>\n",
       "      <th>1966</th>\n",
       "      <td>NaN</td>\n",
       "    </tr>\n",
       "    <tr>\n",
       "      <th>1967</th>\n",
       "      <td>NaN</td>\n",
       "    </tr>\n",
       "    <tr>\n",
       "      <th>1968</th>\n",
       "      <td>NaN</td>\n",
       "    </tr>\n",
       "    <tr>\n",
       "      <th>1969</th>\n",
       "      <td>NaN</td>\n",
       "    </tr>\n",
       "    <tr>\n",
       "      <th>1970</th>\n",
       "      <td>NaN</td>\n",
       "    </tr>\n",
       "    <tr>\n",
       "      <th>1971</th>\n",
       "      <td>NaN</td>\n",
       "    </tr>\n",
       "    <tr>\n",
       "      <th>1972</th>\n",
       "      <td>NaN</td>\n",
       "    </tr>\n",
       "    <tr>\n",
       "      <th>1973</th>\n",
       "      <td>NaN</td>\n",
       "    </tr>\n",
       "    <tr>\n",
       "      <th>1974</th>\n",
       "      <td>NaN</td>\n",
       "    </tr>\n",
       "    <tr>\n",
       "      <th>1975</th>\n",
       "      <td>NaN</td>\n",
       "    </tr>\n",
       "    <tr>\n",
       "      <th>...</th>\n",
       "      <td>...</td>\n",
       "    </tr>\n",
       "    <tr>\n",
       "      <th>1985</th>\n",
       "      <td>NaN</td>\n",
       "    </tr>\n",
       "    <tr>\n",
       "      <th>1986</th>\n",
       "      <td>NaN</td>\n",
       "    </tr>\n",
       "    <tr>\n",
       "      <th>1987</th>\n",
       "      <td>NaN</td>\n",
       "    </tr>\n",
       "    <tr>\n",
       "      <th>1988</th>\n",
       "      <td>NaN</td>\n",
       "    </tr>\n",
       "    <tr>\n",
       "      <th>1989</th>\n",
       "      <td>NaN</td>\n",
       "    </tr>\n",
       "    <tr>\n",
       "      <th>1990</th>\n",
       "      <td>15800</td>\n",
       "    </tr>\n",
       "    <tr>\n",
       "      <th>1991</th>\n",
       "      <td>17100</td>\n",
       "    </tr>\n",
       "    <tr>\n",
       "      <th>1992</th>\n",
       "      <td>17300</td>\n",
       "    </tr>\n",
       "    <tr>\n",
       "      <th>1993</th>\n",
       "      <td>15400</td>\n",
       "    </tr>\n",
       "    <tr>\n",
       "      <th>1994</th>\n",
       "      <td>15700</td>\n",
       "    </tr>\n",
       "    <tr>\n",
       "      <th>1995</th>\n",
       "      <td>15200</td>\n",
       "    </tr>\n",
       "    <tr>\n",
       "      <th>1996</th>\n",
       "      <td>17500</td>\n",
       "    </tr>\n",
       "    <tr>\n",
       "      <th>1997</th>\n",
       "      <td>18600</td>\n",
       "    </tr>\n",
       "    <tr>\n",
       "      <th>1998</th>\n",
       "      <td>19200</td>\n",
       "    </tr>\n",
       "    <tr>\n",
       "      <th>1999</th>\n",
       "      <td>19900</td>\n",
       "    </tr>\n",
       "    <tr>\n",
       "      <th>2000</th>\n",
       "      <td>21000</td>\n",
       "    </tr>\n",
       "    <tr>\n",
       "      <th>2001</th>\n",
       "      <td>22000</td>\n",
       "    </tr>\n",
       "    <tr>\n",
       "      <th>2002</th>\n",
       "      <td>22800</td>\n",
       "    </tr>\n",
       "    <tr>\n",
       "      <th>2003</th>\n",
       "      <td>23300</td>\n",
       "    </tr>\n",
       "    <tr>\n",
       "      <th>2004</th>\n",
       "      <td>24000</td>\n",
       "    </tr>\n",
       "    <tr>\n",
       "      <th>2005</th>\n",
       "      <td>24500</td>\n",
       "    </tr>\n",
       "    <tr>\n",
       "      <th>2006</th>\n",
       "      <td>25300</td>\n",
       "    </tr>\n",
       "    <tr>\n",
       "      <th>2007</th>\n",
       "      <td>26200</td>\n",
       "    </tr>\n",
       "    <tr>\n",
       "      <th>2008</th>\n",
       "      <td>26300</td>\n",
       "    </tr>\n",
       "    <tr>\n",
       "      <th>2009</th>\n",
       "      <td>25200</td>\n",
       "    </tr>\n",
       "    <tr>\n",
       "      <th>2010</th>\n",
       "      <td>25700</td>\n",
       "    </tr>\n",
       "    <tr>\n",
       "      <th>2011</th>\n",
       "      <td>26000</td>\n",
       "    </tr>\n",
       "    <tr>\n",
       "      <th>2012</th>\n",
       "      <td>25700</td>\n",
       "    </tr>\n",
       "    <tr>\n",
       "      <th>2013</th>\n",
       "      <td>25600</td>\n",
       "    </tr>\n",
       "    <tr>\n",
       "      <th>2014</th>\n",
       "      <td>NaN</td>\n",
       "    </tr>\n",
       "  </tbody>\n",
       "</table>\n",
       "<p>69 rows × 1 columns</p>\n",
       "</div>"
      ],
      "text/plain": [
       "         IT\n",
       "1946    NaN\n",
       "1947    NaN\n",
       "1948    NaN\n",
       "1949    NaN\n",
       "1950    NaN\n",
       "1951    NaN\n",
       "1952    NaN\n",
       "1953    NaN\n",
       "1954    NaN\n",
       "1955    NaN\n",
       "1956    NaN\n",
       "1957    NaN\n",
       "1958    NaN\n",
       "1959    NaN\n",
       "1960    NaN\n",
       "1961    NaN\n",
       "1962    NaN\n",
       "1963    NaN\n",
       "1964    NaN\n",
       "1965    NaN\n",
       "1966    NaN\n",
       "1967    NaN\n",
       "1968    NaN\n",
       "1969    NaN\n",
       "1970    NaN\n",
       "1971    NaN\n",
       "1972    NaN\n",
       "1973    NaN\n",
       "1974    NaN\n",
       "1975    NaN\n",
       "...     ...\n",
       "1985    NaN\n",
       "1986    NaN\n",
       "1987    NaN\n",
       "1988    NaN\n",
       "1989    NaN\n",
       "1990  15800\n",
       "1991  17100\n",
       "1992  17300\n",
       "1993  15400\n",
       "1994  15700\n",
       "1995  15200\n",
       "1996  17500\n",
       "1997  18600\n",
       "1998  19200\n",
       "1999  19900\n",
       "2000  21000\n",
       "2001  22000\n",
       "2002  22800\n",
       "2003  23300\n",
       "2004  24000\n",
       "2005  24500\n",
       "2006  25300\n",
       "2007  26200\n",
       "2008  26300\n",
       "2009  25200\n",
       "2010  25700\n",
       "2011  26000\n",
       "2012  25700\n",
       "2013  25600\n",
       "2014    NaN\n",
       "\n",
       "[69 rows x 1 columns]"
      ]
     },
     "execution_count": 18,
     "metadata": {},
     "output_type": "execute_result"
    }
   ],
   "source": [
    "df = nama_gdp_c.to_data_frame('time', geo='IT')\n",
    "df"
   ]
  }
 ],
 "metadata": {
  "kernelspec": {
   "display_name": "Python 2",
   "language": "python",
   "name": "python2"
  },
  "language_info": {
   "codemirror_mode": {
    "name": "ipython",
    "version": 2
   },
   "file_extension": ".py",
   "mimetype": "text/x-python",
   "name": "python",
   "nbconvert_exporter": "python",
   "pygments_lexer": "ipython2",
   "version": "2.7.11"
  }
 },
 "nbformat": 4,
 "nbformat_minor": 0
}
