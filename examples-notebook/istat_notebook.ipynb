{
 "cells": [
  {
   "cell_type": "markdown",
   "metadata": {},
   "source": [
    "## Notebook: using jsonstat.py to explore Istat data\n",
    "This Jupyter notebook shows how to use [jsonstat.py](http://github.com/26fe/jsonstat.py) python library to explore Istat data.\n",
    "[Istat](http://www.istat.it/en/about-istat) is Italian National Institute of Statistics. It publishs a rest api for querying italian statistics. "
   ]
  },
  {
   "cell_type": "code",
   "execution_count": 1,
   "metadata": {
    "collapsed": true
   },
   "outputs": [],
   "source": [
    "from __future__ import print_function\n",
    "import os\n",
    "import pandas as ps\n",
    "import jsonstat\n",
    "import jsonstat.istat as istat"
   ]
  },
  {
   "cell_type": "markdown",
   "metadata": {},
   "source": [
    "Setting a cache dir to store json files download by Istat api"
   ]
  },
  {
   "cell_type": "code",
   "execution_count": 2,
   "metadata": {
    "collapsed": false
   },
   "outputs": [
    {
     "name": "stdout",
     "output_type": "stream",
     "text": [
      "cache_dir is '/Users/26fe_nas/prj.python/jsonstat.py/tmp/istat_cached'\n"
     ]
    }
   ],
   "source": [
    "cache_dir = os.path.abspath(os.path.join(\"..\", \"tmp\", \"istat_cached\"))\n",
    "if not os.path.exists(cache_dir):\n",
    "    os.makedirs(cache_dir)\n",
    "print(\"cache_dir is '{}'\".format(cache_dir))"
   ]
  },
  {
   "cell_type": "markdown",
   "metadata": {},
   "source": [
    "List all istat areas"
   ]
  },
  {
   "cell_type": "code",
   "execution_count": 3,
   "metadata": {
    "collapsed": false
   },
   "outputs": [
    {
     "name": "stdout",
     "output_type": "stream",
     "text": [
      "CEN:2011 Population and housing census\n",
      "ENT:Enterprises\n",
      "ENV:Environment and Energy\n",
      "POP:Population and Households\n",
      "HOU:Households Economic Conditions and Disparities\n",
      "HEA:Health statistics\n",
      "WEL:Social Security and Welfare\n",
      "EDU:Education and training\n",
      "COM:Communication, culture and leisure\n",
      "JUS:Justice and Security\n",
      "OPI:Citizens' opinions and satisfaction with life\n",
      "SOC:Social participation\n",
      "ACC:National Accounts\n",
      "AGR:Agriculture\n",
      "IND:Industry and Construction\n",
      "SER:Services\n",
      "PUB:Public Administrations and Private Institutions\n",
      "EXT:External Trade and Internationalisation\n",
      "PRI:Prices\n",
      "LAB:Labour\n"
     ]
    }
   ],
   "source": [
    "i = istat.Istat(cache_dir)\n",
    "for istat_area in i.areas():\n",
    "    print(istat_area)"
   ]
  },
  {
   "cell_type": "markdown",
   "metadata": {},
   "source": [
    "List all datasets contained into area `Prices`"
   ]
  },
  {
   "cell_type": "code",
   "execution_count": 4,
   "metadata": {
    "collapsed": false
   },
   "outputs": [
    {
     "name": "stdout",
     "output_type": "stream",
     "text": [
      "DCSP_FOI2(5):FOI  Annual average  until 2010\n",
      "DCSP_FOI3(4):FOI  Weights until 2010\n",
      "DCSP_FOI1(5):FOI  Monthly data until 2010\n",
      "DCSP_NICDUE(5):NIC  Annual average until 2010\n",
      "DCSP_NICTREB2010(4):NIC  Weights from 2011 onwards\n",
      "DCSP_FOI3B2010(4):FOI  Weights from 2011 onwards\n",
      "DCSP_IPAB(5):House price index \n",
      "DCSP_NICUNOBB2010(5):NIC  Monthly data from 2011 onwards\n",
      "DCSC_PREZPRODSERV_1(5):Services producer prices index\n",
      "DCSC_FABBRESID_1(5):Construction costs index - monthly data\n",
      "DCSP_NICTRE(4):NIC  Weights  until 2010\n",
      "DCSP_NICUNOB(5):NIC  Monthly data until 2010\n",
      "DCSP_IPCA1(5):HICP  Monthly data from 2001 onwards (base 2005=100)\n",
      "DCSP_IPCA2(5):HICP  Annual average from 2001 onwards (base 2005=100) \n",
      "DCSP_IPCA3(4):HICP  Weights from 2001 onwards\n",
      "DCSP_IPCATC2(5):HICP at constant tax rates  Annual average from 2002 onwards (base 2005=100) \n",
      "DCSP_IPCATC1(5):HICP at constant tax rates  Monthly data from 2002 onwards (base 2005=100) \n",
      "DCSP_FOI1B2010(5):FOI  Monthly data from 2011 onwards\n",
      "DCSP_NICDUEB2010(5):NIC  Annual average from 2011 onwards\n",
      "DCSC_PREZZPIND_1(6):Producer price index for industrial products - monthly data\n",
      "DCSP_FOI2B2010(5):FOI  Annual average from 2011  onwards\n"
     ]
    }
   ],
   "source": [
    "istat_area_name = 'Prices'\n",
    "istat_area = i.area(istat_area_name)\n",
    "\n",
    "for istat_dataset in istat_area.datasets():\n",
    "    print(u\"{}({}):{}\".format(istat_dataset.cod(), istat_dataset.nrdim(), istat_dataset.name()))"
   ]
  },
  {
   "cell_type": "markdown",
   "metadata": {},
   "source": [
    "List all dimension for dataset `DCSP_IPAB` (House price index)"
   ]
  },
  {
   "cell_type": "code",
   "execution_count": 5,
   "metadata": {
    "collapsed": false
   },
   "outputs": [
    {
     "name": "stdout",
     "output_type": "stream",
     "text": [
      "dim 0 'Territory' (1:'Italy')\n",
      "dim 1 'Index type' (18:'house price index (base 2010=100) - quarterly data', 19:'house price index (base 2010=100) - annual average', 20:'house price index (base 2010=100) - weights')\n",
      "dim 2 'Measure' (8:'annual average rate of change', 4:'index number', 22:'not applicable', 6:'percentage changes on the previous period', 7:'percentage changes on the same period of the previous year')\n",
      "dim 3 'Purchases of dwellings' (4:'H1 - all items', 5:'H11 - new dwellings', 6:'H12 - existing dwellings')\n",
      "dim 4 'Time and frequency' (2178:'Q3-2014', 2182:'Q4-2014', 2186:'2015', 2188:'Q1-2015', 2192:'Q2-2015', 2197:'Q3-2015', 2091:'2010', 2093:'Q1-2010', 2097:'Q2-2010', 2102:'Q3-2010', 2106:'Q4-2010', 2110:'2011', 2112:'Q1-2011', 2116:'Q2-2011', 2121:'Q3-2011', 2125:'Q4-2011', 2129:'2012', 2131:'Q1-2012', 2135:'Q2-2012', 2140:'Q3-2012', 2144:'Q4-2012', 2148:'2013', 2150:'Q1-2013', 2154:'Q2-2013', 2159:'Q3-2013', 2163:'Q4-2013', 2167:'2014', 2169:'Q1-2014', 2173:'Q2-2014')\n"
     ]
    }
   ],
   "source": [
    "istat_dataset_name = 'DCSP_IPAB'\n",
    "istat_dataset = istat_area.dataset(istat_dataset_name)\n",
    "istat_dataset.info_dimensions()"
   ]
  },
  {
   "cell_type": "markdown",
   "metadata": {},
   "source": [
    "Extract data from dataset `DCSP_IPAB` with dimension \"1,18,0,0,0\" where the first dimension is Territory, etc. Below is the mapping: \n",
    "- Territory 1 -> Italy\n",
    "- Type 18 -> 'house price index (base 2010=100) - quarterly data'\n",
    "- Measure 0 -> ALL \n",
    "- Purchase of dwelling 0 -> ALL\n",
    "- Time and frequency 0 -> ALL"
   ]
  },
  {
   "cell_type": "code",
   "execution_count": 6,
   "metadata": {
    "collapsed": true
   },
   "outputs": [],
   "source": [
    "json_stat_data = istat_dataset.getvalues(\"1,18,0,0,0\")"
   ]
  },
  {
   "cell_type": "markdown",
   "metadata": {},
   "source": [
    "Convert istat dataset into jsonstat collection and print some info"
   ]
  },
  {
   "cell_type": "code",
   "execution_count": 7,
   "metadata": {
    "collapsed": false
   },
   "outputs": [
    {
     "name": "stdout",
     "output_type": "stream",
     "text": [
      "0: dataset 'IDMISURA1*IDTYPPURCH*IDTIME'\n",
      "\n"
     ]
    }
   ],
   "source": [
    "collection = jsonstat.JsonStatCollection()\n",
    "collection.from_json(json_stat_data)\n",
    "collection.info()"
   ]
  },
  {
   "cell_type": "markdown",
   "metadata": {},
   "source": [
    "From the jsonstat collection print some info of one dataset"
   ]
  },
  {
   "cell_type": "code",
   "execution_count": 8,
   "metadata": {
    "collapsed": false
   },
   "outputs": [
    {
     "name": "stdout",
     "output_type": "stream",
     "text": [
      "name:   'IDMISURA1*IDTYPPURCH*IDTIME'\n",
      "label:  'House price index  by Measure, Purchases of dwellings and Time and frequency - Italy - house price index (base 2010=100) - quarterly data'\n",
      "size: 207\n",
      "3 dimensions:\n",
      "  0: dim id/name: 'IDMISURA1' size: '3' role: 'None'\n",
      "  1: dim id/name: 'IDTYPPURCH' size: '3' role: 'None'\n",
      "  2: dim id/name: 'IDTIME' size: '23' role: 'None'\n",
      "\n"
     ]
    }
   ],
   "source": [
    "jsonstat_dataset = collection.dataset('IDMISURA1*IDTYPPURCH*IDTIME')\n",
    "jsonstat_dataset.info()"
   ]
  }
 ],
 "metadata": {
  "kernelspec": {
   "display_name": "Python 2",
   "language": "python",
   "name": "python2"
  },
  "language_info": {
   "codemirror_mode": {
    "name": "ipython",
    "version": 2
   },
   "file_extension": ".py",
   "mimetype": "text/x-python",
   "name": "python",
   "nbconvert_exporter": "python",
   "pygments_lexer": "ipython2",
   "version": "2.7.11"
  }
 },
 "nbformat": 4,
 "nbformat_minor": 0
}
