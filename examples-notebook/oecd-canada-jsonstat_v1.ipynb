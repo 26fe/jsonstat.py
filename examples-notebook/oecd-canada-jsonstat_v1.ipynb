{
 "cells": [
  {
   "cell_type": "markdown",
   "metadata": {},
   "source": [
    "## Notebook: using jsonstat.py python library\n",
    "\n",
    "This Jupyter notebook shows the python library [jsonstat.py](http://github.com/26fe/jsonstat.py) in action.\n",
    "This example shows how to explore the jsonstat data file [oecd-canada](http://json-stat.org/samples/oecd-canada.json)"
   ]
  },
  {
   "cell_type": "code",
   "execution_count": 24,
   "metadata": {
    "collapsed": false
   },
   "outputs": [],
   "source": [
    "from __future__ import print_function\n",
    "import os\n",
    "import pandas as ps\n",
    "import jsonstat"
   ]
  },
  {
   "cell_type": "markdown",
   "metadata": {},
   "source": [
    "Download or use the jsonstat file cached on disk"
   ]
  },
  {
   "cell_type": "code",
   "execution_count": 25,
   "metadata": {
    "collapsed": false
   },
   "outputs": [
    {
     "name": "stdout",
     "output_type": "stream",
     "text": [
      "using file from fixtures\n"
     ]
    }
   ],
   "source": [
    "url = 'http://json-stat.org/samples/oecd-canada.json'\n",
    "file_name = \"oecd-canada.json\"\n",
    "\n",
    "file_path = os.path.abspath(os.path.join(\"..\", \"tests\", \"fixtures\", \"collection\", file_name))\n",
    "if os.path.exists(file_path):\n",
    "    print(\"using file from fixtures\")\n",
    "else:\n",
    "    print(\"download file into the current directory\")\n",
    "    jsonstat.download(url, file_name)\n",
    "    file_path = file_name"
   ]
  },
  {
   "cell_type": "markdown",
   "metadata": {},
   "source": [
    "Initialize JsonStatCollection from the file and print some info."
   ]
  },
  {
   "cell_type": "code",
   "execution_count": 26,
   "metadata": {
    "collapsed": false
   },
   "outputs": [
    {
     "name": "stdout",
     "output_type": "stream",
     "text": [
      "0: dataset 'oecd'\n",
      "1: dataset 'canada'\n",
      "\n"
     ]
    }
   ],
   "source": [
    "collection = jsonstat.JsonStatCollection()\n",
    "collection.from_file(file_path)\n",
    "collection.info()"
   ]
  },
  {
   "cell_type": "code",
   "execution_count": 27,
   "metadata": {
    "collapsed": false
   },
   "outputs": [
    {
     "name": "stdout",
     "output_type": "stream",
     "text": [
      "*** dataset 'oecd info\n",
      "name:   'oecd'\n",
      "label:  'Unemployment rate in the OECD countries 2003-2014'\n",
      "source: 'Unemployment rate in the OECD countries 2003-2014'\n",
      "\n",
      "dimensions:\n",
      "dim id/name: 'concept' size: '1' role: 'metric'\n",
      "dim id/name: 'area' size: '36' role: 'geo'\n",
      "dim id/name: 'year' size: '12' role: 'time'\n",
      "\n"
     ]
    }
   ],
   "source": [
    "oecd = collection.dataset('oecd')\n",
    "print(\"*** dataset '{} info\".format(oecd.name()))\n",
    "oecd.info()"
   ]
  },
  {
   "cell_type": "code",
   "execution_count": 28,
   "metadata": {
    "collapsed": false
   },
   "outputs": [
    {
     "name": "stdout",
     "output_type": "stream",
     "text": [
      "*** info for dimensions 'concept'\n",
      "index\n",
      "  pos    idx  label\n",
      "    0    UNR unemployment rate\n",
      "\n",
      "*** info for dimensions 'year'\n",
      "index\n",
      "  pos    idx  label\n",
      "    0   2003       \n",
      "    1   2004       \n",
      "    2   2005       \n",
      "    3   2006       \n",
      "    4   2007       \n",
      "    5   2008       \n",
      "    6   2009       \n",
      "    7   2010       \n",
      "    8   2011       \n",
      "    9   2012       \n",
      "   10   2013       \n",
      "   11   2014       \n",
      "\n",
      "*** info for dimensions 'area'\n",
      "index\n",
      "  pos    idx  label\n",
      "    0     AU Australia\n",
      "    1     AT Austria\n",
      "    2     BE Belgium\n",
      "    3     CA Canada\n",
      "    4     CL  Chile\n",
      "    5     CZ Czech Republic\n",
      "    6     DK Denmark\n",
      "    7     EE Estonia\n",
      "    8     FI Finland\n",
      "    9     FR France\n",
      "   10     DE Germany\n",
      "   11     GR Greece\n",
      "   12     HU Hungary\n",
      "   13     IS Iceland\n",
      "   14     IE Ireland\n",
      "   15     IL Israel\n",
      "   16     IT  Italy\n",
      "   17     JP  Japan\n",
      "   18     KR  Korea\n",
      "   19     LU Luxembourg\n",
      "   20     MX Mexico\n",
      "   21     NL Netherlands\n",
      "   22     NZ New Zealand\n",
      "   23     NO Norway\n",
      "   24     PL Poland\n",
      "   25     PT Portugal\n",
      "   26     SK Slovak Republic\n",
      "   27     SI Slovenia\n",
      "   28     ES  Spain\n",
      "   29     SE Sweden\n",
      "   30     CH Switzerland\n",
      "   31     TR Turkey\n",
      "   32     UK United Kingdom\n",
      "   33     US United States\n",
      "   34   EU15 Euro area (15 countries)\n",
      "   35   OECD  total\n",
      "\n"
     ]
    }
   ],
   "source": [
    "for d in oecd.dimensions():\n",
    "    print(\"*** info for dimensions '{}'\".format(d.name()))\n",
    "    d.info()"
   ]
  },
  {
   "cell_type": "markdown",
   "metadata": {},
   "source": [
    "Value for oecd(area:IT,year:2012)"
   ]
  },
  {
   "cell_type": "code",
   "execution_count": 29,
   "metadata": {
    "collapsed": false
   },
   "outputs": [
    {
     "data": {
      "text/plain": [
       "8.264570818"
      ]
     },
     "execution_count": 29,
     "metadata": {},
     "output_type": "execute_result"
    }
   ],
   "source": [
    "oecd.value(area='IT', year='2012')"
   ]
  },
  {
   "cell_type": "code",
   "execution_count": 30,
   "metadata": {
    "collapsed": false
   },
   "outputs": [
    {
     "name": "stdout",
     "output_type": "stream",
     "text": [
      "             CA\n",
      "2003   4.789363\n",
      "2004   6.307841\n",
      "2005   3.868296\n",
      "2006   8.835277\n",
      "2007   7.451741\n",
      "2008  10.475967\n",
      "2009   3.450432\n",
      "2010   4.209946\n",
      "2011  13.840391\n",
      "2012   5.945157\n",
      "2013   3.941659\n",
      "2014   4.617465\n"
     ]
    }
   ],
   "source": [
    "df = oecd.to_data_frame('year', area='CA')\n",
    "print(df)"
   ]
  },
  {
   "cell_type": "code",
   "execution_count": 31,
   "metadata": {
    "collapsed": false
   },
   "outputs": [
    {
     "data": {
      "text/plain": [
       "<matplotlib.axes._subplots.AxesSubplot at 0x107e08750>"
      ]
     },
     "execution_count": 31,
     "metadata": {},
     "output_type": "execute_result"
    },
    {
     "data": {
      "image/png": "[encoded data removed]",
      "text/plain": [
       "<matplotlib.figure.Figure at 0x107df52d0>"
      ]
     },
     "metadata": {},
     "output_type": "display_data"
    }
   ],
   "source": [
    "import matplotlib as plt\n",
    "%matplotlib inline\n",
    "df.plot()"
   ]
  },
  {
   "cell_type": "code",
   "execution_count": null,
   "metadata": {
    "collapsed": true
   },
   "outputs": [],
   "source": []
  }
 ],
 "metadata": {
  "kernelspec": {
   "display_name": "Python 2",
   "language": "python",
   "name": "python2"
  },
  "language_info": {
   "codemirror_mode": {
    "name": "ipython",
    "version": 2
   },
   "file_extension": ".py",
   "mimetype": "text/x-python",
   "name": "python",
   "nbconvert_exporter": "python",
   "pygments_lexer": "ipython2",
   "version": "2.7.11"
  }
 },
 "nbformat": 4,
 "nbformat_minor": 0
}
