{
 "cells": [
  {
   "cell_type": "markdown",
   "metadata": {},
   "source": [
    "## Notebook: using jsonstat.py with eurostat api\n",
    "\n",
    "This Jupyter notebook shows the python library [jsonstat.py](http://github.com/26fe/jsonstat.py) in action. \n",
    "It shows how to explore dataset downloaded from a data provider. This notebook uses some datasets from Eurostat. \n",
    "\n",
    "Eurostat provides a rest api to download its datasets. You can find details about the api [here](http://ec.europa.eu/eurostat/web/json-and-unicode-web-services)\n",
    "It is possible to use a [query builder](http://ec.europa.eu/eurostat/web/json-and-unicode-web-services/getting-started/query-builder) for discovering the rest api parameters  <img src=\"eurostat_query_builder_step2.png\" width=\"50%\" height=\"50%\"/>"
   ]
  },
  {
   "cell_type": "code",
   "execution_count": 1,
   "metadata": {
    "collapsed": true
   },
   "outputs": [],
   "source": [
    "from __future__ import print_function\n",
    "import os\n",
    "import pandas as ps\n",
    "import jsonstat"
   ]
  },
  {
   "cell_type": "markdown",
   "metadata": {},
   "source": [
    "### Exploring data with one dimension (time) with size > 1\n",
    "\n",
    "Download or use the json file cached on disk. Caching file is useful to avoid download file every time. Caching can speed the development, and provides consistent result.\n",
    "You can see the raw data [here](http://ec.europa.eu/eurostat/wdds/rest/data/v1.1/json/en/nama_gdp_c?precision=1&geo=IT&unit=EUR_HAB&indic_na=B1GM)"
   ]
  },
  {
   "cell_type": "code",
   "execution_count": 2,
   "metadata": {
    "collapsed": false
   },
   "outputs": [
    {
     "name": "stdout",
     "output_type": "stream",
     "text": [
      "using alredy donwloaded file /Users/26fe_nas/prj.python/jsonstat.py/tests/fixtures/eurostat/eurostat-name_gpd_c-geo_IT.json\n"
     ]
    }
   ],
   "source": [
    "url_1 = 'http://ec.europa.eu/eurostat/wdds/rest/data/v1.1/json/en/nama_gdp_c?precision=1&geo=IT&unit=EUR_HAB&indic_na=B1GM'\n",
    "file_name_1 = \"eurostat-name_gpd_c-geo_IT.json\"\n",
    "\n",
    "file_path_1 = os.path.abspath(os.path.join(\"..\", \"tests\", \"fixtures\", \"eurostat\", file_name_1))\n",
    "if os.path.exists(file_path_1):\n",
    "    print(\"using alredy donwloaded file {}\".format(file_path_1))\n",
    "else:\n",
    "    print(\"download file\")\n",
    "    jsonstat.download(url_1, file_name_1)\n",
    "    file_path_1 = file_name_1"
   ]
  },
  {
   "cell_type": "markdown",
   "metadata": {},
   "source": [
    "Initialize JsonStatCollection with eurostat data and print some info about the collection."
   ]
  },
  {
   "cell_type": "code",
   "execution_count": 3,
   "metadata": {
    "collapsed": false
   },
   "outputs": [
    {
     "data": {
      "text/plain": [
       "0: dataset 'nama_gdp_c'"
      ]
     },
     "execution_count": 3,
     "metadata": {},
     "output_type": "execute_result"
    }
   ],
   "source": [
    "collection_1 = jsonstat.JsonStatCollection()\n",
    "collection_1.from_file(file_path_1)"
   ]
  },
  {
   "cell_type": "markdown",
   "metadata": {},
   "source": [
    "Previous collection contains only a dataset named '`nama_gdp_c`'"
   ]
  },
  {
   "cell_type": "code",
   "execution_count": 4,
   "metadata": {
    "collapsed": false
   },
   "outputs": [
    {
     "data": {
      "text/plain": [
       "name:   'nama_gdp_c'\n",
       "title:  'GDP and main components - Current prices'\n",
       "size: 69\n",
       "4 dimensions:\n",
       "  0: dim id: 'unit' label: 'unit' size: '1' role: 'None'\n",
       "  1: dim id: 'indic_na' label: 'indic_na' size: '1' role: 'None'\n",
       "  2: dim id: 'geo' label: 'geo' size: '1' role: 'None'\n",
       "  3: dim id: 'time' label: 'time' size: '69' role: 'None'"
      ]
     },
     "execution_count": 4,
     "metadata": {},
     "output_type": "execute_result"
    }
   ],
   "source": [
    "nama_gdp_c_1 = collection_1.dataset('nama_gdp_c')\n",
    "nama_gdp_c_1"
   ]
  },
  {
   "cell_type": "markdown",
   "metadata": {},
   "source": [
    "All dimensions of the dataset '`nama_gdp_c`' are of size 1 with exception of `time` dimension. Let's explore the time dimension."
   ]
  },
  {
   "cell_type": "code",
   "execution_count": 5,
   "metadata": {
    "collapsed": false
   },
   "outputs": [
    {
     "data": {
      "text/plain": [
       "index\n",
       "  pos idx      label   \n",
       "    0 '1946'   '1946'  \n",
       "    1 '1947'   '1947'  \n",
       "    2 '1948'   '1948'  \n",
       "    3 '1949'   '1949'  \n",
       "    4 '1950'   '1950'  \n",
       "    5 '1951'   '1951'  \n",
       "    6 '1952'   '1952'  \n",
       "    7 '1953'   '1953'  \n",
       "    8 '1954'   '1954'  \n",
       "    9 '1955'   '1955'  \n",
       "   10 '1956'   '1956'  \n",
       "   11 '1957'   '1957'  \n",
       "   12 '1958'   '1958'  \n",
       "   13 '1959'   '1959'  \n",
       "   14 '1960'   '1960'  \n",
       "   15 '1961'   '1961'  \n",
       "   16 '1962'   '1962'  \n",
       "   17 '1963'   '1963'  \n",
       "   18 '1964'   '1964'  \n",
       "   19 '1965'   '1965'  \n",
       "   20 '1966'   '1966'  \n",
       "   21 '1967'   '1967'  \n",
       "   22 '1968'   '1968'  \n",
       "   23 '1969'   '1969'  \n",
       "   24 '1970'   '1970'  \n",
       "   25 '1971'   '1971'  \n",
       "   26 '1972'   '1972'  \n",
       "   27 '1973'   '1973'  \n",
       "   28 '1974'   '1974'  \n",
       "   29 '1975'   '1975'  \n",
       "   30 '1976'   '1976'  \n",
       "   31 '1977'   '1977'  \n",
       "   32 '1978'   '1978'  \n",
       "   33 '1979'   '1979'  \n",
       "   34 '1980'   '1980'  \n",
       "   35 '1981'   '1981'  \n",
       "   36 '1982'   '1982'  \n",
       "   37 '1983'   '1983'  \n",
       "   38 '1984'   '1984'  \n",
       "   39 '1985'   '1985'  \n",
       "   40 '1986'   '1986'  \n",
       "   41 '1987'   '1987'  \n",
       "   42 '1988'   '1988'  \n",
       "   43 '1989'   '1989'  \n",
       "   44 '1990'   '1990'  \n",
       "   45 '1991'   '1991'  \n",
       "   46 '1992'   '1992'  \n",
       "   47 '1993'   '1993'  \n",
       "   48 '1994'   '1994'  \n",
       "   49 '1995'   '1995'  \n",
       "   50 '1996'   '1996'  \n",
       "   51 '1997'   '1997'  \n",
       "   52 '1998'   '1998'  \n",
       "   53 '1999'   '1999'  \n",
       "   54 '2000'   '2000'  \n",
       "   55 '2001'   '2001'  \n",
       "   56 '2002'   '2002'  \n",
       "   57 '2003'   '2003'  \n",
       "   58 '2004'   '2004'  \n",
       "   59 '2005'   '2005'  \n",
       "   60 '2006'   '2006'  \n",
       "   61 '2007'   '2007'  \n",
       "   62 '2008'   '2008'  \n",
       "   63 '2009'   '2009'  \n",
       "   64 '2010'   '2010'  \n",
       "   65 '2011'   '2011'  \n",
       "   66 '2012'   '2012'  \n",
       "   67 '2013'   '2013'  \n",
       "   68 '2014'   '2014'  "
      ]
     },
     "execution_count": 5,
     "metadata": {},
     "output_type": "execute_result"
    }
   ],
   "source": [
    "nama_gdp_c_1.dimension('time')"
   ]
  },
  {
   "cell_type": "markdown",
   "metadata": {},
   "source": [
    "Get value for year 2012."
   ]
  },
  {
   "cell_type": "code",
   "execution_count": 6,
   "metadata": {
    "collapsed": false
   },
   "outputs": [
    {
     "data": {
      "text/plain": [
       "25700"
      ]
     },
     "execution_count": 6,
     "metadata": {},
     "output_type": "execute_result"
    }
   ],
   "source": [
    "nama_gdp_c_1.value(time='2012')"
   ]
  },
  {
   "cell_type": "markdown",
   "metadata": {},
   "source": [
    "Convert the jsonstat data into a pandas dataframe."
   ]
  },
  {
   "cell_type": "code",
   "execution_count": 7,
   "metadata": {
    "collapsed": false
   },
   "outputs": [
    {
     "data": {
      "text/html": [
       "<div>\n",
       "<table border=\"1\" class=\"dataframe\">\n",
       "  <thead>\n",
       "    <tr style=\"text-align: right;\">\n",
       "      <th></th>\n",
       "      <th>unit</th>\n",
       "      <th>indic_na</th>\n",
       "      <th>geo</th>\n",
       "      <th>Value</th>\n",
       "    </tr>\n",
       "    <tr>\n",
       "      <th>time</th>\n",
       "      <th></th>\n",
       "      <th></th>\n",
       "      <th></th>\n",
       "      <th></th>\n",
       "    </tr>\n",
       "  </thead>\n",
       "  <tbody>\n",
       "    <tr>\n",
       "      <th>2010</th>\n",
       "      <td>EUR_HAB</td>\n",
       "      <td>B1GM</td>\n",
       "      <td>IT</td>\n",
       "      <td>25700</td>\n",
       "    </tr>\n",
       "    <tr>\n",
       "      <th>2011</th>\n",
       "      <td>EUR_HAB</td>\n",
       "      <td>B1GM</td>\n",
       "      <td>IT</td>\n",
       "      <td>26000</td>\n",
       "    </tr>\n",
       "    <tr>\n",
       "      <th>2012</th>\n",
       "      <td>EUR_HAB</td>\n",
       "      <td>B1GM</td>\n",
       "      <td>IT</td>\n",
       "      <td>25700</td>\n",
       "    </tr>\n",
       "    <tr>\n",
       "      <th>2013</th>\n",
       "      <td>EUR_HAB</td>\n",
       "      <td>B1GM</td>\n",
       "      <td>IT</td>\n",
       "      <td>25600</td>\n",
       "    </tr>\n",
       "    <tr>\n",
       "      <th>2014</th>\n",
       "      <td>EUR_HAB</td>\n",
       "      <td>B1GM</td>\n",
       "      <td>IT</td>\n",
       "      <td>NaN</td>\n",
       "    </tr>\n",
       "  </tbody>\n",
       "</table>\n",
       "</div>"
      ],
      "text/plain": [
       "         unit indic_na geo  Value\n",
       "time                             \n",
       "2010  EUR_HAB     B1GM  IT  25700\n",
       "2011  EUR_HAB     B1GM  IT  26000\n",
       "2012  EUR_HAB     B1GM  IT  25700\n",
       "2013  EUR_HAB     B1GM  IT  25600\n",
       "2014  EUR_HAB     B1GM  IT    NaN"
      ]
     },
     "execution_count": 7,
     "metadata": {},
     "output_type": "execute_result"
    }
   ],
   "source": [
    "df_1 = nama_gdp_c_1.to_data_frame('time', content='id')\n",
    "df_1.tail()"
   ]
  },
  {
   "cell_type": "markdown",
   "metadata": {},
   "source": [
    "Adding a simple plot"
   ]
  },
  {
   "cell_type": "code",
   "execution_count": 8,
   "metadata": {
    "collapsed": false
   },
   "outputs": [
    {
     "data": {
      "text/plain": [
       "<matplotlib.axes._subplots.AxesSubplot at 0x11420d630>"
      ]
     },
     "execution_count": 8,
     "metadata": {},
     "output_type": "execute_result"
    },
    {
     "data": {
      "image/png": "[encoded data removed]",
      "text/plain": [
       "<matplotlib.figure.Figure at 0x113d7b278>"
      ]
     },
     "metadata": {},
     "output_type": "display_data"
    }
   ],
   "source": [
    "import matplotlib as plt\n",
    "%matplotlib inline\n",
    "\n",
    "df_1 = df_1.dropna()\n",
    "df_1.plot()"
   ]
  },
  {
   "cell_type": "markdown",
   "metadata": {},
   "source": [
    "### Exploring data with two dimensions (geo, time) with size > 1\n",
    "Download or use the jsonstat file cached on disk. The cache is used to avoid internet download during the devolopment to make the things a bit faster.\n",
    "You can see the raw data [here](http://ec.europa.eu/eurostat/wdds/rest/data/v1.1/json/en/nama_gdp_c?precision=1&geo=IT&geo=FR&unit=EUR_HAB&indic_na=B1GM)"
   ]
  },
  {
   "cell_type": "code",
   "execution_count": 9,
   "metadata": {
    "collapsed": false
   },
   "outputs": [
    {
     "name": "stdout",
     "output_type": "stream",
     "text": [
      "using alredy donwloaded file /Users/26fe_nas/prj.python/jsonstat.py/tests/fixtures/eurostat/eurostat-name_gpd_c-geo_IT_FR.json\n"
     ]
    }
   ],
   "source": [
    "url_2 = 'http://ec.europa.eu/eurostat/wdds/rest/data/v1.1/json/en/nama_gdp_c?precision=1&geo=IT&geo=FR&unit=EUR_HAB&indic_na=B1GM'\n",
    "file_name_2 = \"eurostat-name_gpd_c-geo_IT_FR.json\"\n",
    "\n",
    "file_path_2 = os.path.abspath(os.path.join(\"..\", \"tests\", \"fixtures\", \"eurostat\", file_name_2))\n",
    "if os.path.exists(file_path_2):\n",
    "    print(\"using alredy donwloaded file {}\".format(file_path_2))\n",
    "else:\n",
    "    print(\"download file and storing on disk\")\n",
    "    jsonstat.download(url, file_name_2)\n",
    "    file_path_2 = file_name_2"
   ]
  },
  {
   "cell_type": "code",
   "execution_count": 10,
   "metadata": {
    "collapsed": false
   },
   "outputs": [
    {
     "data": {
      "text/plain": [
       "name:   'nama_gdp_c'\n",
       "title:  'GDP and main components - Current prices'\n",
       "size: 138\n",
       "4 dimensions:\n",
       "  0: dim id: 'unit' label: 'unit' size: '1' role: 'None'\n",
       "  1: dim id: 'indic_na' label: 'indic_na' size: '1' role: 'None'\n",
       "  2: dim id: 'geo' label: 'geo' size: '2' role: 'None'\n",
       "  3: dim id: 'time' label: 'time' size: '69' role: 'None'"
      ]
     },
     "execution_count": 10,
     "metadata": {},
     "output_type": "execute_result"
    }
   ],
   "source": [
    "collection_2 = jsonstat.JsonStatCollection()\n",
    "collection_2.from_file(file_path_2)\n",
    "nama_gdp_c_2 = collection_2.dataset('nama_gdp_c')\n",
    "nama_gdp_c_2"
   ]
  },
  {
   "cell_type": "code",
   "execution_count": 11,
   "metadata": {
    "collapsed": false
   },
   "outputs": [
    {
     "data": {
      "text/plain": [
       "index\n",
       "  pos idx      label   \n",
       "    0 'FR'     'France'\n",
       "    1 'IT'     'Italy' "
      ]
     },
     "execution_count": 11,
     "metadata": {},
     "output_type": "execute_result"
    }
   ],
   "source": [
    "nama_gdp_c_2.dimension('geo')"
   ]
  },
  {
   "cell_type": "code",
   "execution_count": 12,
   "metadata": {
    "collapsed": false
   },
   "outputs": [
    {
     "data": {
      "text/plain": [
       "25700"
      ]
     },
     "execution_count": 12,
     "metadata": {},
     "output_type": "execute_result"
    }
   ],
   "source": [
    "nama_gdp_c_2.value(time='2012',geo='IT')"
   ]
  },
  {
   "cell_type": "code",
   "execution_count": 13,
   "metadata": {
    "collapsed": false
   },
   "outputs": [
    {
     "data": {
      "text/plain": [
       "31100"
      ]
     },
     "execution_count": 13,
     "metadata": {},
     "output_type": "execute_result"
    }
   ],
   "source": [
    "nama_gdp_c_2.value(time='2012',geo='FR')"
   ]
  },
  {
   "cell_type": "code",
   "execution_count": 14,
   "metadata": {
    "collapsed": false
   },
   "outputs": [
    {
     "data": {
      "text/html": [
       "<div>\n",
       "<table border=\"1\" class=\"dataframe\">\n",
       "  <thead>\n",
       "    <tr style=\"text-align: right;\">\n",
       "      <th></th>\n",
       "      <th>unit</th>\n",
       "      <th>indic_na</th>\n",
       "      <th>geo</th>\n",
       "      <th>Value</th>\n",
       "    </tr>\n",
       "    <tr>\n",
       "      <th>time</th>\n",
       "      <th></th>\n",
       "      <th></th>\n",
       "      <th></th>\n",
       "      <th></th>\n",
       "    </tr>\n",
       "  </thead>\n",
       "  <tbody>\n",
       "    <tr>\n",
       "      <th>2010</th>\n",
       "      <td>EUR_HAB</td>\n",
       "      <td>B1GM</td>\n",
       "      <td>IT</td>\n",
       "      <td>25700</td>\n",
       "    </tr>\n",
       "    <tr>\n",
       "      <th>2011</th>\n",
       "      <td>EUR_HAB</td>\n",
       "      <td>B1GM</td>\n",
       "      <td>IT</td>\n",
       "      <td>26000</td>\n",
       "    </tr>\n",
       "    <tr>\n",
       "      <th>2012</th>\n",
       "      <td>EUR_HAB</td>\n",
       "      <td>B1GM</td>\n",
       "      <td>IT</td>\n",
       "      <td>25700</td>\n",
       "    </tr>\n",
       "    <tr>\n",
       "      <th>2013</th>\n",
       "      <td>EUR_HAB</td>\n",
       "      <td>B1GM</td>\n",
       "      <td>IT</td>\n",
       "      <td>25600</td>\n",
       "    </tr>\n",
       "    <tr>\n",
       "      <th>2014</th>\n",
       "      <td>EUR_HAB</td>\n",
       "      <td>B1GM</td>\n",
       "      <td>IT</td>\n",
       "      <td>NaN</td>\n",
       "    </tr>\n",
       "  </tbody>\n",
       "</table>\n",
       "</div>"
      ],
      "text/plain": [
       "         unit indic_na geo  Value\n",
       "time                             \n",
       "2010  EUR_HAB     B1GM  IT  25700\n",
       "2011  EUR_HAB     B1GM  IT  26000\n",
       "2012  EUR_HAB     B1GM  IT  25700\n",
       "2013  EUR_HAB     B1GM  IT  25600\n",
       "2014  EUR_HAB     B1GM  IT    NaN"
      ]
     },
     "execution_count": 14,
     "metadata": {},
     "output_type": "execute_result"
    }
   ],
   "source": [
    "df_2 = nama_gdp_c_2.to_data_frame('time', content='id')\n",
    "df_2.tail()"
   ]
  },
  {
   "cell_type": "code",
   "execution_count": 15,
   "metadata": {
    "collapsed": false
   },
   "outputs": [
    {
     "data": {
      "text/plain": [
       "<matplotlib.axes._subplots.AxesSubplot at 0x116a90198>"
      ]
     },
     "execution_count": 15,
     "metadata": {},
     "output_type": "execute_result"
    },
    {
     "data": {
      "image/png": "[encoded data removed]",
      "text/plain": [
       "<matplotlib.figure.Figure at 0x1165feb70>"
      ]
     },
     "metadata": {},
     "output_type": "display_data"
    }
   ],
   "source": [
    "df_2 = nama_gdp_c_2.to_data_frame('time', content='id', blocked_dims={'geo':'FR'})\n",
    "df_2 = df_2.dropna()\n",
    "df_2.plot()"
   ]
  },
  {
   "cell_type": "code",
   "execution_count": 16,
   "metadata": {
    "collapsed": false
   },
   "outputs": [
    {
     "data": {
      "text/html": [
       "<div>\n",
       "<table border=\"1\" class=\"dataframe\">\n",
       "  <thead>\n",
       "    <tr style=\"text-align: right;\">\n",
       "      <th></th>\n",
       "      <th>unit</th>\n",
       "      <th>indic_na</th>\n",
       "      <th>geo</th>\n",
       "      <th>Value</th>\n",
       "    </tr>\n",
       "    <tr>\n",
       "      <th>time</th>\n",
       "      <th></th>\n",
       "      <th></th>\n",
       "      <th></th>\n",
       "      <th></th>\n",
       "    </tr>\n",
       "  </thead>\n",
       "  <tbody>\n",
       "    <tr>\n",
       "      <th>2010</th>\n",
       "      <td>EUR_HAB</td>\n",
       "      <td>B1GM</td>\n",
       "      <td>IT</td>\n",
       "      <td>25700</td>\n",
       "    </tr>\n",
       "    <tr>\n",
       "      <th>2011</th>\n",
       "      <td>EUR_HAB</td>\n",
       "      <td>B1GM</td>\n",
       "      <td>IT</td>\n",
       "      <td>26000</td>\n",
       "    </tr>\n",
       "    <tr>\n",
       "      <th>2012</th>\n",
       "      <td>EUR_HAB</td>\n",
       "      <td>B1GM</td>\n",
       "      <td>IT</td>\n",
       "      <td>25700</td>\n",
       "    </tr>\n",
       "    <tr>\n",
       "      <th>2013</th>\n",
       "      <td>EUR_HAB</td>\n",
       "      <td>B1GM</td>\n",
       "      <td>IT</td>\n",
       "      <td>25600</td>\n",
       "    </tr>\n",
       "    <tr>\n",
       "      <th>2014</th>\n",
       "      <td>EUR_HAB</td>\n",
       "      <td>B1GM</td>\n",
       "      <td>IT</td>\n",
       "      <td>NaN</td>\n",
       "    </tr>\n",
       "  </tbody>\n",
       "</table>\n",
       "</div>"
      ],
      "text/plain": [
       "         unit indic_na geo  Value\n",
       "time                             \n",
       "2010  EUR_HAB     B1GM  IT  25700\n",
       "2011  EUR_HAB     B1GM  IT  26000\n",
       "2012  EUR_HAB     B1GM  IT  25700\n",
       "2013  EUR_HAB     B1GM  IT  25600\n",
       "2014  EUR_HAB     B1GM  IT    NaN"
      ]
     },
     "execution_count": 16,
     "metadata": {},
     "output_type": "execute_result"
    }
   ],
   "source": [
    "df_2 = nama_gdp_c_2.to_data_frame('time', content='id', blocked_dims={'geo':'IT'})\n",
    "df_2.tail()"
   ]
  }
 ],
 "metadata": {
  "kernelspec": {
   "display_name": "Python 3",
   "language": "python",
   "name": "python3"
  },
  "language_info": {
   "codemirror_mode": {
    "name": "ipython",
    "version": 3
   },
   "file_extension": ".py",
   "mimetype": "text/x-python",
   "name": "python",
   "nbconvert_exporter": "python",
   "pygments_lexer": "ipython3",
   "version": "3.5.1"
  }
 },
 "nbformat": 4,
 "nbformat_minor": 0
}
