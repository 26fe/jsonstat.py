{
 "cells": [
  {
   "cell_type": "markdown",
   "metadata": {},
   "source": [
    "### Notebook: using jsonstat.py with cso.ie dataset\n",
    "\n",
    "This Jupyter notebook shows the python library [jsonstat.py](http://github.com/26fe/jsonstat.py) in action. \n",
    "It shows how to explore dataset from cso.ie data provider. "
   ]
  },
  {
   "cell_type": "code",
   "execution_count": 1,
   "metadata": {
    "collapsed": true
   },
   "outputs": [],
   "source": [
    "# all import here\n",
    "import os\n",
    "import jsonstat"
   ]
  },
  {
   "cell_type": "markdown",
   "metadata": {},
   "source": [
    "**using a cache_dir**\n",
    "\n",
    "Caching can speed the development, and provides consistent results.\n"
   ]
  },
  {
   "cell_type": "code",
   "execution_count": 2,
   "metadata": {
    "collapsed": false
   },
   "outputs": [
    {
     "data": {
      "text/plain": [
       "'/Users/26fe_nas/gioprj.on_mac/prj.python/jsonstat.py/tests/fixtures/www.cso.ie'"
      ]
     },
     "execution_count": 2,
     "metadata": {},
     "output_type": "execute_result"
    }
   ],
   "source": [
    "cache_dir = os.path.abspath(os.path.join(\"..\", \"tests\", \"fixtures\", \"www.cso.ie\"))\n",
    "jsonstat.cache_dir(cache_dir)"
   ]
  },
  {
   "cell_type": "markdown",
   "metadata": {},
   "source": [
    "using NQQ25 dataset"
   ]
  },
  {
   "cell_type": "code",
   "execution_count": 3,
   "metadata": {
    "collapsed": true
   },
   "outputs": [],
   "source": [
    "base_uri = 'http://www.cso.ie/StatbankServices/StatbankServices.svc/jsonservice/responseinstance/'\n",
    "uri = base_uri + \"NQQ25\"\n",
    "filename = \"cso_ie-NQQ25.json\""
   ]
  },
  {
   "cell_type": "code",
   "execution_count": 4,
   "metadata": {
    "collapsed": false
   },
   "outputs": [
    {
     "data": {
      "text/html": [
       "JsonstatCollection contains the following JsonStatDataSet:</br><table><tr><td>pos</td><td>dataset</td></tr><tr><td>0</td><td>'dataset'</td></tr></table>"
      ],
      "text/plain": [
       "JsonstatCollection contains the following JsonStatDataSet:\n",
       "+-----+-----------+\n",
       "| pos | dataset   |\n",
       "+-----+-----------+\n",
       "| 0   | 'dataset' |\n",
       "+-----+-----------+"
      ]
     },
     "execution_count": 4,
     "metadata": {},
     "output_type": "execute_result"
    }
   ],
   "source": [
    "collection_1 = jsonstat.from_url(uri, filename)\n",
    "collection_1"
   ]
  },
  {
   "cell_type": "markdown",
   "metadata": {},
   "source": [
    "Previous collection contains only a dataset named '`nama_gdp_c`'"
   ]
  },
  {
   "cell_type": "code",
   "execution_count": 5,
   "metadata": {
    "collapsed": false
   },
   "outputs": [
    {
     "data": {
      "text/html": [
       "name:   'dataset'</br>label:  'Gross Domestic Product at Constant Factor Cost (chain linked annually and referenced to 2013) by Sector, Quarter and Statistic'</br>source: 'Gross Domestic Product at Constant Factor Cost (chain linked annually and referenced to 2013) by Sector, Quarter and Statistic'</br>size: 1216</br><table><tr><td>pos</td><td>id</td><td>label</td><td>size</td><td>role</td></tr><tr><td>0</td><td>Sector</td><td>Sector</td><td>8</td><td></td></tr><tr><td>1</td><td>Quarter</td><td>Quarter</td><td>76</td><td>time</td></tr><tr><td>2</td><td>Statistic</td><td>Statistic</td><td>2</td><td>metric</td></tr></table>"
      ],
      "text/plain": [
       "name:   'dataset'\n",
       "label:  'Gross Domestic Product at Constant Factor Cost (chain linked annually and referenced to 2013) by Sector, Quarter and Statistic'\n",
       "source: 'Gross Domestic Product at Constant Factor Cost (chain linked annually and referenced to 2013) by Sector, Quarter and Statistic'\n",
       "size: 1216\n",
       "+-----+-----------+-----------+------+--------+\n",
       "| pos | id        | label     | size | role   |\n",
       "+-----+-----------+-----------+------+--------+\n",
       "| 0   | Sector    | Sector    | 8    |        |\n",
       "| 1   | Quarter   | Quarter   | 76   | time   |\n",
       "| 2   | Statistic | Statistic | 2    | metric |\n",
       "+-----+-----------+-----------+------+--------+"
      ]
     },
     "execution_count": 5,
     "metadata": {},
     "output_type": "execute_result"
    }
   ],
   "source": [
    "dataset = collection_1.dataset(0)\n",
    "dataset"
   ]
  },
  {
   "cell_type": "code",
   "execution_count": 6,
   "metadata": {
    "collapsed": false
   },
   "outputs": [
    {
     "data": {
      "text/html": [
       "<table><tr><td>pos</td><td>idx</td><td>label</td></tr><tr><td>0</td><td>'0'</td><td>'All Sectors'</td></tr><tr><td>1</td><td>'01'</td><td>'Agriculture Forestry and Fishing'</td></tr><tr><td>2</td><td>'02'</td><td>'Industry'</td></tr><tr><td>3</td><td>'03'</td><td>'Distribution Transport Software and Communication'</td></tr><td>...</td><td>...</td><td>...</td></table>"
      ],
      "text/plain": [
       "+-----+------+-----------------------------------------------------------+\n",
       "| pos | idx  | label                                                     |\n",
       "+-----+------+-----------------------------------------------------------+\n",
       "| 0   | '0'  | 'All Sectors'                                             |\n",
       "| 1   | '01' | 'Agriculture Forestry and Fishing'                        |\n",
       "| 2   | '02' | 'Industry'                                                |\n",
       "| 3   | '03' | 'Distribution Transport Software and Communication'       |\n",
       "| 4   | '04' | 'Public Administration and Defence'                       |\n",
       "| 5   | '05' | 'Other Services (including Rent)'                         |\n",
       "| 6   | '07' | 'Industry - Building and Construction'                    |\n",
       "| 7   | '08' | 'Industry - Transportable Goods Industries and Utilities' |\n",
       "+-----+------+-----------------------------------------------------------+"
      ]
     },
     "execution_count": 6,
     "metadata": {},
     "output_type": "execute_result"
    }
   ],
   "source": [
    "dataset.dimension('Sector')"
   ]
  },
  {
   "cell_type": "code",
   "execution_count": 7,
   "metadata": {
    "collapsed": false
   },
   "outputs": [
    {
     "data": {
      "text/html": [
       "<table><tr><td>pos</td><td>idx</td><td>label</td></tr><tr><td>0</td><td>'1997Q1'</td><td>'1997Q1'</td></tr><tr><td>1</td><td>'1997Q2'</td><td>'1997Q2'</td></tr><tr><td>2</td><td>'1997Q3'</td><td>'1997Q3'</td></tr><tr><td>3</td><td>'1997Q4'</td><td>'1997Q4'</td></tr><td>...</td><td>...</td><td>...</td></table>"
      ],
      "text/plain": [
       "+-----+----------+----------+\n",
       "| pos | idx      | label    |\n",
       "+-----+----------+----------+\n",
       "| 0   | '1997Q1' | '1997Q1' |\n",
       "| 1   | '1997Q2' | '1997Q2' |\n",
       "| 2   | '1997Q3' | '1997Q3' |\n",
       "| 3   | '1997Q4' | '1997Q4' |\n",
       "| 4   | '1998Q1' | '1998Q1' |\n",
       "| 5   | '1998Q2' | '1998Q2' |\n",
       "| 6   | '1998Q3' | '1998Q3' |\n",
       "| 7   | '1998Q4' | '1998Q4' |\n",
       "| 8   | '1999Q1' | '1999Q1' |\n",
       "| 9   | '1999Q2' | '1999Q2' |\n",
       "| 10  | '1999Q3' | '1999Q3' |\n",
       "| 11  | '1999Q4' | '1999Q4' |\n",
       "| 12  | '2000Q1' | '2000Q1' |\n",
       "| 13  | '2000Q2' | '2000Q2' |\n",
       "| 14  | '2000Q3' | '2000Q3' |\n",
       "| 15  | '2000Q4' | '2000Q4' |\n",
       "| 16  | '2001Q1' | '2001Q1' |\n",
       "| 17  | '2001Q2' | '2001Q2' |\n",
       "| 18  | '2001Q3' | '2001Q3' |\n",
       "| 19  | '2001Q4' | '2001Q4' |\n",
       "| 20  | '2002Q1' | '2002Q1' |\n",
       "| 21  | '2002Q2' | '2002Q2' |\n",
       "| 22  | '2002Q3' | '2002Q3' |\n",
       "| 23  | '2002Q4' | '2002Q4' |\n",
       "| 24  | '2003Q1' | '2003Q1' |\n",
       "| 25  | '2003Q2' | '2003Q2' |\n",
       "| 26  | '2003Q3' | '2003Q3' |\n",
       "| 27  | '2003Q4' | '2003Q4' |\n",
       "| 28  | '2004Q1' | '2004Q1' |\n",
       "| 29  | '2004Q2' | '2004Q2' |\n",
       "| 30  | '2004Q3' | '2004Q3' |\n",
       "| 31  | '2004Q4' | '2004Q4' |\n",
       "| 32  | '2005Q1' | '2005Q1' |\n",
       "| 33  | '2005Q2' | '2005Q2' |\n",
       "| 34  | '2005Q3' | '2005Q3' |\n",
       "| 35  | '2005Q4' | '2005Q4' |\n",
       "| 36  | '2006Q1' | '2006Q1' |\n",
       "| 37  | '2006Q2' | '2006Q2' |\n",
       "| 38  | '2006Q3' | '2006Q3' |\n",
       "| 39  | '2006Q4' | '2006Q4' |\n",
       "| 40  | '2007Q1' | '2007Q1' |\n",
       "| 41  | '2007Q2' | '2007Q2' |\n",
       "| 42  | '2007Q3' | '2007Q3' |\n",
       "| 43  | '2007Q4' | '2007Q4' |\n",
       "| 44  | '2008Q1' | '2008Q1' |\n",
       "| 45  | '2008Q2' | '2008Q2' |\n",
       "| 46  | '2008Q3' | '2008Q3' |\n",
       "| 47  | '2008Q4' | '2008Q4' |\n",
       "| 48  | '2009Q1' | '2009Q1' |\n",
       "| 49  | '2009Q2' | '2009Q2' |\n",
       "| 50  | '2009Q3' | '2009Q3' |\n",
       "| 51  | '2009Q4' | '2009Q4' |\n",
       "| 52  | '2010Q1' | '2010Q1' |\n",
       "| 53  | '2010Q2' | '2010Q2' |\n",
       "| 54  | '2010Q3' | '2010Q3' |\n",
       "| 55  | '2010Q4' | '2010Q4' |\n",
       "| 56  | '2011Q1' | '2011Q1' |\n",
       "| 57  | '2011Q2' | '2011Q2' |\n",
       "| 58  | '2011Q3' | '2011Q3' |\n",
       "| 59  | '2011Q4' | '2011Q4' |\n",
       "| 60  | '2012Q1' | '2012Q1' |\n",
       "| 61  | '2012Q2' | '2012Q2' |\n",
       "| 62  | '2012Q3' | '2012Q3' |\n",
       "| 63  | '2012Q4' | '2012Q4' |\n",
       "| 64  | '2013Q1' | '2013Q1' |\n",
       "| 65  | '2013Q2' | '2013Q2' |\n",
       "| 66  | '2013Q3' | '2013Q3' |\n",
       "| 67  | '2013Q4' | '2013Q4' |\n",
       "| 68  | '2014Q1' | '2014Q1' |\n",
       "| 69  | '2014Q2' | '2014Q2' |\n",
       "| 70  | '2014Q3' | '2014Q3' |\n",
       "| 71  | '2014Q4' | '2014Q4' |\n",
       "| 72  | '2015Q1' | '2015Q1' |\n",
       "| 73  | '2015Q2' | '2015Q2' |\n",
       "| 74  | '2015Q3' | '2015Q3' |\n",
       "| 75  | '2015Q4' | '2015Q4' |\n",
       "+-----+----------+----------+"
      ]
     },
     "execution_count": 7,
     "metadata": {},
     "output_type": "execute_result"
    }
   ],
   "source": [
    "dataset.dimension('Quarter')"
   ]
  },
  {
   "cell_type": "code",
   "execution_count": 8,
   "metadata": {
    "collapsed": false
   },
   "outputs": [
    {
     "data": {
      "text/html": [
       "<table><tr><td>pos</td><td>idx</td><td>label</td></tr><tr><td>0</td><td>'NQQ25C01'</td><td>'Gross Domestic Product at Constant Factor Cost (chain linked annually and referenced to 2013) (Euro Million)'</td></tr><tr><td>1</td><td>'NQQ25S1'</td><td>'Gross Domestic Product at Constant Factor Cost (chain linked annually and referenced to 2013) (Seasonally Adjusted) (Euro Million)'</td></tr></table>"
      ],
      "text/plain": [
       "+-----+------------+--------------------------------------------------------------------------------------------------------------------------------------+\n",
       "| pos | idx        | label                                                                                                                                |\n",
       "+-----+------------+--------------------------------------------------------------------------------------------------------------------------------------+\n",
       "| 0   | 'NQQ25C01' | 'Gross Domestic Product at Constant Factor Cost (chain linked annually and referenced to 2013) (Euro Million)'                       |\n",
       "| 1   | 'NQQ25S1'  | 'Gross Domestic Product at Constant Factor Cost (chain linked annually and referenced to 2013) (Seasonally Adjusted) (Euro Million)' |\n",
       "+-----+------------+--------------------------------------------------------------------------------------------------------------------------------------+"
      ]
     },
     "execution_count": 8,
     "metadata": {},
     "output_type": "execute_result"
    }
   ],
   "source": [
    "dataset.dimension('Statistic')"
   ]
  },
  {
   "cell_type": "markdown",
   "metadata": {},
   "source": [
    "Get value for year 2012."
   ]
  },
  {
   "cell_type": "code",
   "execution_count": 9,
   "metadata": {
    "collapsed": false
   },
   "outputs": [
    {
     "data": {
      "text/plain": [
       "JsonStatValue(idx=463, value=5998, status=None)"
      ]
     },
     "execution_count": 9,
     "metadata": {},
     "output_type": "execute_result"
    }
   ],
   "source": [
    "dataset.data(Sector='03', Quarter='1997Q4', Statistic='NQQ25S1')"
   ]
  }
 ],
 "metadata": {
  "kernelspec": {
   "display_name": "Python 3",
   "language": "python",
   "name": "python3"
  },
  "language_info": {
   "codemirror_mode": {
    "name": "ipython",
    "version": 3
   },
   "file_extension": ".py",
   "mimetype": "text/x-python",
   "name": "python",
   "nbconvert_exporter": "python",
   "pygments_lexer": "ipython3",
   "version": "3.5.1"
  }
 },
 "nbformat": 4,
 "nbformat_minor": 0
}
