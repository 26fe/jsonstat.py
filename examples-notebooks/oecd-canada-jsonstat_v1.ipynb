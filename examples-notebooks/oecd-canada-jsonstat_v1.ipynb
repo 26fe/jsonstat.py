{
 "cells": [
  {
   "cell_type": "markdown",
   "metadata": {},
   "source": [
    "## Notebook: using jsonstat.py python library\n",
    "\n",
    "This Jupyter notebook shows the python library [jsonstat.py](http://github.com/26fe/jsonstat.py) in action. The [JSON-stat](https://json-stat.org/) is a simple lightweight JSON dissemination format. This example shows how to explore the jsonstat data file [oecd-canada](http://json-stat.org/samples/oecd-canada.json) from json-stat.org site."
   ]
  },
  {
   "cell_type": "code",
   "execution_count": 1,
   "metadata": {
    "collapsed": true
   },
   "outputs": [],
   "source": [
    "from __future__ import print_function\n",
    "import os\n",
    "import pandas as ps # using panda to convert jsonstat dataset to pandas dataframe\n",
    "import jsonstat # import jsonstat.py package"
   ]
  },
  {
   "cell_type": "markdown",
   "metadata": {},
   "source": [
    "Download or use cached file oecd-canada.json."
   ]
  },
  {
   "cell_type": "code",
   "execution_count": 2,
   "metadata": {
    "collapsed": false
   },
   "outputs": [
    {
     "name": "stdout",
     "output_type": "stream",
     "text": [
      "using file from fixtures\n"
     ]
    }
   ],
   "source": [
    "url = 'http://json-stat.org/samples/oecd-canada.json'\n",
    "file_name = \"oecd-canada.json\"\n",
    "\n",
    "file_path = os.path.abspath(os.path.join(\"..\", \"tests\", \"fixtures\", \"collection\", file_name))\n",
    "if os.path.exists(file_path):\n",
    "    print(\"using file from fixtures\")\n",
    "else:\n",
    "    print(\"download file into the current directory\")\n",
    "    jsonstat.download(url, file_name)\n",
    "    file_path = file_name"
   ]
  },
  {
   "cell_type": "markdown",
   "metadata": {},
   "source": [
    "Initialize JsonStatCollection from the file and print some info."
   ]
  },
  {
   "cell_type": "code",
   "execution_count": 3,
   "metadata": {
    "collapsed": false
   },
   "outputs": [
    {
     "name": "stdout",
     "output_type": "stream",
     "text": [
      "0: dataset 'oecd'\n",
      "1: dataset 'canada'\n",
      "\n"
     ]
    }
   ],
   "source": [
    "collection = jsonstat.JsonStatCollection()\n",
    "collection.from_file(file_path)\n",
    "collection.info()"
   ]
  },
  {
   "cell_type": "code",
   "execution_count": 4,
   "metadata": {
    "collapsed": false
   },
   "outputs": [
    {
     "name": "stdout",
     "output_type": "stream",
     "text": [
      "*** dataset 'oecd info\n",
      "name:   'oecd'\n",
      "label:  'Unemployment rate in the OECD countries 2003-2014'\n",
      "source: 'Unemployment rate in the OECD countries 2003-2014'\n",
      "size: 432\n",
      "3 dimensions:\n",
      "  0: dim id/name: 'concept' size: '1' role: 'metric'\n",
      "  1: dim id/name: 'area' size: '36' role: 'geo'\n",
      "  2: dim id/name: 'year' size: '12' role: 'time'\n",
      "\n"
     ]
    }
   ],
   "source": [
    "oecd = collection.dataset('oecd')\n",
    "print(\"*** dataset '{} info\".format(oecd.name()))\n",
    "oecd.info()"
   ]
  },
  {
   "cell_type": "code",
   "execution_count": 5,
   "metadata": {
    "collapsed": false
   },
   "outputs": [
    {
     "name": "stdout",
     "output_type": "stream",
     "text": [
      "*** info for dimensions 'concept'\n",
      "index\n",
      "  pos    idx  label\n",
      "    0    UNR unemployment rate\n",
      "\n",
      "*** info for dimensions 'area'\n",
      "index\n",
      "  pos    idx  label\n",
      "    0     AU Australia\n",
      "    1     AT Austria\n",
      "    2     BE Belgium\n",
      "    3     CA Canada\n",
      "    4     CL  Chile\n",
      "    5     CZ Czech Republic\n",
      "    6     DK Denmark\n",
      "    7     EE Estonia\n",
      "    8     FI Finland\n",
      "    9     FR France\n",
      "   10     DE Germany\n",
      "   11     GR Greece\n",
      "   12     HU Hungary\n",
      "   13     IS Iceland\n",
      "   14     IE Ireland\n",
      "   15     IL Israel\n",
      "   16     IT  Italy\n",
      "   17     JP  Japan\n",
      "   18     KR  Korea\n",
      "   19     LU Luxembourg\n",
      "   20     MX Mexico\n",
      "   21     NL Netherlands\n",
      "   22     NZ New Zealand\n",
      "   23     NO Norway\n",
      "   24     PL Poland\n",
      "   25     PT Portugal\n",
      "   26     SK Slovak Republic\n",
      "   27     SI Slovenia\n",
      "   28     ES  Spain\n",
      "   29     SE Sweden\n",
      "   30     CH Switzerland\n",
      "   31     TR Turkey\n",
      "   32     UK United Kingdom\n",
      "   33     US United States\n",
      "   34   EU15 Euro area (15 countries)\n",
      "   35   OECD  total\n",
      "\n",
      "*** info for dimensions 'year'\n",
      "index\n",
      "  pos    idx  label\n",
      "    0   2003       \n",
      "    1   2004       \n",
      "    2   2005       \n",
      "    3   2006       \n",
      "    4   2007       \n",
      "    5   2008       \n",
      "    6   2009       \n",
      "    7   2010       \n",
      "    8   2011       \n",
      "    9   2012       \n",
      "   10   2013       \n",
      "   11   2014       \n",
      "\n"
     ]
    }
   ],
   "source": [
    "for d in oecd.dimensions():\n",
    "    print(\"*** info for dimensions '{}'\".format(d.name()))\n",
    "    d.info()"
   ]
  },
  {
   "cell_type": "markdown",
   "metadata": {},
   "source": [
    "Print the value in oecd dataset for area = IT and year = 2012"
   ]
  },
  {
   "cell_type": "code",
   "execution_count": 6,
   "metadata": {
    "collapsed": false
   },
   "outputs": [
    {
     "data": {
      "text/plain": [
       "10.55546863"
      ]
     },
     "execution_count": 6,
     "metadata": {},
     "output_type": "execute_result"
    }
   ],
   "source": [
    "oecd.value(area='IT', year='2012')"
   ]
  },
  {
   "cell_type": "markdown",
   "metadata": {},
   "source": [
    "Extract a subset of data in a pandas dataframe from the jsonstat dataset:"
   ]
  },
  {
   "cell_type": "code",
   "execution_count": 7,
   "metadata": {
    "collapsed": false
   },
   "outputs": [
    {
     "data": {
      "text/html": [
       "<div>\n",
       "<table border=\"1\" class=\"dataframe\">\n",
       "  <thead>\n",
       "    <tr style=\"text-align: right;\">\n",
       "      <th></th>\n",
       "      <th>concept</th>\n",
       "      <th>area</th>\n",
       "      <th>Value</th>\n",
       "    </tr>\n",
       "    <tr>\n",
       "      <th>year</th>\n",
       "      <th></th>\n",
       "      <th></th>\n",
       "      <th></th>\n",
       "    </tr>\n",
       "  </thead>\n",
       "  <tbody>\n",
       "    <tr>\n",
       "      <th>2010</th>\n",
       "      <td>UNR</td>\n",
       "      <td>CA</td>\n",
       "      <td>7.988900</td>\n",
       "    </tr>\n",
       "    <tr>\n",
       "      <th>2011</th>\n",
       "      <td>UNR</td>\n",
       "      <td>CA</td>\n",
       "      <td>7.453610</td>\n",
       "    </tr>\n",
       "    <tr>\n",
       "      <th>2012</th>\n",
       "      <td>UNR</td>\n",
       "      <td>CA</td>\n",
       "      <td>7.323584</td>\n",
       "    </tr>\n",
       "    <tr>\n",
       "      <th>2013</th>\n",
       "      <td>UNR</td>\n",
       "      <td>CA</td>\n",
       "      <td>7.169742</td>\n",
       "    </tr>\n",
       "    <tr>\n",
       "      <th>2014</th>\n",
       "      <td>UNR</td>\n",
       "      <td>CA</td>\n",
       "      <td>6.881227</td>\n",
       "    </tr>\n",
       "  </tbody>\n",
       "</table>\n",
       "</div>"
      ],
      "text/plain": [
       "     concept area     Value\n",
       "year                       \n",
       "2010     UNR   CA  7.988900\n",
       "2011     UNR   CA  7.453610\n",
       "2012     UNR   CA  7.323584\n",
       "2013     UNR   CA  7.169742\n",
       "2014     UNR   CA  6.881227"
      ]
     },
     "execution_count": 7,
     "metadata": {},
     "output_type": "execute_result"
    }
   ],
   "source": [
    "df = oecd.to_data_frame('year', content='id', blocked_dims={'area':'CA'})\n",
    "df.tail()"
   ]
  },
  {
   "cell_type": "code",
   "execution_count": 8,
   "metadata": {
    "collapsed": false
   },
   "outputs": [
    {
     "data": {
      "text/plain": [
       "<matplotlib.axes._subplots.AxesSubplot at 0x10cf04cd0>"
      ]
     },
     "execution_count": 8,
     "metadata": {},
     "output_type": "execute_result"
    },
    {
     "data": {
      "image/png": "[encoded data removed]",
      "text/plain": [
       "<matplotlib.figure.Figure at 0x10cf04490>"
      ]
     },
     "metadata": {},
     "output_type": "display_data"
    }
   ],
   "source": [
    "import matplotlib as plt\n",
    "%matplotlib inline\n",
    "df.plot()"
   ]
  },
  {
   "cell_type": "code",
   "execution_count": 9,
   "metadata": {
    "collapsed": false
   },
   "outputs": [
    {
     "data": {
      "text/plain": [
       "[[u'indicator', u'OECD countries, EU15 and total', u'2003-2014', u'Value'],\n",
       " [u'unemployment rate', u'Australia', u'2003', 5.943826289],\n",
       " [u'unemployment rate', u'Austria', u'2003', 4.278559338],\n",
       " [u'unemployment rate', u'Belgium', u'2003', 8.158333333],\n",
       " [u'unemployment rate', u'Canada', u'2003', 7.594616751]]"
      ]
     },
     "execution_count": 9,
     "metadata": {},
     "output_type": "execute_result"
    }
   ],
   "source": [
    "oecd.to_table()[:5]"
   ]
  },
  {
   "cell_type": "code",
   "execution_count": 10,
   "metadata": {
    "collapsed": false
   },
   "outputs": [
    {
     "data": {
      "text/plain": [
       "[[u'indicator', u'OECD countries, EU15 and total', u'2003-2014', u'Value'],\n",
       " [u'unemployment rate', u'Australia', u'2003', 5.943826289],\n",
       " [u'unemployment rate', u'Australia', u'2004', 5.39663128],\n",
       " [u'unemployment rate', u'Australia', u'2005', 5.044790587],\n",
       " [u'unemployment rate', u'Australia', u'2006', 4.789362794]]"
      ]
     },
     "execution_count": 10,
     "metadata": {},
     "output_type": "execute_result"
    }
   ],
   "source": [
    "order = [i.name() for i in oecd.dimensions()]\n",
    "order = order[::-1]  # reverse list\n",
    "order = oecd.from_vec_idx_to_vec_dim(order)\n",
    "table = oecd.to_table(order=order)\n",
    "table[:5]"
   ]
  },
  {
   "cell_type": "code",
   "execution_count": 11,
   "metadata": {
    "collapsed": false
   },
   "outputs": [
    {
     "data": {
      "text/plain": [
       "5.39663128"
      ]
     },
     "execution_count": 11,
     "metadata": {},
     "output_type": "execute_result"
    }
   ],
   "source": [
    "# oecd.value(concept='unemployment rate',area='Australia',year='2004') # 5.39663128\n",
    "# TODO: use also label other than index\n",
    "# TODO: better error message than 'Key Error'\n",
    "oecd.value(concept='UNR',area='AU',year='2004')"
   ]
  }
 ],
 "metadata": {
  "kernelspec": {
   "display_name": "Python 2",
   "language": "python",
   "name": "python2"
  },
  "language_info": {
   "codemirror_mode": {
    "name": "ipython",
    "version": 2
   },
   "file_extension": ".py",
   "mimetype": "text/x-python",
   "name": "python",
   "nbconvert_exporter": "python",
   "pygments_lexer": "ipython2",
   "version": "2.7.11"
  }
 },
 "nbformat": 4,
 "nbformat_minor": 0
}
