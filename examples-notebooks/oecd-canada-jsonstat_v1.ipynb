{
 "cells": [
  {
   "cell_type": "markdown",
   "metadata": {},
   "source": [
    "### Notebook: using jsonstat.py python library with jsonstat format version 1.\n",
    "\n",
    "This Jupyter notebook shows the python library [jsonstat.py](http://github.com/26fe/jsonstat.py) in action. The [JSON-stat](https://json-stat.org/) is a simple lightweight JSON dissemination format. For more information about the format see the [official site](https://json-stat.org/). This example shows how to explore the example data file [oecd-canada](http://json-stat.org/samples/oecd-canada.json) from json-stat.org site. This file is complaint to the version 1 of jsonstat."
   ]
  },
  {
   "cell_type": "code",
   "execution_count": 1,
   "metadata": {
    "collapsed": false
   },
   "outputs": [],
   "source": [
    "# all import here\n",
    "from __future__ import print_function\n",
    "import os\n",
    "import pandas as ps # using panda to convert jsonstat dataset to pandas dataframe\n",
    "import jsonstat     # import jsonstat.py package\n",
    "\n",
    "import matplotlib as plt  # for plotting "
   ]
  },
  {
   "cell_type": "code",
   "execution_count": 2,
   "metadata": {
    "collapsed": false
   },
   "outputs": [],
   "source": [
    "%matplotlib inline"
   ]
  },
  {
   "cell_type": "markdown",
   "metadata": {},
   "source": [
    "Download or use cached file oecd-canada.json. Caching file on disk permits to work off-line and to speed up the exloration of the data."
   ]
  },
  {
   "cell_type": "code",
   "execution_count": 3,
   "metadata": {
    "collapsed": false
   },
   "outputs": [
    {
     "name": "stdout",
     "output_type": "stream",
     "text": [
      "using already downloaded file /Users/26fe_nas/gioprj.on_mac/prj.python/jsonstat.py/tests/fixtures/json-stat.org/oecd-canada.json\n"
     ]
    }
   ],
   "source": [
    "url = 'http://json-stat.org/samples/oecd-canada.json'\n",
    "file_name = \"oecd-canada.json\"\n",
    "\n",
    "file_path = os.path.abspath(os.path.join(\"..\", \"tests\", \"fixtures\", \"json-stat.org\", file_name))\n",
    "if os.path.exists(file_path):\n",
    "    print(\"using already downloaded file {}\".format(file_path))\n",
    "else:\n",
    "    print(\"download file and storing on disk\")\n",
    "    jsonstat.download(url, file_name)\n",
    "    file_path = file_name"
   ]
  },
  {
   "cell_type": "markdown",
   "metadata": {},
   "source": [
    "Initialize JsonStatCollection from the file and print the list of dataset contained into the collection."
   ]
  },
  {
   "cell_type": "code",
   "execution_count": 4,
   "metadata": {
    "collapsed": false
   },
   "outputs": [
    {
     "data": {
      "text/plain": [
       "JsonstatCollection contains the following JsonStatDataSet:\n",
       "+-----+----------+\n",
       "| pos | dataset  |\n",
       "+-----+----------+\n",
       "| 0   | 'oecd'   |\n",
       "| 1   | 'canada' |\n",
       "+-----+----------+"
      ]
     },
     "execution_count": 4,
     "metadata": {},
     "output_type": "execute_result"
    }
   ],
   "source": [
    "collection = jsonstat.from_file(file_path)\n",
    "collection"
   ]
  },
  {
   "cell_type": "markdown",
   "metadata": {},
   "source": [
    "Select the dataset named `oedc`. Oecd dataset has three dimensions (concept, area, year), and contains 432 values."
   ]
  },
  {
   "cell_type": "code",
   "execution_count": 5,
   "metadata": {
    "collapsed": false
   },
   "outputs": [
    {
     "data": {
      "text/html": [
       "in ipython"
      ],
      "text/plain": [
       "name:   'oecd'\n",
       "label:  'Unemployment rate in the OECD countries 2003-2014'\n",
       "source: 'Unemployment rate in the OECD countries 2003-2014'\n",
       "size: 432\n",
       "+-----+---------+--------------------------------+------+--------+\n",
       "| pos | id      | label                          | size | role   |\n",
       "+-----+---------+--------------------------------+------+--------+\n",
       "| 0   | concept | indicator                      | 1    | metric |\n",
       "| 1   | area    | OECD countries, EU15 and total | 36   | geo    |\n",
       "| 2   | year    | 2003-2014                      | 12   | time   |\n",
       "+-----+---------+--------------------------------+------+--------+"
      ]
     },
     "execution_count": 5,
     "metadata": {},
     "output_type": "execute_result"
    }
   ],
   "source": [
    "oecd = collection.dataset('oecd')\n",
    "oecd"
   ]
  },
  {
   "cell_type": "markdown",
   "metadata": {},
   "source": [
    "Shows some detailed info about dimensions"
   ]
  },
  {
   "cell_type": "code",
   "execution_count": 6,
   "metadata": {
    "collapsed": false
   },
   "outputs": [
    {
     "name": "stdout",
     "output_type": "stream",
     "text": [
      "info for dimensions 'concept'\n",
      "+-----+-------+---------------------+\n",
      "| pos | idx   | label               |\n",
      "+-----+-------+---------------------+\n",
      "| 0   | 'UNR' | 'unemployment rate' |\n",
      "+-----+-------+---------------------+\n",
      "info for dimensions 'area'\n",
      "+-----+--------+----------------------------+\n",
      "| pos | idx    | label                      |\n",
      "+-----+--------+----------------------------+\n",
      "| 0   | 'AU'   | 'Australia'                |\n",
      "| 1   | 'AT'   | 'Austria'                  |\n",
      "| 2   | 'BE'   | 'Belgium'                  |\n",
      "| 3   | 'CA'   | 'Canada'                   |\n",
      "| 4   | 'CL'   | 'Chile'                    |\n",
      "| 5   | 'CZ'   | 'Czech Republic'           |\n",
      "| 6   | 'DK'   | 'Denmark'                  |\n",
      "| 7   | 'EE'   | 'Estonia'                  |\n",
      "| 8   | 'FI'   | 'Finland'                  |\n",
      "| 9   | 'FR'   | 'France'                   |\n",
      "| 10  | 'DE'   | 'Germany'                  |\n",
      "| 11  | 'GR'   | 'Greece'                   |\n",
      "| 12  | 'HU'   | 'Hungary'                  |\n",
      "| 13  | 'IS'   | 'Iceland'                  |\n",
      "| 14  | 'IE'   | 'Ireland'                  |\n",
      "| 15  | 'IL'   | 'Israel'                   |\n",
      "| 16  | 'IT'   | 'Italy'                    |\n",
      "| 17  | 'JP'   | 'Japan'                    |\n",
      "| 18  | 'KR'   | 'Korea'                    |\n",
      "| 19  | 'LU'   | 'Luxembourg'               |\n",
      "| 20  | 'MX'   | 'Mexico'                   |\n",
      "| 21  | 'NL'   | 'Netherlands'              |\n",
      "| 22  | 'NZ'   | 'New Zealand'              |\n",
      "| 23  | 'NO'   | 'Norway'                   |\n",
      "| 24  | 'PL'   | 'Poland'                   |\n",
      "| 25  | 'PT'   | 'Portugal'                 |\n",
      "| 26  | 'SK'   | 'Slovak Republic'          |\n",
      "| 27  | 'SI'   | 'Slovenia'                 |\n",
      "| 28  | 'ES'   | 'Spain'                    |\n",
      "| 29  | 'SE'   | 'Sweden'                   |\n",
      "| 30  | 'CH'   | 'Switzerland'              |\n",
      "| 31  | 'TR'   | 'Turkey'                   |\n",
      "| 32  | 'UK'   | 'United Kingdom'           |\n",
      "| 33  | 'US'   | 'United States'            |\n",
      "| 34  | 'EU15' | 'Euro area (15 countries)' |\n",
      "| 35  | 'OECD' | 'total'                    |\n",
      "+-----+--------+----------------------------+\n",
      "info for dimensions 'year'\n",
      "+-----+--------+-------+\n",
      "| pos | idx    | label |\n",
      "+-----+--------+-------+\n",
      "| 0   | '2003' | ''    |\n",
      "| 1   | '2004' | ''    |\n",
      "| 2   | '2005' | ''    |\n",
      "| 3   | '2006' | ''    |\n",
      "| 4   | '2007' | ''    |\n",
      "| 5   | '2008' | ''    |\n",
      "| 6   | '2009' | ''    |\n",
      "| 7   | '2010' | ''    |\n",
      "| 8   | '2011' | ''    |\n",
      "| 9   | '2012' | ''    |\n",
      "| 10  | '2013' | ''    |\n",
      "| 11  | '2014' | ''    |\n",
      "+-----+--------+-------+\n"
     ]
    }
   ],
   "source": [
    "for d in oecd.dimensions():\n",
    "    print(\"info for dimensions '{}'\".format(d.did()))\n",
    "    d.info()"
   ]
  },
  {
   "cell_type": "markdown",
   "metadata": {},
   "source": [
    "#### Accessing value in the dataset\n",
    "\n",
    "Print the value in oecd dataset for area = IT and year = 2012"
   ]
  },
  {
   "cell_type": "code",
   "execution_count": 7,
   "metadata": {
    "collapsed": false
   },
   "outputs": [
    {
     "data": {
      "text/plain": [
       "10.55546863"
      ]
     },
     "execution_count": 7,
     "metadata": {},
     "output_type": "execute_result"
    }
   ],
   "source": [
    "oecd.value(area='IT', year='2012')"
   ]
  },
  {
   "cell_type": "code",
   "execution_count": 8,
   "metadata": {
    "collapsed": false
   },
   "outputs": [
    {
     "data": {
      "text/plain": [
       "5.39663128"
      ]
     },
     "execution_count": 8,
     "metadata": {},
     "output_type": "execute_result"
    }
   ],
   "source": [
    "oecd.value(concept='unemployment rate',area='Australia',year='2004') # 5.39663128"
   ]
  },
  {
   "cell_type": "code",
   "execution_count": 9,
   "metadata": {
    "collapsed": false
   },
   "outputs": [
    {
     "data": {
      "text/plain": [
       "5.39663128"
      ]
     },
     "execution_count": 9,
     "metadata": {},
     "output_type": "execute_result"
    }
   ],
   "source": [
    "oecd.value(concept='UNR',area='AU',year='2004')"
   ]
  },
  {
   "cell_type": "markdown",
   "metadata": {},
   "source": [
    "#### Trasforming dataset into pandas DataFrame\n",
    "\n"
   ]
  },
  {
   "cell_type": "code",
   "execution_count": 10,
   "metadata": {
    "collapsed": false
   },
   "outputs": [
    {
     "data": {
      "text/html": [
       "<div>\n",
       "<table border=\"1\" class=\"dataframe\">\n",
       "  <thead>\n",
       "    <tr style=\"text-align: right;\">\n",
       "      <th></th>\n",
       "      <th>concept</th>\n",
       "      <th>area</th>\n",
       "      <th>Value</th>\n",
       "    </tr>\n",
       "    <tr>\n",
       "      <th>year</th>\n",
       "      <th></th>\n",
       "      <th></th>\n",
       "      <th></th>\n",
       "    </tr>\n",
       "  </thead>\n",
       "  <tbody>\n",
       "    <tr>\n",
       "      <th>2003</th>\n",
       "      <td>UNR</td>\n",
       "      <td>AU</td>\n",
       "      <td>5.943826</td>\n",
       "    </tr>\n",
       "    <tr>\n",
       "      <th>2004</th>\n",
       "      <td>UNR</td>\n",
       "      <td>AU</td>\n",
       "      <td>5.396631</td>\n",
       "    </tr>\n",
       "    <tr>\n",
       "      <th>2005</th>\n",
       "      <td>UNR</td>\n",
       "      <td>AU</td>\n",
       "      <td>5.044791</td>\n",
       "    </tr>\n",
       "    <tr>\n",
       "      <th>2006</th>\n",
       "      <td>UNR</td>\n",
       "      <td>AU</td>\n",
       "      <td>4.789363</td>\n",
       "    </tr>\n",
       "    <tr>\n",
       "      <th>2007</th>\n",
       "      <td>UNR</td>\n",
       "      <td>AU</td>\n",
       "      <td>4.379649</td>\n",
       "    </tr>\n",
       "  </tbody>\n",
       "</table>\n",
       "</div>"
      ],
      "text/plain": [
       "     concept area     Value\n",
       "year                       \n",
       "2003     UNR   AU  5.943826\n",
       "2004     UNR   AU  5.396631\n",
       "2005     UNR   AU  5.044791\n",
       "2006     UNR   AU  4.789363\n",
       "2007     UNR   AU  4.379649"
      ]
     },
     "execution_count": 10,
     "metadata": {},
     "output_type": "execute_result"
    }
   ],
   "source": [
    "df_oecd = oecd.to_data_frame('year', content='id')\n",
    "df_oecd.head()"
   ]
  },
  {
   "cell_type": "code",
   "execution_count": 11,
   "metadata": {
    "collapsed": false
   },
   "outputs": [
    {
     "data": {
      "text/plain": [
       "count     432\n",
       "unique     36\n",
       "top        FI\n",
       "freq       12\n",
       "Name: area, dtype: object"
      ]
     },
     "execution_count": 11,
     "metadata": {},
     "output_type": "execute_result"
    }
   ],
   "source": [
    "df_oecd['area'].describe() # area contains 36 values"
   ]
  },
  {
   "cell_type": "markdown",
   "metadata": {},
   "source": [
    "Extract a subset of data in a pandas dataframe from the jsonstat dataset.\n",
    "We can trasform dataset freezing the dimension area to a specific country (Canada)"
   ]
  },
  {
   "cell_type": "code",
   "execution_count": 12,
   "metadata": {
    "collapsed": false
   },
   "outputs": [
    {
     "data": {
      "text/html": [
       "<div>\n",
       "<table border=\"1\" class=\"dataframe\">\n",
       "  <thead>\n",
       "    <tr style=\"text-align: right;\">\n",
       "      <th></th>\n",
       "      <th>concept</th>\n",
       "      <th>area</th>\n",
       "      <th>Value</th>\n",
       "    </tr>\n",
       "    <tr>\n",
       "      <th>year</th>\n",
       "      <th></th>\n",
       "      <th></th>\n",
       "      <th></th>\n",
       "    </tr>\n",
       "  </thead>\n",
       "  <tbody>\n",
       "    <tr>\n",
       "      <th>2010</th>\n",
       "      <td>UNR</td>\n",
       "      <td>CA</td>\n",
       "      <td>7.988900</td>\n",
       "    </tr>\n",
       "    <tr>\n",
       "      <th>2011</th>\n",
       "      <td>UNR</td>\n",
       "      <td>CA</td>\n",
       "      <td>7.453610</td>\n",
       "    </tr>\n",
       "    <tr>\n",
       "      <th>2012</th>\n",
       "      <td>UNR</td>\n",
       "      <td>CA</td>\n",
       "      <td>7.323584</td>\n",
       "    </tr>\n",
       "    <tr>\n",
       "      <th>2013</th>\n",
       "      <td>UNR</td>\n",
       "      <td>CA</td>\n",
       "      <td>7.169742</td>\n",
       "    </tr>\n",
       "    <tr>\n",
       "      <th>2014</th>\n",
       "      <td>UNR</td>\n",
       "      <td>CA</td>\n",
       "      <td>6.881227</td>\n",
       "    </tr>\n",
       "  </tbody>\n",
       "</table>\n",
       "</div>"
      ],
      "text/plain": [
       "     concept area     Value\n",
       "year                       \n",
       "2010     UNR   CA  7.988900\n",
       "2011     UNR   CA  7.453610\n",
       "2012     UNR   CA  7.323584\n",
       "2013     UNR   CA  7.169742\n",
       "2014     UNR   CA  6.881227"
      ]
     },
     "execution_count": 12,
     "metadata": {},
     "output_type": "execute_result"
    }
   ],
   "source": [
    "df_oecd_ca = oecd.to_data_frame('year', content='id', blocked_dims={'area':'CA'})\n",
    "df_oecd_ca.tail()"
   ]
  },
  {
   "cell_type": "code",
   "execution_count": 13,
   "metadata": {
    "collapsed": false
   },
   "outputs": [
    {
     "data": {
      "text/plain": [
       "count     12\n",
       "unique     1\n",
       "top       CA\n",
       "freq      12\n",
       "Name: area, dtype: object"
      ]
     },
     "execution_count": 13,
     "metadata": {},
     "output_type": "execute_result"
    }
   ],
   "source": [
    "df_oecd_ca['area'].describe()  # area contains only one value (CA)"
   ]
  },
  {
   "cell_type": "code",
   "execution_count": 14,
   "metadata": {
    "collapsed": false
   },
   "outputs": [
    {
     "data": {
      "text/plain": [
       "<matplotlib.axes._subplots.AxesSubplot at 0x1140e4940>"
      ]
     },
     "execution_count": 14,
     "metadata": {},
     "output_type": "execute_result"
    },
    {
     "data": {
      "image/png": "[encoded data removed]",
      "text/plain": [
       "<matplotlib.figure.Figure at 0x1140ef048>"
      ]
     },
     "metadata": {},
     "output_type": "display_data"
    }
   ],
   "source": [
    "df_oecd_ca.plot(grid=True)"
   ]
  },
  {
   "cell_type": "markdown",
   "metadata": {},
   "source": [
    "#### Trasforming a dataset into a python list"
   ]
  },
  {
   "cell_type": "code",
   "execution_count": 15,
   "metadata": {
    "collapsed": false
   },
   "outputs": [
    {
     "data": {
      "text/plain": [
       "[['indicator', 'OECD countries, EU15 and total', '2003-2014', 'Value'],\n",
       " ['unemployment rate', 'Australia', '2003', 5.943826289],\n",
       " ['unemployment rate', 'Australia', '2004', 5.39663128],\n",
       " ['unemployment rate', 'Australia', '2005', 5.044790587],\n",
       " ['unemployment rate', 'Australia', '2006', 4.789362794]]"
      ]
     },
     "execution_count": 15,
     "metadata": {},
     "output_type": "execute_result"
    }
   ],
   "source": [
    "oecd.to_table()[:5]"
   ]
  },
  {
   "cell_type": "markdown",
   "metadata": {},
   "source": [
    "It is possible to trasform jsonstat data into table in different order "
   ]
  },
  {
   "cell_type": "code",
   "execution_count": 16,
   "metadata": {
    "collapsed": false
   },
   "outputs": [
    {
     "data": {
      "text/plain": [
       "[['indicator', 'OECD countries, EU15 and total', '2003-2014', 'Value'],\n",
       " ['unemployment rate', 'Australia', '2003', 5.943826289],\n",
       " ['unemployment rate', 'Austria', '2003', 4.278559338],\n",
       " ['unemployment rate', 'Belgium', '2003', 8.158333333],\n",
       " ['unemployment rate', 'Canada', '2003', 7.594616751]]"
      ]
     },
     "execution_count": 16,
     "metadata": {},
     "output_type": "execute_result"
    }
   ],
   "source": [
    "order = [i.did() for i in oecd.dimensions()]\n",
    "order = order[::-1]  # reverse list\n",
    "table = oecd.to_table(order=order)\n",
    "table[:5]"
   ]
  }
 ],
 "metadata": {
  "kernelspec": {
   "display_name": "Python 3",
   "language": "python",
   "name": "python3"
  },
  "language_info": {
   "codemirror_mode": {
    "name": "ipython",
    "version": 3
   },
   "file_extension": ".py",
   "mimetype": "text/x-python",
   "name": "python",
   "nbconvert_exporter": "python",
   "pygments_lexer": "ipython3",
   "version": "3.5.1"
  }
 },
 "nbformat": 4,
 "nbformat_minor": 0
}
