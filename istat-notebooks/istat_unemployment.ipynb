{
 "cells": [
  {
   "cell_type": "markdown",
   "metadata": {},
   "source": [
    "### Notebook: using jsonstat.py to explore ISTAT data (unemployment)\n",
    "This Jupyter notebook shows how to use [jsonstat.py](http://github.com/26fe/jsonstat.py) python library to explore Istat data.\n",
    "[Istat](http://www.istat.it/en/about-istat) is Italian National Institute of Statistics. It publishs a rest api for querying italian statistics. "
   ]
  },
  {
   "cell_type": "code",
   "execution_count": 1,
   "metadata": {
    "collapsed": false
   },
   "outputs": [
    {
     "name": "stdout",
     "output_type": "stream",
     "text": [
      "The history saving thread hit an unexpected error (DatabaseError('database disk image is malformed',)).History will not be written to the database.\n"
     ]
    }
   ],
   "source": [
    "from __future__ import print_function\n",
    "import os\n",
    "import pandas as pd\n",
    "import istat\n",
    "\n",
    "import matplotlib.pyplot as plt\n",
    "%matplotlib inline"
   ]
  },
  {
   "cell_type": "markdown",
   "metadata": {},
   "source": [
    "Setting a cache dir where to store json files download by Istat api. Storing file on disk speed up development, and assures consistent results over time. Anyway you can delete file to donwload a fresh copy."
   ]
  },
  {
   "cell_type": "code",
   "execution_count": 2,
   "metadata": {
    "collapsed": false
   },
   "outputs": [
    {
     "name": "stdout",
     "output_type": "stream",
     "text": [
      "cache_dir is '/Users/26fe_nas/prj.python/jsonstat.py/tmp/istat_cached'\n"
     ]
    }
   ],
   "source": [
    "cache_dir = os.path.abspath(os.path.join(\"..\", \"tmp\", \"istat_cached\"))\n",
    "if not os.path.exists(cache_dir):\n",
    "    os.makedirs(cache_dir)\n",
    "print(\"cache_dir is '{}'\".format(cache_dir))"
   ]
  },
  {
   "cell_type": "markdown",
   "metadata": {},
   "source": [
    "List all istat areas"
   ]
  },
  {
   "cell_type": "code",
   "execution_count": 3,
   "metadata": {
    "collapsed": false
   },
   "outputs": [
    {
     "name": "stdout",
     "output_type": "stream",
     "text": [
      "CEN:2011 Population and housing census\n",
      "ENT:Enterprises\n",
      "ENV:Environment and Energy\n",
      "POP:Population and Households\n",
      "HOU:Households Economic Conditions and Disparities\n",
      "HEA:Health statistics\n",
      "WEL:Social Security and Welfare\n",
      "EDU:Education and training\n",
      "COM:Communication, culture and leisure\n",
      "JUS:Justice and Security\n",
      "OPI:Citizens' opinions and satisfaction with life\n",
      "SOC:Social participation\n",
      "ACC:National Accounts\n",
      "AGR:Agriculture\n",
      "IND:Industry and Construction\n",
      "SER:Services\n",
      "PUB:Public Administrations and Private Institutions\n",
      "EXT:External Trade and Internationalisation\n",
      "PRI:Prices\n",
      "LAB:Labour\n"
     ]
    }
   ],
   "source": [
    "istat.cache_dir(cache_dir)\n",
    "\n",
    "for istat_area in istat.areas():\n",
    "    print(istat_area)"
   ]
  },
  {
   "cell_type": "markdown",
   "metadata": {},
   "source": [
    "List all datasets contained into area `LAB` (Labour)"
   ]
  },
  {
   "cell_type": "code",
   "execution_count": 4,
   "metadata": {
    "collapsed": false
   },
   "outputs": [
    {
     "name": "stdout",
     "output_type": "stream",
     "text": [
      "DCCV_ORELAVMED(12):Employment by number of actual weekly hours and average number of actual weekly hours\n",
      "DCCV_TAXINATTMENS(8):Inactivity rate - monthly data\n",
      "DCCV_TAXDISOCCU(9):Unemployment rate\n",
      "DCSC_RETRCONTR1C(6):Wages according to collective labour agreements by agreement  - monthly and annual data               .\n",
      "DCSC_RETRCONTR1T(6):Indicators of bargaining tension - monthly and annual data\n",
      "DCCV_FORZLVDE(7):Labour force - seasonally adjusted data\n",
      "DCCV_TAXDISOCCUDE(7):Unemployment rate - seasonally adjusted data\n",
      "DCCV_FORZLVMENS(8):Labour force - monthly data\n",
      "DCCV_INATTIV(11):Inactive population\n",
      "DCSC_RETRCONTR1O(6):Annual gross, net hours, holiday pay and other hours reduction according to collective labour agreements\n",
      "DCSC_OROS_1(5):Number of payroll jobs index - quarterly data\n",
      "DCSC_GI_OCC(6):Employment, inflow and outflow rates in enterprises with more than 500 employees - monthly data\n",
      "DCCV_DISOCCUPTDE(7):Unemployed - seasonally adjusted data\n",
      "DCSC_RETRULAOROS_1(5):Gross earnings per full time equivalent unit index - quarterly data\n",
      "DCCV_TAXDISOCCUMENS(8):Unemployment rate - monthly data\n",
      "DCSC_GI_RE(6):Gross earnings in enterprises with more than 500 employees - monthly data\n",
      "DCCV_OCCUPATIT(14): Employment                                \n",
      "DCCV_NEET(10):Young people not in employment, education or training\n",
      "DCCV_INATTIVDE(7):Inactive population - seasonally adjusted data\n",
      "DCIS_RICSTAT(6):New series of estimates on the resident population at NUTS-2 level for the 1/1/2002-1/1/2014 period\n",
      "DCSC_GI_COS(6):Labour cost in enterprises with more than 500 employees - monthly data\n",
      "DCSC_RETRCASSCOMPPA(7):Cash and accrual wages according to collective labour agreements per public administration employee per agreement - annual data -  euros\n",
      "DCCV_COMPL(12):Supplementary indicators to unemployment\n",
      "DCCV_TAXOCCUDE(7):Employment rate - seasonally adjusted data\n",
      "DCSC_COSTLAVSTRUT_1(6):Labour cost survey (four-yearly survey)\n",
      "DCCV_TAXOCCU(8):Employment rate\n",
      "DCCV_INATTIVMENS(8):Inactive population - monthly data\n",
      "DCCV_TAXATVT(8):Activity rate\n",
      "DCSC_COSTLAVULAOROS_1(5):Labour cost per full time equivalent unit indicators - quarterly data\n",
      "DCCV_DISOCCUPTMENS(8):Unemployed - monthly data\n",
      "DCCV_OCCUPATIMENS(8):Employed - monthly data\n",
      "DCCV_FORZLV(8):Labour force\n",
      "DCCV_TAXATVTDE(7):Activity rate - seasonally adjusted data\n",
      "DCSC_POSTIVAC_1(5):Job vacancy rate - quarterly data\n",
      "DCCV_TAXOCCUMENS(8):Employment rate - monthly data\n",
      "DCCV_OCCUPATITDE(8):Employed - seasonally adjusted data\n",
      "DCCV_TAXINATT(8):Inactivity rate\n",
      "DCSC_RETRATECO1(6):Wages according to collective labour agreements by Nace rev.2\n",
      "DCCV_TAXINATTDE(7):Inactivity rate - seasonally adjusted data\n",
      "DCSC_ORE10_1(5):Hours worked in enterprises with at least 10 employees - quarterly data\n",
      "DCCV_TAXATVTMENS(8):Activity rate - monthly data\n",
      "DCCV_DISOCCUPT(10):Unemployment\n",
      "DCSC_GI_ORE(6):Hours worked in enterprises with more than 500 employees - monthly data\n"
     ]
    }
   ],
   "source": [
    "istat_area_name = 'LAB'\n",
    "istat_area = istat.area(istat_area_name)\n",
    "\n",
    "for istat_dataset in istat_area.datasets():\n",
    "    print(u\"{}({}):{}\".format(istat_dataset.cod(), istat_dataset.nrdim(), istat_dataset.name()))"
   ]
  },
  {
   "cell_type": "markdown",
   "metadata": {},
   "source": [
    "List all dimension for dataset `DCCV_TAXDISOCCU` (Unemployment rate)"
   ]
  },
  {
   "cell_type": "code",
   "execution_count": 5,
   "metadata": {
    "collapsed": false
   },
   "outputs": [
    {
     "name": "stdout",
     "output_type": "stream",
     "text": [
      "dim 0 'Territory' (1:'Italy', 3:'Nord', 4:'Nord-ovest', 5:'Piemonte', 6:'Torino', 7:'Vercelli', 8:'Biella', 9:'Verbano-Cusio-Ossola', 10:'Novara', 11:'Cuneo', 12:'Asti', 13:'Alessandria', 14:'Valle d'Aosta / Vallée d'Aoste', 15:'Valle d'Aosta / Vallée d'Aoste', 16:'Liguria', 17:'Imperia', 18:'Savona', 19:'Genova', 20:'La Spezia', 21:'Lombardia', 22:'Varese', 23:'Como', 24:'Lecco', 25:'Sondrio', 26:'Milano', 27:'Bergamo', 28:'Brescia', 29:'Pavia', 30:'Lodi', 31:'Cremona', 32:'Mantova', 33:'Nord-est', 34:'Trentino Alto Adige / Südtirol', 35:'Provincia Autonoma Bolzano / Bozen', 37:'Provincia Autonoma Trento', 39:'Veneto', 40:'Verona', 41:'Vicenza', 42:'Belluno', 43:'Treviso', 44:'Venezia', 45:'Padova', 46:'Rovigo', 47:'Friuli-Venezia Giulia', 48:'Pordenone', 49:'Udine', 50:'Gorizia', 51:'Trieste', 52:'Emilia-Romagna', 53:'Piacenza', 54:'Parma', 55:'Reggio nell'Emilia', 56:'Modena', 57:'Bologna', 58:'Ferrara', 59:'Ravenna', 60:'Forlì-Cesena', 61:'Rimini', 62:'Centro (I)', 63:'Toscana', 64:'Massa-Carrara', 65:'Lucca', 66:'Pistoia', 67:'Firenze', 68:'Prato', 69:'Livorno', 70:'Pisa', 71:'Arezzo', 72:'Siena', 73:'Grosseto', 74:'Umbria', 75:'Perugia', 76:'Terni', 77:'Marche', 78:'Pesaro e Urbino', 79:'Ancona', 80:'Macerata', 81:'Ascoli Piceno', 82:'Lazio', 83:'Viterbo', 84:'Rieti', 85:'Roma', 86:'Latina', 87:'Frosinone', 88:'Mezzogiorno', 90:'Abruzzo', 91:'L'Aquila', 92:'Teramo', 93:'Pescara', 94:'Chieti', 95:'Molise', 96:'Isernia', 97:'Campobasso', 98:'Campania', 99:'Caserta', 100:'Benevento', 101:'Napoli', 102:'Avellino', 103:'Salerno', 104:'Puglia', 105:'Foggia', 106:'Bari', 107:'Taranto', 108:'Brindisi', 109:'Lecce', 110:'Basilicata', 111:'Potenza', 112:'Matera', 113:'Calabria', 114:'Cosenza', 115:'Crotone', 116:'Catanzaro', 117:'Vibo Valentia', 118:'Reggio di Calabria', 120:'Sicilia', 121:'Trapani', 122:'Palermo', 123:'Messina', 124:'Agrigento', 125:'Caltanissetta', 126:'Enna', 127:'Catania', 128:'Ragusa', 129:'Siracusa', 130:'Sardegna', 131:'Sassari', 132:'Nuoro', 133:'Cagliari', 134:'Oristano', 135:'Olbia-Tempio', 136:'Ogliastra', 137:'Medio Campidano', 138:'Carbonia-Iglesias', 146:'Monza e della Brianza', 147:'Fermo', 148:'Barletta-Andria-Trani')\n",
      "dim 1 'Data type' (6:'unemployment rate')\n",
      "dim 2 'Measure' (1:'percentage values')\n",
      "dim 3 'Gender' (1:'males', 2:'females', 3:'total')\n",
      "dim 4 'Age class' (32:'18-29 years', 3:'20-24 years', 4:'15-24 years', 8:'25-34 years', 9:'35-54 years', 11:'35 years and over', 14:'35-44 years', 17:'45-54 years', 19:'55 years and over', 21:'55-64 years', 22:'15-64 years', 28:'15 years and over', 30:'15-29 years', 31:'15-74 years')\n",
      "dim 5 'Highest level of education attained' (11:'tertiary (university, doctoral and specialization courses)', 12:'total', 3:'primary school certificate, no educational degree', 4:'lower secondary school certificate', 7:'upper and post secondary')\n",
      "dim 6 'Citizenship' (1:'italian', 2:'foreign', 3:'total')\n",
      "dim 7 'Duration of unemployment' (2:'12 months and more', 3:'total')\n",
      "dim 8 'Time and frequency' (1536:'Q4-1980', 2049:'Q4-2007', 1540:'1981', 2053:'2008', 1542:'Q1-1981', 2055:'Q1-2008', 1546:'Q2-1981', 2059:'Q2-2008', 1551:'Q3-1981', 2064:'Q3-2008', 1555:'Q4-1981', 2068:'Q4-2008', 1559:'1982', 2072:'2009', 1561:'Q1-1982', 2074:'Q1-2009', 1565:'Q2-1982', 2078:'Q2-2009', 1570:'Q3-1982', 2083:'Q3-2009', 1574:'Q4-1982', 2087:'Q4-2009', 1578:'1983', 2091:'2010', 1580:'Q1-1983', 2093:'Q1-2010', 1584:'Q2-1983', 2097:'Q2-2010', 1589:'Q3-1983', 2102:'Q3-2010', 1593:'Q4-1983', 2106:'Q4-2010', 1597:'1984', 2110:'2011', 1599:'Q1-1984', 2112:'Q1-2011', 1603:'Q2-1984', 2116:'Q2-2011', 1608:'Q3-1984', 2121:'Q3-2011', 1612:'Q4-1984', 2125:'Q4-2011', 1616:'1985', 2129:'2012', 1618:'Q1-1985', 2131:'Q1-2012', 1622:'Q2-1985', 2135:'Q2-2012', 1627:'Q3-1985', 2140:'Q3-2012', 1631:'Q4-1985', 2144:'Q4-2012', 1635:'1986', 2148:'2013', 1637:'Q1-1986', 2150:'Q1-2013', 1641:'Q2-1986', 2154:'Q2-2013', 1646:'Q3-1986', 2159:'Q3-2013', 1650:'Q4-1986', 2163:'Q4-2013', 1654:'1987', 2167:'2014', 1656:'Q1-1987', 2169:'Q1-2014', 1660:'Q2-1987', 2173:'Q2-2014', 1665:'Q3-1987', 2178:'Q3-2014', 1669:'Q4-1987', 2182:'Q4-2014', 1673:'1988', 1675:'Q1-1988', 2188:'Q1-2015', 1679:'Q2-1988', 2192:'Q2-2015', 1684:'Q3-1988', 2197:'Q3-2015', 1688:'Q4-1988', 1692:'1989', 1694:'Q1-1989', 1698:'Q2-1989', 1703:'Q3-1989', 1707:'Q4-1989', 1711:'1990', 1713:'Q1-1990', 1717:'Q2-1990', 1722:'Q3-1990', 1726:'Q4-1990', 1730:'1991', 1732:'Q1-1991', 1736:'Q2-1991', 1741:'Q3-1991', 1745:'Q4-1991', 1749:'1992', 1751:'Q1-1992', 1755:'Q2-1992', 1760:'Q3-1992', 1764:'Q4-1992', 1768:'1993', 1770:'Q1-1993', 1774:'Q2-1993', 1779:'Q3-1993', 1783:'Q4-1993', 1787:'1994', 1789:'Q1-1994', 1793:'Q2-1994', 1798:'Q3-1994', 1802:'Q4-1994', 1806:'1995', 1808:'Q1-1995', 1812:'Q2-1995', 1817:'Q3-1995', 1821:'Q4-1995', 1825:'1996', 1827:'Q1-1996', 1831:'Q2-1996', 1836:'Q3-1996', 1840:'Q4-1996', 1844:'1997', 1846:'Q1-1997', 1850:'Q2-1997', 1855:'Q3-1997', 1859:'Q4-1997', 1863:'1998', 1865:'Q1-1998', 1869:'Q2-1998', 1874:'Q3-1998', 1878:'Q4-1998', 1882:'1999', 1884:'Q1-1999', 1888:'Q2-1999', 1893:'Q3-1999', 1897:'Q4-1999', 1901:'2000', 1903:'Q1-2000', 1907:'Q2-2000', 1912:'Q3-2000', 1916:'Q4-2000', 1920:'2001', 1922:'Q1-2001', 1926:'Q2-2001', 1931:'Q3-2001', 1935:'Q4-2001', 1939:'2002', 1941:'Q1-2002', 1945:'Q2-2002', 1950:'Q3-2002', 1954:'Q4-2002', 1958:'2003', 1960:'Q1-2003', 1964:'Q2-2003', 1969:'Q3-2003', 1973:'Q4-2003', 1464:'1977', 1977:'2004', 1466:'Q1-1977', 1979:'Q1-2004', 1470:'Q2-1977', 1983:'Q2-2004', 1475:'Q3-1977', 1988:'Q3-2004', 1479:'Q4-1977', 1992:'Q4-2004', 1483:'1978', 1996:'2005', 1485:'Q1-1978', 1998:'Q1-2005', 1489:'Q2-1978', 2002:'Q2-2005', 1494:'Q3-1978', 2007:'Q3-2005', 1498:'Q4-1978', 2011:'Q4-2005', 1502:'1979', 2015:'2006', 1504:'Q1-1979', 2017:'Q1-2006', 1508:'Q2-1979', 2021:'Q2-2006', 1513:'Q3-1979', 2026:'Q3-2006', 1517:'Q4-1979', 2030:'Q4-2006', 1521:'1980', 2034:'2007', 1523:'Q1-1980', 2036:'Q1-2007', 1527:'Q2-1980', 2040:'Q2-2007', 1532:'Q3-1980', 2045:'Q3-2007')\n"
     ]
    }
   ],
   "source": [
    "istat_dataset_name = 'DCCV_TAXDISOCCU'\n",
    "istat_dataset = istat_area.dataset(istat_dataset_name)\n",
    "istat_dataset.info_dimensions()"
   ]
  },
  {
   "cell_type": "markdown",
   "metadata": {},
   "source": [
    "Extract data from dataset `DCCV_TAXDISOCCU` "
   ]
  },
  {
   "cell_type": "code",
   "execution_count": 6,
   "metadata": {
    "collapsed": false
   },
   "outputs": [
    {
     "name": "stdout",
     "output_type": "stream",
     "text": [
      "0: dataset 'IDITTER107*IDTIME'\n",
      "\n"
     ]
    }
   ],
   "source": [
    "spec = { \n",
    "    \"Territory\": 0, # 1 Italy\n",
    "    \"Data type\": 6, # \n",
    "    'Measure': 1,\n",
    "    'Gender': 3,\n",
    "    'Age class':31, # (32:'18-29 years', \n",
    "                    # 3:'20-24 years', \n",
    "                    # 4:'15-24 years', \n",
    "                    # 8:'25-34 years', \n",
    "                    # 9:'35-54 years', \n",
    "                    # 11:'35 years and over', \n",
    "                    # 14:'35-44 years', \n",
    "                    # 17:'45-54 years', \n",
    "                    # 19:'55 years and over', \n",
    "                    # 21:'55-64 years', \n",
    "                    # 22:'15-64 years', \n",
    "                    # 28:'15 years and over', \n",
    "                    # 30:'15-29 years', \n",
    "                    # 31:'15-74 years')\n",
    "    'Highest level of education attained': 12,\n",
    "                    #(11:'tertiary (university, doctoral and specialization courses)', \n",
    "                    # 12:'total', \n",
    "                    # 3:'primary school certificate, no educational degree', \n",
    "                    # 4:'lower secondary school certificate', \n",
    "                    # 7:'upper and post secondary')\n",
    "    'Citizenship': 3, # (1:'italian', 2:'foreign', 3:'total')\n",
    "    'Duration of unemployment': 3, # (2:'12 months and more', 3:'total')\n",
    "    'Time and frequency': 0 # All\n",
    "}\n",
    "\n",
    "# convert istat dataset into jsonstat collection and print some info\n",
    "collection = istat_dataset.getvalues(spec)\n",
    "collection.info()"
   ]
  },
  {
   "cell_type": "markdown",
   "metadata": {},
   "source": [
    "Print some info of one dataset contained into the above jsonstat collection"
   ]
  },
  {
   "cell_type": "code",
   "execution_count": 7,
   "metadata": {
    "collapsed": false
   },
   "outputs": [
    {
     "data": {
      "text/plain": [
       "name:   'IDITTER107*IDTIME'\n",
       "label:  'Unemployment rate by Territory and Time and frequency - unemployment rate - percentage values - 15-74 years'\n",
       "size: 7830\n",
       "2 dimensions:\n",
       "  0: dim id: 'IDITTER107' label: 'Territory' size: '135' role: 'None'\n",
       "  1: dim id: 'IDTIME' label: 'Time and frequency' size: '58' role: 'None'"
      ]
     },
     "execution_count": 7,
     "metadata": {},
     "output_type": "execute_result"
    }
   ],
   "source": [
    "jsonstat_dataset = collection.dataset(0)\n",
    "jsonstat_dataset"
   ]
  },
  {
   "cell_type": "code",
   "execution_count": 8,
   "metadata": {
    "collapsed": false
   },
   "outputs": [
    {
     "data": {
      "text/html": [
       "<div>\n",
       "<table border=\"1\" class=\"dataframe\">\n",
       "  <thead>\n",
       "    <tr style=\"text-align: right;\">\n",
       "      <th></th>\n",
       "      <th>Territory</th>\n",
       "      <th>Time and frequency</th>\n",
       "      <th>Value</th>\n",
       "    </tr>\n",
       "  </thead>\n",
       "  <tbody>\n",
       "    <tr>\n",
       "      <th>0</th>\n",
       "      <td>Italy</td>\n",
       "      <td>2004</td>\n",
       "      <td>8.01</td>\n",
       "    </tr>\n",
       "    <tr>\n",
       "      <th>1</th>\n",
       "      <td>Italy</td>\n",
       "      <td>Q1-2004</td>\n",
       "      <td>8.68</td>\n",
       "    </tr>\n",
       "    <tr>\n",
       "      <th>2</th>\n",
       "      <td>Italy</td>\n",
       "      <td>Q2-2004</td>\n",
       "      <td>7.88</td>\n",
       "    </tr>\n",
       "    <tr>\n",
       "      <th>3</th>\n",
       "      <td>Italy</td>\n",
       "      <td>Q3-2004</td>\n",
       "      <td>7.33</td>\n",
       "    </tr>\n",
       "    <tr>\n",
       "      <th>4</th>\n",
       "      <td>Italy</td>\n",
       "      <td>Q4-2004</td>\n",
       "      <td>8.17</td>\n",
       "    </tr>\n",
       "  </tbody>\n",
       "</table>\n",
       "</div>"
      ],
      "text/plain": [
       "  Territory Time and frequency  Value\n",
       "0     Italy               2004   8.01\n",
       "1     Italy            Q1-2004   8.68\n",
       "2     Italy            Q2-2004   7.88\n",
       "3     Italy            Q3-2004   7.33\n",
       "4     Italy            Q4-2004   8.17"
      ]
     },
     "execution_count": 8,
     "metadata": {},
     "output_type": "execute_result"
    }
   ],
   "source": [
    "df_all = jsonstat_dataset.to_table(rtype=pd.DataFrame)\n",
    "df_all.head()"
   ]
  },
  {
   "cell_type": "code",
   "execution_count": 9,
   "metadata": {
    "collapsed": false
   },
   "outputs": [
    {
     "data": {
      "text/html": [
       "<div>\n",
       "<table border=\"1\" class=\"dataframe\">\n",
       "  <thead>\n",
       "    <tr style=\"text-align: right;\">\n",
       "      <th>Time and frequency</th>\n",
       "      <th>2004</th>\n",
       "      <th>2005</th>\n",
       "      <th>2006</th>\n",
       "      <th>2007</th>\n",
       "      <th>2008</th>\n",
       "      <th>2009</th>\n",
       "      <th>2010</th>\n",
       "      <th>2011</th>\n",
       "      <th>2012</th>\n",
       "      <th>2013</th>\n",
       "      <th>...</th>\n",
       "      <th>Q4-2005</th>\n",
       "      <th>Q4-2006</th>\n",
       "      <th>Q4-2007</th>\n",
       "      <th>Q4-2008</th>\n",
       "      <th>Q4-2009</th>\n",
       "      <th>Q4-2010</th>\n",
       "      <th>Q4-2011</th>\n",
       "      <th>Q4-2012</th>\n",
       "      <th>Q4-2013</th>\n",
       "      <th>Q4-2014</th>\n",
       "    </tr>\n",
       "    <tr>\n",
       "      <th>Territory</th>\n",
       "      <th></th>\n",
       "      <th></th>\n",
       "      <th></th>\n",
       "      <th></th>\n",
       "      <th></th>\n",
       "      <th></th>\n",
       "      <th></th>\n",
       "      <th></th>\n",
       "      <th></th>\n",
       "      <th></th>\n",
       "      <th></th>\n",
       "      <th></th>\n",
       "      <th></th>\n",
       "      <th></th>\n",
       "      <th></th>\n",
       "      <th></th>\n",
       "      <th></th>\n",
       "      <th></th>\n",
       "      <th></th>\n",
       "      <th></th>\n",
       "      <th></th>\n",
       "    </tr>\n",
       "  </thead>\n",
       "  <tbody>\n",
       "    <tr>\n",
       "      <th>Abruzzo</th>\n",
       "      <td>7.71</td>\n",
       "      <td>7.88</td>\n",
       "      <td>6.57</td>\n",
       "      <td>6.17</td>\n",
       "      <td>6.63</td>\n",
       "      <td>7.97</td>\n",
       "      <td>8.67</td>\n",
       "      <td>8.59</td>\n",
       "      <td>10.85</td>\n",
       "      <td>11.29</td>\n",
       "      <td>...</td>\n",
       "      <td>6.95</td>\n",
       "      <td>6.84</td>\n",
       "      <td>5.87</td>\n",
       "      <td>6.67</td>\n",
       "      <td>7.02</td>\n",
       "      <td>9.15</td>\n",
       "      <td>9.48</td>\n",
       "      <td>10.48</td>\n",
       "      <td>11.21</td>\n",
       "      <td>12.08</td>\n",
       "    </tr>\n",
       "    <tr>\n",
       "      <th>Agrigento</th>\n",
       "      <td>20.18</td>\n",
       "      <td>17.62</td>\n",
       "      <td>13.40</td>\n",
       "      <td>16.91</td>\n",
       "      <td>16.72</td>\n",
       "      <td>17.43</td>\n",
       "      <td>19.42</td>\n",
       "      <td>17.61</td>\n",
       "      <td>19.48</td>\n",
       "      <td>20.98</td>\n",
       "      <td>...</td>\n",
       "      <td>NaN</td>\n",
       "      <td>NaN</td>\n",
       "      <td>NaN</td>\n",
       "      <td>NaN</td>\n",
       "      <td>NaN</td>\n",
       "      <td>NaN</td>\n",
       "      <td>NaN</td>\n",
       "      <td>NaN</td>\n",
       "      <td>NaN</td>\n",
       "      <td>NaN</td>\n",
       "    </tr>\n",
       "    <tr>\n",
       "      <th>Alessandria</th>\n",
       "      <td>5.34</td>\n",
       "      <td>5.37</td>\n",
       "      <td>4.65</td>\n",
       "      <td>4.63</td>\n",
       "      <td>4.85</td>\n",
       "      <td>5.81</td>\n",
       "      <td>5.34</td>\n",
       "      <td>6.66</td>\n",
       "      <td>10.48</td>\n",
       "      <td>11.80</td>\n",
       "      <td>...</td>\n",
       "      <td>NaN</td>\n",
       "      <td>NaN</td>\n",
       "      <td>NaN</td>\n",
       "      <td>NaN</td>\n",
       "      <td>NaN</td>\n",
       "      <td>NaN</td>\n",
       "      <td>NaN</td>\n",
       "      <td>NaN</td>\n",
       "      <td>NaN</td>\n",
       "      <td>NaN</td>\n",
       "    </tr>\n",
       "    <tr>\n",
       "      <th>Ancona</th>\n",
       "      <td>5.11</td>\n",
       "      <td>4.14</td>\n",
       "      <td>4.05</td>\n",
       "      <td>3.49</td>\n",
       "      <td>3.78</td>\n",
       "      <td>5.82</td>\n",
       "      <td>4.94</td>\n",
       "      <td>6.84</td>\n",
       "      <td>9.20</td>\n",
       "      <td>11.27</td>\n",
       "      <td>...</td>\n",
       "      <td>NaN</td>\n",
       "      <td>NaN</td>\n",
       "      <td>NaN</td>\n",
       "      <td>NaN</td>\n",
       "      <td>NaN</td>\n",
       "      <td>NaN</td>\n",
       "      <td>NaN</td>\n",
       "      <td>NaN</td>\n",
       "      <td>NaN</td>\n",
       "      <td>NaN</td>\n",
       "    </tr>\n",
       "    <tr>\n",
       "      <th>Arezzo</th>\n",
       "      <td>4.55</td>\n",
       "      <td>5.50</td>\n",
       "      <td>4.88</td>\n",
       "      <td>4.61</td>\n",
       "      <td>4.91</td>\n",
       "      <td>5.51</td>\n",
       "      <td>5.87</td>\n",
       "      <td>6.04</td>\n",
       "      <td>7.33</td>\n",
       "      <td>8.04</td>\n",
       "      <td>...</td>\n",
       "      <td>NaN</td>\n",
       "      <td>NaN</td>\n",
       "      <td>NaN</td>\n",
       "      <td>NaN</td>\n",
       "      <td>NaN</td>\n",
       "      <td>NaN</td>\n",
       "      <td>NaN</td>\n",
       "      <td>NaN</td>\n",
       "      <td>NaN</td>\n",
       "      <td>NaN</td>\n",
       "    </tr>\n",
       "  </tbody>\n",
       "</table>\n",
       "<p>5 rows × 58 columns</p>\n",
       "</div>"
      ],
      "text/plain": [
       "Time and frequency   2004   2005   2006   2007   2008   2009   2010   2011  \\\n",
       "Territory                                                                    \n",
       "Abruzzo              7.71   7.88   6.57   6.17   6.63   7.97   8.67   8.59   \n",
       "Agrigento           20.18  17.62  13.40  16.91  16.72  17.43  19.42  17.61   \n",
       "Alessandria          5.34   5.37   4.65   4.63   4.85   5.81   5.34   6.66   \n",
       "Ancona               5.11   4.14   4.05   3.49   3.78   5.82   4.94   6.84   \n",
       "Arezzo               4.55   5.50   4.88   4.61   4.91   5.51   5.87   6.04   \n",
       "\n",
       "Time and frequency   2012   2013   ...     Q4-2005  Q4-2006  Q4-2007  Q4-2008  \\\n",
       "Territory                          ...                                          \n",
       "Abruzzo             10.85  11.29   ...        6.95     6.84     5.87     6.67   \n",
       "Agrigento           19.48  20.98   ...         NaN      NaN      NaN      NaN   \n",
       "Alessandria         10.48  11.80   ...         NaN      NaN      NaN      NaN   \n",
       "Ancona               9.20  11.27   ...         NaN      NaN      NaN      NaN   \n",
       "Arezzo               7.33   8.04   ...         NaN      NaN      NaN      NaN   \n",
       "\n",
       "Time and frequency  Q4-2009  Q4-2010  Q4-2011  Q4-2012  Q4-2013  Q4-2014  \n",
       "Territory                                                                 \n",
       "Abruzzo                7.02     9.15     9.48    10.48    11.21    12.08  \n",
       "Agrigento               NaN      NaN      NaN      NaN      NaN      NaN  \n",
       "Alessandria             NaN      NaN      NaN      NaN      NaN      NaN  \n",
       "Ancona                  NaN      NaN      NaN      NaN      NaN      NaN  \n",
       "Arezzo                  NaN      NaN      NaN      NaN      NaN      NaN  \n",
       "\n",
       "[5 rows x 58 columns]"
      ]
     },
     "execution_count": 9,
     "metadata": {},
     "output_type": "execute_result"
    }
   ],
   "source": [
    "df_all.pivot('Territory', 'Time and frequency', 'Value').head()"
   ]
  },
  {
   "cell_type": "code",
   "execution_count": 10,
   "metadata": {
    "collapsed": false
   },
   "outputs": [
    {
     "name": "stdout",
     "output_type": "stream",
     "text": [
      "0: dataset 'IDCLASETA28*IDTIME'\n",
      "\n"
     ]
    }
   ],
   "source": [
    "spec = { \n",
    "    \"Territory\": 1, # 1 Italy\n",
    "    \"Data type\": 6, # \n",
    "    'Measure': 1,\n",
    "    'Gender': 3,\n",
    "    'Age class':0, # (32:'18-29 years', \n",
    "                    # 3:'20-24 years', \n",
    "                    # 4:'15-24 years', \n",
    "                    # 8:'25-34 years', \n",
    "                    # 9:'35-54 years', \n",
    "                    # 11:'35 years and over', \n",
    "                    # 14:'35-44 years', \n",
    "                    # 17:'45-54 years', \n",
    "                    # 19:'55 years and over', \n",
    "                    # 21:'55-64 years', \n",
    "                    # 22:'15-64 years', \n",
    "                    # 28:'15 years and over', \n",
    "                    # 30:'15-29 years', \n",
    "                    # 31:'15-74 years')\n",
    "    'Highest level of education attained': 12,\n",
    "                    #(11:'tertiary (university, doctoral and specialization courses)', \n",
    "                    # 12:'total', \n",
    "                    # 3:'primary school certificate, no educational degree', \n",
    "                    # 4:'lower secondary school certificate', \n",
    "                    # 7:'upper and post secondary')\n",
    "    'Citizenship': 3, # (1:'italian', 2:'foreign', 3:'total')\n",
    "    'Duration of unemployment': 3, # (2:'12 months and more', 3:'total')\n",
    "    'Time and frequency': 0 # All\n",
    "}\n",
    "\n",
    "# convert istat dataset into jsonstat collection and print some info\n",
    "collection_2 = istat_dataset.getvalues(spec)\n",
    "collection_2.info()"
   ]
  },
  {
   "cell_type": "code",
   "execution_count": 11,
   "metadata": {
    "collapsed": false
   },
   "outputs": [
    {
     "data": {
      "text/html": [
       "<div>\n",
       "<table border=\"1\" class=\"dataframe\">\n",
       "  <thead>\n",
       "    <tr style=\"text-align: right;\">\n",
       "      <th></th>\n",
       "      <th>Age class</th>\n",
       "      <th>Time and frequency</th>\n",
       "      <th>Value</th>\n",
       "    </tr>\n",
       "  </thead>\n",
       "  <tbody>\n",
       "    <tr>\n",
       "      <th>0</th>\n",
       "      <td>15-74 years</td>\n",
       "      <td>Q4-1992</td>\n",
       "      <td>NaN</td>\n",
       "    </tr>\n",
       "    <tr>\n",
       "      <th>1</th>\n",
       "      <td>15-74 years</td>\n",
       "      <td>1993</td>\n",
       "      <td>NaN</td>\n",
       "    </tr>\n",
       "    <tr>\n",
       "      <th>2</th>\n",
       "      <td>15-74 years</td>\n",
       "      <td>Q1-1993</td>\n",
       "      <td>NaN</td>\n",
       "    </tr>\n",
       "    <tr>\n",
       "      <th>3</th>\n",
       "      <td>15-74 years</td>\n",
       "      <td>Q2-1993</td>\n",
       "      <td>NaN</td>\n",
       "    </tr>\n",
       "    <tr>\n",
       "      <th>4</th>\n",
       "      <td>15-74 years</td>\n",
       "      <td>Q3-1993</td>\n",
       "      <td>NaN</td>\n",
       "    </tr>\n",
       "    <tr>\n",
       "      <th>5</th>\n",
       "      <td>15-74 years</td>\n",
       "      <td>Q4-1993</td>\n",
       "      <td>NaN</td>\n",
       "    </tr>\n",
       "  </tbody>\n",
       "</table>\n",
       "</div>"
      ],
      "text/plain": [
       "     Age class Time and frequency  Value\n",
       "0  15-74 years            Q4-1992    NaN\n",
       "1  15-74 years               1993    NaN\n",
       "2  15-74 years            Q1-1993    NaN\n",
       "3  15-74 years            Q2-1993    NaN\n",
       "4  15-74 years            Q3-1993    NaN\n",
       "5  15-74 years            Q4-1993    NaN"
      ]
     },
     "execution_count": 11,
     "metadata": {},
     "output_type": "execute_result"
    }
   ],
   "source": [
    "df = collection_2.dataset(0).to_table(rtype=pd.DataFrame, blocked_dims={'IDCLASETA28':'31'})\n",
    "df.head(6)"
   ]
  },
  {
   "cell_type": "code",
   "execution_count": 12,
   "metadata": {
    "collapsed": false
   },
   "outputs": [
    {
     "data": {
      "text/html": [
       "<div>\n",
       "<table border=\"1\" class=\"dataframe\">\n",
       "  <thead>\n",
       "    <tr style=\"text-align: right;\">\n",
       "      <th></th>\n",
       "      <th>Age class</th>\n",
       "      <th>Time and frequency</th>\n",
       "      <th>Value</th>\n",
       "    </tr>\n",
       "  </thead>\n",
       "  <tbody>\n",
       "    <tr>\n",
       "      <th>57</th>\n",
       "      <td>15-74 years</td>\n",
       "      <td>Q1-2004</td>\n",
       "      <td>8.68</td>\n",
       "    </tr>\n",
       "    <tr>\n",
       "      <th>58</th>\n",
       "      <td>15-74 years</td>\n",
       "      <td>Q2-2004</td>\n",
       "      <td>7.88</td>\n",
       "    </tr>\n",
       "    <tr>\n",
       "      <th>59</th>\n",
       "      <td>15-74 years</td>\n",
       "      <td>Q3-2004</td>\n",
       "      <td>7.33</td>\n",
       "    </tr>\n",
       "    <tr>\n",
       "      <th>60</th>\n",
       "      <td>15-74 years</td>\n",
       "      <td>Q4-2004</td>\n",
       "      <td>8.17</td>\n",
       "    </tr>\n",
       "    <tr>\n",
       "      <th>62</th>\n",
       "      <td>15-74 years</td>\n",
       "      <td>Q1-2005</td>\n",
       "      <td>8.27</td>\n",
       "    </tr>\n",
       "    <tr>\n",
       "      <th>63</th>\n",
       "      <td>15-74 years</td>\n",
       "      <td>Q2-2005</td>\n",
       "      <td>7.54</td>\n",
       "    </tr>\n",
       "  </tbody>\n",
       "</table>\n",
       "</div>"
      ],
      "text/plain": [
       "      Age class Time and frequency  Value\n",
       "57  15-74 years            Q1-2004   8.68\n",
       "58  15-74 years            Q2-2004   7.88\n",
       "59  15-74 years            Q3-2004   7.33\n",
       "60  15-74 years            Q4-2004   8.17\n",
       "62  15-74 years            Q1-2005   8.27\n",
       "63  15-74 years            Q2-2005   7.54"
      ]
     },
     "execution_count": 12,
     "metadata": {},
     "output_type": "execute_result"
    }
   ],
   "source": [
    "df = df.dropna()\n",
    "df = df[df['Time and frequency'].str.contains(r'^Q.*')]\n",
    "# df = df.set_index('Time and frequency')\n",
    "df.head(6)"
   ]
  },
  {
   "cell_type": "code",
   "execution_count": 13,
   "metadata": {
    "collapsed": false
   },
   "outputs": [
    {
     "data": {
      "text/plain": [
       "<matplotlib.axes._subplots.AxesSubplot at 0x117130eb8>"
      ]
     },
     "execution_count": 13,
     "metadata": {},
     "output_type": "execute_result"
    },
    {
     "data": {
      "text/plain": [
       "<matplotlib.figure.Figure at 0x1170b6fd0>"
      ]
     },
     "metadata": {},
     "output_type": "display_data"
    },
    {
     "data": {
      "image/png": "[encoded data removed]",
      "text/plain": [
       "<matplotlib.figure.Figure at 0x117142978>"
      ]
     },
     "metadata": {},
     "output_type": "display_data"
    }
   ],
   "source": [
    "plt.figure(figsize=(7,4))\n",
    "df.plot(x='Time and frequency',y='Value')"
   ]
  },
  {
   "cell_type": "code",
   "execution_count": 14,
   "metadata": {
    "collapsed": false
   },
   "outputs": [
    {
     "data": {
      "text/plain": [
       "<matplotlib.axes._subplots.AxesSubplot at 0x119b7f278>"
      ]
     },
     "execution_count": 14,
     "metadata": {},
     "output_type": "execute_result"
    },
    {
     "data": {
      "image/png": "[encoded data removed]",
      "text/plain": [
       "<matplotlib.figure.Figure at 0x119b7fb00>"
      ]
     },
     "metadata": {},
     "output_type": "display_data"
    }
   ],
   "source": [
    "fig = plt.figure(figsize=(16,12))\n",
    "ax = fig.add_subplot(111)\n",
    "plt.grid(True)\n",
    "df.plot(x='Time and frequency',y='Value', ax=ax, grid=True) # kind='barh', , alpha=a, legend=False, color=customcmap,\n",
    "                      # edgecolor='w', xlim=(0,max(df['population'])), title=ttl)"
   ]
  },
  {
   "cell_type": "code",
   "execution_count": 15,
   "metadata": {
    "collapsed": false
   },
   "outputs": [],
   "source": [
    "# plt.figure(figsize=(7,4))\n",
    "# plt.plot(df['Time and frequency'],df['Value'], lw=1.5, label='1st')\n",
    "# plt.plot(y[:,1], lw=1.5, label='2st')\n",
    "# plt.plot(y,'ro')\n",
    "# plt.grid(True)\n",
    "# plt.legend(loc=0)\n",
    "# plt.axis('tight')\n",
    "# plt.xlabel('index')\n",
    "# plt.ylabel('value')\n",
    "# plt.title('a simple plot')"
   ]
  }
 ],
 "metadata": {
  "kernelspec": {
   "display_name": "Python 3",
   "language": "python",
   "name": "python3"
  },
  "language_info": {
   "codemirror_mode": {
    "name": "ipython",
    "version": 3
   },
   "file_extension": ".py",
   "mimetype": "text/x-python",
   "name": "python",
   "nbconvert_exporter": "python",
   "pygments_lexer": "ipython3",
   "version": "3.5.1"
  }
 },
 "nbformat": 4,
 "nbformat_minor": 0
}
