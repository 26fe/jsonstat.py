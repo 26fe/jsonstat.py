{
 "cells": [
  {
   "cell_type": "markdown",
   "metadata": {},
   "source": [
    "### Notebook: using jsonstat.py to explore ISTAT data (unemployment)\n",
    "This Jupyter notebook shows how to use [jsonstat.py](http://github.com/26fe/jsonstat.py) python library to explore Istat data.\n",
    "[Istat](http://www.istat.it/en/about-istat) is the Italian National Institute of Statistics. It publishes a rest api for browsing italian statistics. This api can return results in [jsonstat format](https://json-stat.org/). "
   ]
  },
  {
   "cell_type": "code",
   "execution_count": 1,
   "metadata": {
    "collapsed": false
   },
   "outputs": [],
   "source": [
    "from __future__ import print_function\n",
    "import os\n",
    "import pandas as pd\n",
    "from IPython.core.display import HTML\n",
    "import matplotlib.pyplot as plt\n",
    "%matplotlib inline\n",
    "\n",
    "import istat"
   ]
  },
  {
   "cell_type": "markdown",
   "metadata": {},
   "source": [
    "#### Using istat api\n",
    "Next step is to set a cache dir where to store json files downloaded from Istat. Storing file on disk speeds up development, and assures consistent results over time. Eventually, you can delete donwloaded files to get a fresh copy."
   ]
  },
  {
   "cell_type": "code",
   "execution_count": 2,
   "metadata": {
    "collapsed": false
   },
   "outputs": [
    {
     "name": "stdout",
     "output_type": "stream",
     "text": [
      "cache_dir is '/Users/26fe_nas/gioprj.on_mac/prj.python/jsonstat.py/tmp/istat_cached'\n"
     ]
    }
   ],
   "source": [
    "cache_dir = os.path.abspath(os.path.join(\"..\", \"tmp\", \"istat_cached\")) # you could choice /tmp\n",
    "istat.cache_dir(cache_dir)\n",
    "print(\"cache_dir is '{}'\".format(istat.cache_dir()))"
   ]
  },
  {
   "cell_type": "markdown",
   "metadata": {},
   "source": [
    "List all istat areas"
   ]
  },
  {
   "cell_type": "code",
   "execution_count": 3,
   "metadata": {
    "collapsed": false
   },
   "outputs": [
    {
     "data": {
      "text/html": [
       "<table><tr><th>id</th><th>desc</th></tr><tr><td>3</td><td>2011 Population and housing census</td></td></tr><tr><td>4</td><td>Enterprises</td></td></tr><tr><td>7</td><td>Environment and Energy</td></td></tr><tr><td>8</td><td>Population and Households</td></td></tr><tr><td>9</td><td>Households Economic Conditions and Disparities</td></td></tr><tr><td>10</td><td>Health statistics</td></td></tr><tr><td>11</td><td>Social Security and Welfare</td></td></tr><tr><td>12</td><td>Education and training</td></td></tr><tr><td>13</td><td>Communication, culture and leisure</td></td></tr><tr><td>14</td><td>Justice and Security</td></td></tr><tr><td>15</td><td>Citizens' opinions and satisfaction with life</td></td></tr><tr><td>16</td><td>Social participation</td></td></tr><tr><td>17</td><td>National Accounts</td></td></tr><tr><td>19</td><td>Agriculture</td></td></tr><tr><td>20</td><td>Industry and Construction</td></td></tr><tr><td>21</td><td>Services</td></td></tr><tr><td>22</td><td>Public Administrations and Private Institutions</td></td></tr><tr><td>24</td><td>External Trade and Internationalisation</td></td></tr><tr><td>25</td><td>Prices</td></td></tr><tr><td>26</td><td>Labour</td></td></tr></table>"
      ],
      "text/plain": [
       "[CEN:2011 Population and housing census,\n",
       " ENT:Enterprises,\n",
       " ENV:Environment and Energy,\n",
       " POP:Population and Households,\n",
       " HOU:Households Economic Conditions and Disparities,\n",
       " HEA:Health statistics,\n",
       " WEL:Social Security and Welfare,\n",
       " EDU:Education and training,\n",
       " COM:Communication, culture and leisure,\n",
       " JUS:Justice and Security,\n",
       " OPI:Citizens' opinions and satisfaction with life,\n",
       " SOC:Social participation,\n",
       " ACC:National Accounts,\n",
       " AGR:Agriculture,\n",
       " IND:Industry and Construction,\n",
       " SER:Services,\n",
       " PUB:Public Administrations and Private Institutions,\n",
       " EXT:External Trade and Internationalisation,\n",
       " PRI:Prices,\n",
       " LAB:Labour]"
      ]
     },
     "execution_count": 3,
     "metadata": {},
     "output_type": "execute_result"
    }
   ],
   "source": [
    "istat.areas()"
   ]
  },
  {
   "cell_type": "markdown",
   "metadata": {},
   "source": [
    "List all datasets contained into area `LAB` (Labour)"
   ]
  },
  {
   "cell_type": "code",
   "execution_count": 4,
   "metadata": {
    "collapsed": false
   },
   "outputs": [
    {
     "data": {
      "text/html": [
       "IstatArea: cod = LAB description = Labour"
      ],
      "text/plain": [
       "LAB:Labour"
      ]
     },
     "execution_count": 4,
     "metadata": {},
     "output_type": "execute_result"
    }
   ],
   "source": [
    "istat_area_lab = istat.area('LAB')\n",
    "istat_area_lab"
   ]
  },
  {
   "cell_type": "markdown",
   "metadata": {},
   "source": [
    "List all dimension for dataset `DCCV_TAXDISOCCU` (Unemployment rate)"
   ]
  },
  {
   "cell_type": "code",
   "execution_count": 5,
   "metadata": {
    "collapsed": false
   },
   "outputs": [
    {
     "data": {
      "text/html": [
       "DCCV_TAXDISOCCU(9):Unemployment rate</br><table><tr><th>nr</th><th>name</th><th>nr. values</th><th>values (first 3 values)</th></tr><tr><td>0</td><td>Territory</td><td>136</td><td>1:'Italy', 3:'Nord', 4:'Nord-ovest' ...</td></td></tr><tr><td>1</td><td>Data type</td><td>1</td><td>6:'unemployment rate'</td></td></tr><tr><td>2</td><td>Measure</td><td>1</td><td>1:'percentage values'</td></td></tr><tr><td>3</td><td>Gender</td><td>3</td><td>1:'males', 2:'females', 3:'total' ...</td></td></tr><tr><td>4</td><td>Age class</td><td>14</td><td>32:'18-29 years', 3:'20-24 years', 4:'15-24 years' ...</td></td></tr><tr><td>5</td><td>Highest level of education attained</td><td>5</td><td>11:'tertiary (university, doctoral and specialization courses)', 12:'total', 3:'primary school certificate, no educational degree' ...</td></td></tr><tr><td>6</td><td>Citizenship</td><td>3</td><td>1:'italian', 2:'foreign', 3:'total' ...</td></td></tr><tr><td>7</td><td>Duration of unemployment</td><td>2</td><td>2:'12 months and more', 3:'total'</td></td></tr><tr><td>8</td><td>Time and frequency</td><td>193</td><td>1536:'Q4-1980', 2049:'Q4-2007', 1540:'1981' ...</td></td></tr></table>"
      ],
      "text/plain": [
       "DCCV_TAXDISOCCU(9):Unemployment rate"
      ]
     },
     "execution_count": 5,
     "metadata": {},
     "output_type": "execute_result"
    }
   ],
   "source": [
    "istat_dataset_taxdisoccu = istat_area_lab.dataset('DCCV_TAXDISOCCU')\n",
    "istat_dataset_taxdisoccu"
   ]
  },
  {
   "cell_type": "markdown",
   "metadata": {},
   "source": [
    "Extract data from dataset `DCCV_TAXDISOCCU` "
   ]
  },
  {
   "cell_type": "code",
   "execution_count": 6,
   "metadata": {
    "collapsed": false
   },
   "outputs": [
    {
     "data": {
      "text/html": [
       "JsonstatCollection contains the following JsonStatDataSet:</br><table><tr><td>pos</td><td>dataset</td></tr><tr><td>0</td><td>'IDITTER107*IDTIME'</td></tr></table>"
      ],
      "text/plain": [
       "JsonstatCollection contains the following JsonStatDataSet:\n",
       "+-----+---------------------+\n",
       "| pos | dataset             |\n",
       "+-----+---------------------+\n",
       "| 0   | 'IDITTER107*IDTIME' |\n",
       "+-----+---------------------+"
      ]
     },
     "execution_count": 6,
     "metadata": {},
     "output_type": "execute_result"
    }
   ],
   "source": [
    "spec = { \n",
    "    \"Territory\": 0,                            # 1 Italy\n",
    "    \"Data type\": 6,                            # (6:'unemployment rate')\n",
    "    'Measure': 1,                              # 1 : 'percentage values'\n",
    "    'Gender': 3,                               # 3 total\n",
    "    'Age class':31,                            # 31:'15-74 years'\n",
    "    'Highest level of education attained': 12, # 12:'total', \n",
    "    'Citizenship': 3,                          # 3:'total')\n",
    "    'Duration of unemployment': 3,             # 3:'total'\n",
    "    'Time and frequency': 0                    # All\n",
    "}\n",
    "\n",
    "# convert istat dataset into jsonstat collection and print some info\n",
    "collection = istat_dataset_taxdisoccu.getvalues(spec)\n",
    "collection"
   ]
  },
  {
   "cell_type": "markdown",
   "metadata": {},
   "source": [
    "Print some info of the only dataset contained into the above jsonstat collection"
   ]
  },
  {
   "cell_type": "code",
   "execution_count": 7,
   "metadata": {
    "collapsed": false
   },
   "outputs": [
    {
     "data": {
      "text/html": [
       "name:   'IDITTER107*IDTIME'</br>label:  'Unemployment rate by Territory and Time and frequency - unemployment rate - percentage values - 15-74 years'</br>size: 7830</br><table><tr><td>pos</td><td>id</td><td>label</td><td>size</td><td>role</td></tr><tr><td>0</td><td>IDITTER107</td><td>Territory</td><td>135</td><td></td></tr><tr><td>1</td><td>IDTIME</td><td>Time and frequency</td><td>58</td><td></td></tr></table>"
      ],
      "text/plain": [
       "name:   'IDITTER107*IDTIME'\n",
       "label:  'Unemployment rate by Territory and Time and frequency - unemployment rate - percentage values - 15-74 years'\n",
       "size: 7830\n",
       "+-----+------------+--------------------+------+------+\n",
       "| pos | id         | label              | size | role |\n",
       "+-----+------------+--------------------+------+------+\n",
       "| 0   | IDITTER107 | Territory          | 135  |      |\n",
       "| 1   | IDTIME     | Time and frequency | 58   |      |\n",
       "+-----+------------+--------------------+------+------+"
      ]
     },
     "execution_count": 7,
     "metadata": {},
     "output_type": "execute_result"
    }
   ],
   "source": [
    "jsonstat_dataset = collection.dataset(0)\n",
    "jsonstat_dataset"
   ]
  },
  {
   "cell_type": "code",
   "execution_count": 8,
   "metadata": {
    "collapsed": false
   },
   "outputs": [
    {
     "data": {
      "text/html": [
       "<div>\n",
       "<table border=\"1\" class=\"dataframe\">\n",
       "  <thead>\n",
       "    <tr style=\"text-align: right;\">\n",
       "      <th></th>\n",
       "      <th>Territory</th>\n",
       "      <th>Time and frequency</th>\n",
       "      <th>Value</th>\n",
       "    </tr>\n",
       "  </thead>\n",
       "  <tbody>\n",
       "    <tr>\n",
       "      <th>0</th>\n",
       "      <td>Italy</td>\n",
       "      <td>2004</td>\n",
       "      <td>8.01</td>\n",
       "    </tr>\n",
       "    <tr>\n",
       "      <th>1</th>\n",
       "      <td>Italy</td>\n",
       "      <td>Q1-2004</td>\n",
       "      <td>8.68</td>\n",
       "    </tr>\n",
       "    <tr>\n",
       "      <th>2</th>\n",
       "      <td>Italy</td>\n",
       "      <td>Q2-2004</td>\n",
       "      <td>7.88</td>\n",
       "    </tr>\n",
       "    <tr>\n",
       "      <th>3</th>\n",
       "      <td>Italy</td>\n",
       "      <td>Q3-2004</td>\n",
       "      <td>7.33</td>\n",
       "    </tr>\n",
       "    <tr>\n",
       "      <th>4</th>\n",
       "      <td>Italy</td>\n",
       "      <td>Q4-2004</td>\n",
       "      <td>8.17</td>\n",
       "    </tr>\n",
       "  </tbody>\n",
       "</table>\n",
       "</div>"
      ],
      "text/plain": [
       "  Territory Time and frequency  Value\n",
       "0     Italy               2004   8.01\n",
       "1     Italy            Q1-2004   8.68\n",
       "2     Italy            Q2-2004   7.88\n",
       "3     Italy            Q3-2004   7.33\n",
       "4     Italy            Q4-2004   8.17"
      ]
     },
     "execution_count": 8,
     "metadata": {},
     "output_type": "execute_result"
    }
   ],
   "source": [
    "df_all = jsonstat_dataset.to_table(rtype=pd.DataFrame)\n",
    "df_all.head()"
   ]
  },
  {
   "cell_type": "code",
   "execution_count": 9,
   "metadata": {
    "collapsed": false
   },
   "outputs": [
    {
     "data": {
      "text/html": [
       "<div>\n",
       "<table border=\"1\" class=\"dataframe\">\n",
       "  <thead>\n",
       "    <tr style=\"text-align: right;\">\n",
       "      <th>Time and frequency</th>\n",
       "      <th>2004</th>\n",
       "      <th>2005</th>\n",
       "      <th>2006</th>\n",
       "      <th>2007</th>\n",
       "      <th>2008</th>\n",
       "      <th>2009</th>\n",
       "      <th>2010</th>\n",
       "      <th>2011</th>\n",
       "      <th>2012</th>\n",
       "      <th>2013</th>\n",
       "      <th>...</th>\n",
       "      <th>Q4-2005</th>\n",
       "      <th>Q4-2006</th>\n",
       "      <th>Q4-2007</th>\n",
       "      <th>Q4-2008</th>\n",
       "      <th>Q4-2009</th>\n",
       "      <th>Q4-2010</th>\n",
       "      <th>Q4-2011</th>\n",
       "      <th>Q4-2012</th>\n",
       "      <th>Q4-2013</th>\n",
       "      <th>Q4-2014</th>\n",
       "    </tr>\n",
       "    <tr>\n",
       "      <th>Territory</th>\n",
       "      <th></th>\n",
       "      <th></th>\n",
       "      <th></th>\n",
       "      <th></th>\n",
       "      <th></th>\n",
       "      <th></th>\n",
       "      <th></th>\n",
       "      <th></th>\n",
       "      <th></th>\n",
       "      <th></th>\n",
       "      <th></th>\n",
       "      <th></th>\n",
       "      <th></th>\n",
       "      <th></th>\n",
       "      <th></th>\n",
       "      <th></th>\n",
       "      <th></th>\n",
       "      <th></th>\n",
       "      <th></th>\n",
       "      <th></th>\n",
       "      <th></th>\n",
       "    </tr>\n",
       "  </thead>\n",
       "  <tbody>\n",
       "    <tr>\n",
       "      <th>Abruzzo</th>\n",
       "      <td>7.71</td>\n",
       "      <td>7.88</td>\n",
       "      <td>6.57</td>\n",
       "      <td>6.17</td>\n",
       "      <td>6.63</td>\n",
       "      <td>7.97</td>\n",
       "      <td>8.67</td>\n",
       "      <td>8.59</td>\n",
       "      <td>10.85</td>\n",
       "      <td>11.29</td>\n",
       "      <td>...</td>\n",
       "      <td>6.95</td>\n",
       "      <td>6.84</td>\n",
       "      <td>5.87</td>\n",
       "      <td>6.67</td>\n",
       "      <td>7.02</td>\n",
       "      <td>9.15</td>\n",
       "      <td>9.48</td>\n",
       "      <td>10.48</td>\n",
       "      <td>11.21</td>\n",
       "      <td>12.08</td>\n",
       "    </tr>\n",
       "    <tr>\n",
       "      <th>Agrigento</th>\n",
       "      <td>20.18</td>\n",
       "      <td>17.62</td>\n",
       "      <td>13.40</td>\n",
       "      <td>16.91</td>\n",
       "      <td>16.72</td>\n",
       "      <td>17.43</td>\n",
       "      <td>19.42</td>\n",
       "      <td>17.61</td>\n",
       "      <td>19.48</td>\n",
       "      <td>20.98</td>\n",
       "      <td>...</td>\n",
       "      <td>NaN</td>\n",
       "      <td>NaN</td>\n",
       "      <td>NaN</td>\n",
       "      <td>NaN</td>\n",
       "      <td>NaN</td>\n",
       "      <td>NaN</td>\n",
       "      <td>NaN</td>\n",
       "      <td>NaN</td>\n",
       "      <td>NaN</td>\n",
       "      <td>NaN</td>\n",
       "    </tr>\n",
       "    <tr>\n",
       "      <th>Alessandria</th>\n",
       "      <td>5.34</td>\n",
       "      <td>5.37</td>\n",
       "      <td>4.65</td>\n",
       "      <td>4.63</td>\n",
       "      <td>4.85</td>\n",
       "      <td>5.81</td>\n",
       "      <td>5.34</td>\n",
       "      <td>6.66</td>\n",
       "      <td>10.48</td>\n",
       "      <td>11.80</td>\n",
       "      <td>...</td>\n",
       "      <td>NaN</td>\n",
       "      <td>NaN</td>\n",
       "      <td>NaN</td>\n",
       "      <td>NaN</td>\n",
       "      <td>NaN</td>\n",
       "      <td>NaN</td>\n",
       "      <td>NaN</td>\n",
       "      <td>NaN</td>\n",
       "      <td>NaN</td>\n",
       "      <td>NaN</td>\n",
       "    </tr>\n",
       "    <tr>\n",
       "      <th>Ancona</th>\n",
       "      <td>5.11</td>\n",
       "      <td>4.14</td>\n",
       "      <td>4.05</td>\n",
       "      <td>3.49</td>\n",
       "      <td>3.78</td>\n",
       "      <td>5.82</td>\n",
       "      <td>4.94</td>\n",
       "      <td>6.84</td>\n",
       "      <td>9.20</td>\n",
       "      <td>11.27</td>\n",
       "      <td>...</td>\n",
       "      <td>NaN</td>\n",
       "      <td>NaN</td>\n",
       "      <td>NaN</td>\n",
       "      <td>NaN</td>\n",
       "      <td>NaN</td>\n",
       "      <td>NaN</td>\n",
       "      <td>NaN</td>\n",
       "      <td>NaN</td>\n",
       "      <td>NaN</td>\n",
       "      <td>NaN</td>\n",
       "    </tr>\n",
       "    <tr>\n",
       "      <th>Arezzo</th>\n",
       "      <td>4.55</td>\n",
       "      <td>5.50</td>\n",
       "      <td>4.88</td>\n",
       "      <td>4.61</td>\n",
       "      <td>4.91</td>\n",
       "      <td>5.51</td>\n",
       "      <td>5.87</td>\n",
       "      <td>6.04</td>\n",
       "      <td>7.33</td>\n",
       "      <td>8.04</td>\n",
       "      <td>...</td>\n",
       "      <td>NaN</td>\n",
       "      <td>NaN</td>\n",
       "      <td>NaN</td>\n",
       "      <td>NaN</td>\n",
       "      <td>NaN</td>\n",
       "      <td>NaN</td>\n",
       "      <td>NaN</td>\n",
       "      <td>NaN</td>\n",
       "      <td>NaN</td>\n",
       "      <td>NaN</td>\n",
       "    </tr>\n",
       "  </tbody>\n",
       "</table>\n",
       "<p>5 rows × 58 columns</p>\n",
       "</div>"
      ],
      "text/plain": [
       "Time and frequency   2004   2005   2006   2007   2008   2009   2010   2011  \\\n",
       "Territory                                                                    \n",
       "Abruzzo              7.71   7.88   6.57   6.17   6.63   7.97   8.67   8.59   \n",
       "Agrigento           20.18  17.62  13.40  16.91  16.72  17.43  19.42  17.61   \n",
       "Alessandria          5.34   5.37   4.65   4.63   4.85   5.81   5.34   6.66   \n",
       "Ancona               5.11   4.14   4.05   3.49   3.78   5.82   4.94   6.84   \n",
       "Arezzo               4.55   5.50   4.88   4.61   4.91   5.51   5.87   6.04   \n",
       "\n",
       "Time and frequency   2012   2013   ...     Q4-2005  Q4-2006  Q4-2007  Q4-2008  \\\n",
       "Territory                          ...                                          \n",
       "Abruzzo             10.85  11.29   ...        6.95     6.84     5.87     6.67   \n",
       "Agrigento           19.48  20.98   ...         NaN      NaN      NaN      NaN   \n",
       "Alessandria         10.48  11.80   ...         NaN      NaN      NaN      NaN   \n",
       "Ancona               9.20  11.27   ...         NaN      NaN      NaN      NaN   \n",
       "Arezzo               7.33   8.04   ...         NaN      NaN      NaN      NaN   \n",
       "\n",
       "Time and frequency  Q4-2009  Q4-2010  Q4-2011  Q4-2012  Q4-2013  Q4-2014  \n",
       "Territory                                                                 \n",
       "Abruzzo                7.02     9.15     9.48    10.48    11.21    12.08  \n",
       "Agrigento               NaN      NaN      NaN      NaN      NaN      NaN  \n",
       "Alessandria             NaN      NaN      NaN      NaN      NaN      NaN  \n",
       "Ancona                  NaN      NaN      NaN      NaN      NaN      NaN  \n",
       "Arezzo                  NaN      NaN      NaN      NaN      NaN      NaN  \n",
       "\n",
       "[5 rows x 58 columns]"
      ]
     },
     "execution_count": 9,
     "metadata": {},
     "output_type": "execute_result"
    }
   ],
   "source": [
    "df_all.pivot('Territory', 'Time and frequency', 'Value').head()"
   ]
  },
  {
   "cell_type": "code",
   "execution_count": 10,
   "metadata": {
    "collapsed": false
   },
   "outputs": [
    {
     "data": {
      "text/html": [
       "JsonstatCollection contains the following JsonStatDataSet:</br><table><tr><td>pos</td><td>dataset</td></tr><tr><td>0</td><td>'IDCLASETA28*IDTIME'</td></tr></table>"
      ],
      "text/plain": [
       "JsonstatCollection contains the following JsonStatDataSet:\n",
       "+-----+----------------------+\n",
       "| pos | dataset              |\n",
       "+-----+----------------------+\n",
       "| 0   | 'IDCLASETA28*IDTIME' |\n",
       "+-----+----------------------+"
      ]
     },
     "execution_count": 10,
     "metadata": {},
     "output_type": "execute_result"
    }
   ],
   "source": [
    "spec = { \n",
    "    \"Territory\": 1,                            # 1 Italy\n",
    "    \"Data type\": 6,                            # (6:'unemployment rate')\n",
    "    'Measure': 1,\n",
    "    'Gender': 3,\n",
    "    'Age class':0,                             # all classes\n",
    "    'Highest level of education attained': 12, # 12:'total', \n",
    "    'Citizenship': 3,                          # 3:'total')\n",
    "    'Duration of unemployment': 3,             #  3:'total')\n",
    "    'Time and frequency': 0                    # All\n",
    "}\n",
    "\n",
    "# convert istat dataset into jsonstat collection and print some info\n",
    "collection_2 = istat_dataset_taxdisoccu.getvalues(spec)\n",
    "collection_2"
   ]
  },
  {
   "cell_type": "code",
   "execution_count": 11,
   "metadata": {
    "collapsed": false
   },
   "outputs": [
    {
     "data": {
      "text/html": [
       "<div>\n",
       "<table border=\"1\" class=\"dataframe\">\n",
       "  <thead>\n",
       "    <tr style=\"text-align: right;\">\n",
       "      <th></th>\n",
       "      <th>Age class</th>\n",
       "      <th>Time and frequency</th>\n",
       "      <th>Value</th>\n",
       "    </tr>\n",
       "  </thead>\n",
       "  <tbody>\n",
       "    <tr>\n",
       "      <th>0</th>\n",
       "      <td>15-74 years</td>\n",
       "      <td>Q4-1992</td>\n",
       "      <td>NaN</td>\n",
       "    </tr>\n",
       "    <tr>\n",
       "      <th>1</th>\n",
       "      <td>15-74 years</td>\n",
       "      <td>1993</td>\n",
       "      <td>NaN</td>\n",
       "    </tr>\n",
       "    <tr>\n",
       "      <th>2</th>\n",
       "      <td>15-74 years</td>\n",
       "      <td>Q1-1993</td>\n",
       "      <td>NaN</td>\n",
       "    </tr>\n",
       "    <tr>\n",
       "      <th>3</th>\n",
       "      <td>15-74 years</td>\n",
       "      <td>Q2-1993</td>\n",
       "      <td>NaN</td>\n",
       "    </tr>\n",
       "    <tr>\n",
       "      <th>4</th>\n",
       "      <td>15-74 years</td>\n",
       "      <td>Q3-1993</td>\n",
       "      <td>NaN</td>\n",
       "    </tr>\n",
       "    <tr>\n",
       "      <th>5</th>\n",
       "      <td>15-74 years</td>\n",
       "      <td>Q4-1993</td>\n",
       "      <td>NaN</td>\n",
       "    </tr>\n",
       "  </tbody>\n",
       "</table>\n",
       "</div>"
      ],
      "text/plain": [
       "     Age class Time and frequency  Value\n",
       "0  15-74 years            Q4-1992    NaN\n",
       "1  15-74 years               1993    NaN\n",
       "2  15-74 years            Q1-1993    NaN\n",
       "3  15-74 years            Q2-1993    NaN\n",
       "4  15-74 years            Q3-1993    NaN\n",
       "5  15-74 years            Q4-1993    NaN"
      ]
     },
     "execution_count": 11,
     "metadata": {},
     "output_type": "execute_result"
    }
   ],
   "source": [
    "df = collection_2.dataset(0).to_table(rtype=pd.DataFrame, blocked_dims={'IDCLASETA28':'31'})\n",
    "df.head(6)"
   ]
  },
  {
   "cell_type": "code",
   "execution_count": 12,
   "metadata": {
    "collapsed": false
   },
   "outputs": [
    {
     "data": {
      "text/html": [
       "<div>\n",
       "<table border=\"1\" class=\"dataframe\">\n",
       "  <thead>\n",
       "    <tr style=\"text-align: right;\">\n",
       "      <th></th>\n",
       "      <th>Age class</th>\n",
       "      <th>Time and frequency</th>\n",
       "      <th>Value</th>\n",
       "    </tr>\n",
       "  </thead>\n",
       "  <tbody>\n",
       "    <tr>\n",
       "      <th>57</th>\n",
       "      <td>15-74 years</td>\n",
       "      <td>Q1-2004</td>\n",
       "      <td>8.68</td>\n",
       "    </tr>\n",
       "    <tr>\n",
       "      <th>58</th>\n",
       "      <td>15-74 years</td>\n",
       "      <td>Q2-2004</td>\n",
       "      <td>7.88</td>\n",
       "    </tr>\n",
       "    <tr>\n",
       "      <th>59</th>\n",
       "      <td>15-74 years</td>\n",
       "      <td>Q3-2004</td>\n",
       "      <td>7.33</td>\n",
       "    </tr>\n",
       "    <tr>\n",
       "      <th>60</th>\n",
       "      <td>15-74 years</td>\n",
       "      <td>Q4-2004</td>\n",
       "      <td>8.17</td>\n",
       "    </tr>\n",
       "    <tr>\n",
       "      <th>62</th>\n",
       "      <td>15-74 years</td>\n",
       "      <td>Q1-2005</td>\n",
       "      <td>8.27</td>\n",
       "    </tr>\n",
       "    <tr>\n",
       "      <th>63</th>\n",
       "      <td>15-74 years</td>\n",
       "      <td>Q2-2005</td>\n",
       "      <td>7.54</td>\n",
       "    </tr>\n",
       "  </tbody>\n",
       "</table>\n",
       "</div>"
      ],
      "text/plain": [
       "      Age class Time and frequency  Value\n",
       "57  15-74 years            Q1-2004   8.68\n",
       "58  15-74 years            Q2-2004   7.88\n",
       "59  15-74 years            Q3-2004   7.33\n",
       "60  15-74 years            Q4-2004   8.17\n",
       "62  15-74 years            Q1-2005   8.27\n",
       "63  15-74 years            Q2-2005   7.54"
      ]
     },
     "execution_count": 12,
     "metadata": {},
     "output_type": "execute_result"
    }
   ],
   "source": [
    "df = df.dropna()\n",
    "df = df[df['Time and frequency'].str.contains(r'^Q.*')]\n",
    "# df = df.set_index('Time and frequency')\n",
    "df.head(6)"
   ]
  },
  {
   "cell_type": "code",
   "execution_count": 13,
   "metadata": {
    "collapsed": false
   },
   "outputs": [
    {
     "data": {
      "text/plain": [
       "<matplotlib.axes._subplots.AxesSubplot at 0x1184b1908>"
      ]
     },
     "execution_count": 13,
     "metadata": {},
     "output_type": "execute_result"
    },
    {
     "data": {
      "image/png": "[encoded data removed]",
      "text/plain": [
       "<matplotlib.figure.Figure at 0x118483fd0>"
      ]
     },
     "metadata": {},
     "output_type": "display_data"
    }
   ],
   "source": [
    "df.plot(x='Time and frequency',y='Value', figsize=(18,4))"
   ]
  },
  {
   "cell_type": "code",
   "execution_count": 14,
   "metadata": {
    "collapsed": false
   },
   "outputs": [
    {
     "data": {
      "text/plain": [
       "<matplotlib.axes._subplots.AxesSubplot at 0x11a898b70>"
      ]
     },
     "execution_count": 14,
     "metadata": {},
     "output_type": "execute_result"
    },
    {
     "data": {
      "image/png": "[encoded data removed]",
      "text/plain": [
       "<matplotlib.figure.Figure at 0x118483ef0>"
      ]
     },
     "metadata": {},
     "output_type": "display_data"
    }
   ],
   "source": [
    "fig = plt.figure(figsize=(18,6))\n",
    "ax = fig.add_subplot(111)\n",
    "plt.grid(True)\n",
    "df.plot(x='Time and frequency',y='Value', ax=ax, grid=True) \n",
    "# kind='barh', , alpha=a, legend=False, color=customcmap,\n",
    "# edgecolor='w', xlim=(0,max(df['population'])), title=ttl)"
   ]
  },
  {
   "cell_type": "code",
   "execution_count": 15,
   "metadata": {
    "collapsed": false
   },
   "outputs": [],
   "source": [
    "# plt.figure(figsize=(7,4))\n",
    "# plt.plot(df['Time and frequency'],df['Value'], lw=1.5, label='1st')\n",
    "# plt.plot(y[:,1], lw=1.5, label='2st')\n",
    "# plt.plot(y,'ro')\n",
    "# plt.grid(True)\n",
    "# plt.legend(loc=0)\n",
    "# plt.axis('tight')\n",
    "# plt.xlabel('index')\n",
    "# plt.ylabel('value')\n",
    "# plt.title('a simple plot')"
   ]
  },
  {
   "cell_type": "code",
   "execution_count": 16,
   "metadata": {
    "collapsed": false
   },
   "outputs": [
    {
     "data": {
      "text/html": [
       "<div>\n",
       "<table border=\"1\" class=\"dataframe\">\n",
       "  <thead>\n",
       "    <tr style=\"text-align: right;\">\n",
       "      <th></th>\n",
       "      <th>Time and frequency</th>\n",
       "      <th>Value</th>\n",
       "    </tr>\n",
       "  </thead>\n",
       "  <tbody>\n",
       "    <tr>\n",
       "      <th>187</th>\n",
       "      <td>Q2-2014</td>\n",
       "      <td>25419.15</td>\n",
       "    </tr>\n",
       "    <tr>\n",
       "      <th>188</th>\n",
       "      <td>Q3-2014</td>\n",
       "      <td>25373.70</td>\n",
       "    </tr>\n",
       "    <tr>\n",
       "      <th>189</th>\n",
       "      <td>Q4-2014</td>\n",
       "      <td>25794.44</td>\n",
       "    </tr>\n",
       "    <tr>\n",
       "      <th>190</th>\n",
       "      <td>Q1-2015</td>\n",
       "      <td>25460.25</td>\n",
       "    </tr>\n",
       "    <tr>\n",
       "      <th>191</th>\n",
       "      <td>Q2-2015</td>\n",
       "      <td>25598.29</td>\n",
       "    </tr>\n",
       "    <tr>\n",
       "      <th>192</th>\n",
       "      <td>Q3-2015</td>\n",
       "      <td>25321.61</td>\n",
       "    </tr>\n",
       "  </tbody>\n",
       "</table>\n",
       "</div>"
      ],
      "text/plain": [
       "    Time and frequency     Value\n",
       "187            Q2-2014  25419.15\n",
       "188            Q3-2014  25373.70\n",
       "189            Q4-2014  25794.44\n",
       "190            Q1-2015  25460.25\n",
       "191            Q2-2015  25598.29\n",
       "192            Q3-2015  25321.61"
      ]
     },
     "execution_count": 16,
     "metadata": {},
     "output_type": "execute_result"
    }
   ],
   "source": [
    "# forza lavoro\n",
    "istat_forzlv = istat.dataset('LAB', 'DCCV_FORZLV')\n",
    "\n",
    "spec = { \n",
    "    \"Territory\": 'Italy',                            \n",
    "    \"Data type\": 'number of labour force 15 years and more (thousands)',                            # \n",
    "    'Measure':   'absolute values',               \n",
    "    'Gender':    'total',                               \n",
    "    'Age class': '15 years and over',                            \n",
    "    'Highest level of education attained': 'total', \n",
    "    'Citizenship': 'total',                         \n",
    "    'Time and frequency': 0                    \n",
    "}\n",
    "\n",
    "df_forzlv = istat_forzlv.getvalues(spec).dataset(0).to_table(rtype=pd.DataFrame)\n",
    "df_forzlv = df_forzlv.dropna()\n",
    "df_forzlv = df_forzlv[df_forzlv['Time and frequency'].str.contains(r'^Q.*')]\n",
    "df_forzlv.tail(6)"
   ]
  },
  {
   "cell_type": "code",
   "execution_count": 17,
   "metadata": {
    "collapsed": false
   },
   "outputs": [],
   "source": [
    "istat_inattiv = istat.dataset('LAB', 'DCCV_INATTIV')\n",
    "# HTML(istat_inattiv.info_dimensions_as_html())"
   ]
  },
  {
   "cell_type": "code",
   "execution_count": 18,
   "metadata": {
    "collapsed": false
   },
   "outputs": [
    {
     "data": {
      "text/html": [
       "<div>\n",
       "<table border=\"1\" class=\"dataframe\">\n",
       "  <thead>\n",
       "    <tr style=\"text-align: right;\">\n",
       "      <th></th>\n",
       "      <th>citizenship</th>\n",
       "      <th>Labour status</th>\n",
       "      <th>Inactivity reasons</th>\n",
       "      <th>Main status</th>\n",
       "      <th>Time and frequency</th>\n",
       "      <th>Value</th>\n",
       "    </tr>\n",
       "  </thead>\n",
       "  <tbody>\n",
       "    <tr>\n",
       "      <th>24756</th>\n",
       "      <td>total</td>\n",
       "      <td>total</td>\n",
       "      <td>total</td>\n",
       "      <td>total</td>\n",
       "      <td>Q2-2014</td>\n",
       "      <td>26594.57</td>\n",
       "    </tr>\n",
       "    <tr>\n",
       "      <th>24757</th>\n",
       "      <td>total</td>\n",
       "      <td>total</td>\n",
       "      <td>total</td>\n",
       "      <td>total</td>\n",
       "      <td>Q3-2014</td>\n",
       "      <td>26646.90</td>\n",
       "    </tr>\n",
       "    <tr>\n",
       "      <th>24758</th>\n",
       "      <td>total</td>\n",
       "      <td>total</td>\n",
       "      <td>total</td>\n",
       "      <td>total</td>\n",
       "      <td>Q4-2014</td>\n",
       "      <td>26257.15</td>\n",
       "    </tr>\n",
       "    <tr>\n",
       "      <th>24759</th>\n",
       "      <td>total</td>\n",
       "      <td>total</td>\n",
       "      <td>total</td>\n",
       "      <td>total</td>\n",
       "      <td>Q1-2015</td>\n",
       "      <td>26608.07</td>\n",
       "    </tr>\n",
       "    <tr>\n",
       "      <th>24760</th>\n",
       "      <td>total</td>\n",
       "      <td>total</td>\n",
       "      <td>total</td>\n",
       "      <td>total</td>\n",
       "      <td>Q2-2015</td>\n",
       "      <td>26487.67</td>\n",
       "    </tr>\n",
       "    <tr>\n",
       "      <th>24761</th>\n",
       "      <td>total</td>\n",
       "      <td>total</td>\n",
       "      <td>total</td>\n",
       "      <td>total</td>\n",
       "      <td>Q3-2015</td>\n",
       "      <td>26746.26</td>\n",
       "    </tr>\n",
       "  </tbody>\n",
       "</table>\n",
       "</div>"
      ],
      "text/plain": [
       "      citizenship Labour status Inactivity reasons Main status  \\\n",
       "24756       total         total              total       total   \n",
       "24757       total         total              total       total   \n",
       "24758       total         total              total       total   \n",
       "24759       total         total              total       total   \n",
       "24760       total         total              total       total   \n",
       "24761       total         total              total       total   \n",
       "\n",
       "      Time and frequency     Value  \n",
       "24756            Q2-2014  26594.57  \n",
       "24757            Q3-2014  26646.90  \n",
       "24758            Q4-2014  26257.15  \n",
       "24759            Q1-2015  26608.07  \n",
       "24760            Q2-2015  26487.67  \n",
       "24761            Q3-2015  26746.26  "
      ]
     },
     "execution_count": 18,
     "metadata": {},
     "output_type": "execute_result"
    }
   ],
   "source": [
    "spec = { \n",
    "    \"Territory\": 'Italy',                            \n",
    "    \"Data type\": 'number of inactive persons',                           \n",
    "    'Measure':   'absolute values',               \n",
    "    'Gender':    'total',                               \n",
    "    'Age class': '15 years and over',                            \n",
    "    'Highest level of education attained': 'total', \n",
    "    'Time and frequency': 0                    \n",
    "}\n",
    "\n",
    "df_inattiv = istat_inattiv.getvalues(spec).dataset(0).to_table(rtype=pd.DataFrame)\n",
    "df_inattiv = df_inattiv.dropna()\n",
    "df_inattiv = df_inattiv[df_inattiv['Time and frequency'].str.contains(r'^Q.*')]\n",
    "df_inattiv.tail(6)"
   ]
  }
 ],
 "metadata": {
  "kernelspec": {
   "display_name": "Python 3",
   "language": "python",
   "name": "python3"
  },
  "language_info": {
   "codemirror_mode": {
    "name": "ipython",
    "version": 3
   },
   "file_extension": ".py",
   "mimetype": "text/x-python",
   "name": "python",
   "nbconvert_exporter": "python",
   "pygments_lexer": "ipython3",
   "version": "3.5.1"
  }
 },
 "nbformat": 4,
 "nbformat_minor": 0
}
