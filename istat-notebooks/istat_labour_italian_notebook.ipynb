{
 "cells": [
  {
   "cell_type": "markdown",
   "metadata": {},
   "source": [
    "### Notebook: using jsonstat.py to explore ISTAT data (unemployment)\n",
    "This Jupyter notebook shows how to use [jsonstat.py](http://github.com/26fe/jsonstat.py) python library to explore Istat data.\n",
    "[Istat](http://www.istat.it/en/about-istat) is the Italian National Institute of Statistics. It publishs a rest api for browsing italian statistics. This api can return results in jsonstat format. "
   ]
  },
  {
   "cell_type": "code",
   "execution_count": 1,
   "metadata": {
    "collapsed": false
   },
   "outputs": [],
   "source": [
    "from __future__ import print_function\n",
    "import os\n",
    "import pandas as pd\n",
    "from IPython.core.display import HTML\n",
    "import matplotlib.pyplot as plt\n",
    "%matplotlib inline\n",
    "\n",
    "import istat"
   ]
  },
  {
   "cell_type": "markdown",
   "metadata": {},
   "source": [
    "Next step is to set a cache dir where to store json files downloaded from Istat. Storing file on disk speeds up development, and assures consistent results over time. Eventually, you can delete donwloaded files to get a fresh copy."
   ]
  },
  {
   "cell_type": "code",
   "execution_count": 2,
   "metadata": {
    "collapsed": false
   },
   "outputs": [
    {
     "name": "stdout",
     "output_type": "stream",
     "text": [
      "cache_dir is '/Users/26fe_nas/gioprj.on_mac/prj.python/jsonstat.py/tmp/istat_cached'\n"
     ]
    }
   ],
   "source": [
    "cache_dir = os.path.abspath(os.path.join(\"..\", \"tmp\", \"istat_cached\"))\n",
    "istat.cache_dir(cache_dir)\n",
    "istat.lang(0)  #italian\n",
    "print(\"cache_dir is '{}'\".format(istat.cache_dir()))"
   ]
  },
  {
   "cell_type": "markdown",
   "metadata": {},
   "source": [
    "List all datasets contained into area `LAB` (Labour)"
   ]
  },
  {
   "cell_type": "code",
   "execution_count": 3,
   "metadata": {
    "collapsed": false
   },
   "outputs": [
    {
     "data": {
      "text/html": [
       "<table><tr><th>cod</th><th>name</th><th>dim</th></tr><tr><td>DCCV_COMPL</td><td>Indicatori complementari</td><td>12</td></td></tr><tr><td>DCCV_DISOCCUPT</td><td>Disoccupati</td><td>10</td></td></tr><tr><td>DCCV_DISOCCUPTDE</td><td>Disoccupati - dati destagionalizzati</td><td>7</td></td></tr><tr><td>DCCV_DISOCCUPTMENS</td><td>Disoccupati - dati mensili</td><td>8</td></td></tr><tr><td>DCCV_FORZLV</td><td>Forze di lavoro</td><td>8</td></td></tr><tr><td>DCCV_FORZLVDE</td><td>Forze di lavoro - dati destagionalizzati</td><td>7</td></td></tr><tr><td>DCCV_FORZLVMENS</td><td>Forze lavoro - dati mensili</td><td>8</td></td></tr><tr><td>DCCV_INATTIV</td><td>Inattivi</td><td>11</td></td></tr><tr><td>DCCV_INATTIVDE</td><td>Inattivi - dati destagionalizzati</td><td>7</td></td></tr><tr><td>DCCV_INATTIVMENS</td><td>Inattivi - dati mensili</td><td>8</td></td></tr><tr><td>DCCV_NEET</td><td>NEET (giovani non occupati e non in istruzione e formazione)</td><td>10</td></td></tr><tr><td>DCCV_OCCUPATIMENS</td><td>Occupati - dati mensili</td><td>8</td></td></tr><tr><td>DCCV_OCCUPATIT</td><td> Occupati                                                      </td><td>14</td></td></tr><tr><td>DCCV_OCCUPATITDE</td><td>Occupati - dati destagionalizzati</td><td>8</td></td></tr><tr><td>DCCV_ORELAVMED</td><td>Occupati per ore settimanali lavorate e numero di ore settimanali lavorate procapite</td><td>12</td></td></tr><tr><td>DCCV_TAXATVT</td><td>Tasso di attività</td><td>8</td></td></tr><tr><td>DCCV_TAXATVTDE</td><td>Tasso di attività - dati destagionalizzati</td><td>7</td></td></tr><tr><td>DCCV_TAXATVTMENS</td><td>Tasso di attività - dati mensili</td><td>8</td></td></tr><tr><td>DCCV_TAXDISOCCU</td><td>Tasso di disoccupazione</td><td>9</td></td></tr><tr><td>DCCV_TAXDISOCCUDE</td><td>Tasso di disoccupazione - dati destagionalizzati</td><td>7</td></td></tr><tr><td>DCCV_TAXDISOCCUMENS</td><td>Tasso di disoccupazione - dati mensili</td><td>8</td></td></tr><tr><td>DCCV_TAXINATT</td><td>Tasso di inattività</td><td>8</td></td></tr><tr><td>DCCV_TAXINATTDE</td><td>Tasso di inattività - dati destagionalizzati</td><td>7</td></td></tr><tr><td>DCCV_TAXINATTMENS</td><td>Tasso di inattività - dati mensili</td><td>8</td></td></tr><tr><td>DCCV_TAXOCCU</td><td>Tasso di occupazione</td><td>8</td></td></tr><tr><td>DCCV_TAXOCCUDE</td><td>Tasso di occupazione - dati destagionalizzati</td><td>7</td></td></tr><tr><td>DCCV_TAXOCCUMENS</td><td>Tasso di occupazione - dati mensili</td><td>8</td></td></tr><tr><td>DCIS_RICSTAT</td><td>Ricostruzione statistica delle serie regionali di popolazione del periodo 1/1/2002-1/1/2014</td><td>6</td></td></tr><tr><td>DCSC_COSTLAVSTRUT_1</td><td>Struttura del costo del lavoro (indagine quadriennale)</td><td>6</td></td></tr><tr><td>DCSC_COSTLAVULAOROS_1</td><td>Indicatori del costo del lavoro per Ula - dati trimestrali</td><td>5</td></td></tr><tr><td>DCSC_GI_COS</td><td>Costo del lavoro nelle imprese con almeno 500 dipendenti - dati mensili</td><td>6</td></td></tr><tr><td>DCSC_GI_OCC</td><td>Occupazione dipendente, tassi di ingresso e uscita nelle imprese con almeno 500 dipendenti - dati mensili</td><td>6</td></td></tr><tr><td>DCSC_GI_ORE</td><td>Ore lavorate nelle imprese con almeno 500 dipendenti - dati mensili</td><td>6</td></td></tr><tr><td>DCSC_GI_RE</td><td>Retribuzione lorda nelle imprese con almeno 500 dipendenti - dati mensili</td><td>6</td></td></tr><tr><td>DCSC_ORE10_1</td><td>Ore lavorate nelle imprese con almeno 10 dipendenti - dati trimestrali</td><td>5</td></td></tr><tr><td>DCSC_OROS_1</td><td>Indice delle posizioni lavorative alle dipendenze  - dati trimestrali</td><td>5</td></td></tr><tr><td>DCSC_POSTIVAC_1</td><td>Tasso di posti vacanti - dati trimestrali</td><td>5</td></td></tr><tr><td>DCSC_RETRATECO1</td><td>Retribuzioni contrattuali per Ateco 2007</td><td>6</td></td></tr><tr><td>DCSC_RETRCASSCOMPPA</td><td>Retribuzione contrattuale di cassa e di competenza per dipendente della pubblica amministrazione per contratto - dati annuali -  euro</td><td>7</td></td></tr><tr><td>DCSC_RETRCONTR1C</td><td>Retribuzioni contrattuali per contratto - dati mensili e annuali   .</td><td>6</td></td></tr><tr><td>DCSC_RETRCONTR1O</td><td>Orario contrattuale annuo lordo, netto, ferie e altre ore di riduzione </td><td>6</td></td></tr><tr><td>DCSC_RETRCONTR1T</td><td>Indicatori di tensione contrattuale - dati mensili e annuali</td><td>6</td></td></tr><tr><td>DCSC_RETRULAOROS_1</td><td>Indice delle retribuzioni lorde per Ula  - dati trimestrali</td><td>5</td></td></tr></table>"
      ],
      "text/plain": [
       "<IPython.core.display.HTML object>"
      ]
     },
     "execution_count": 3,
     "metadata": {},
     "output_type": "execute_result"
    }
   ],
   "source": [
    "HTML(istat.area('LAB').datasets_as_html())"
   ]
  },
  {
   "cell_type": "code",
   "execution_count": 4,
   "metadata": {
    "collapsed": false
   },
   "outputs": [
    {
     "data": {
      "text/html": [
       "<table><tr><th>nr</th><th>name</th><th>nr. values</th><th>values (first 3 values)</th></tr><tr><td>0</td><td>Territorio</td><td>136</td><td>1:'Italia', 3:'Nord', 4:'Nord-ovest' ...</td></td></tr><tr><td>1</td><td>Tipo dato</td><td>1</td><td>3:'numero di forze di lavoro15 anni e oltre (valori in migliaia)'</td></td></tr><tr><td>2</td><td>Misura</td><td>1</td><td>9:'valori assoluti'</td></td></tr><tr><td>3</td><td>Sesso</td><td>3</td><td>1:'maschi', 2:'femmine', 3:'totale' ...</td></td></tr><tr><td>4</td><td>Classe di età</td><td>10</td><td>17:'45-54 anni', 4:'15-24 anni', 21:'55-64 anni' ...</td></td></tr><tr><td>5</td><td>Titolo di studio</td><td>5</td><td>11:'laurea e post-laurea', 12:'totale', 3:'licenza di scuola elementare, nessun titolo di studio' ...</td></td></tr><tr><td>6</td><td>Cittadinanza</td><td>3</td><td>1:'italiano-a', 2:'straniero-a', 3:'totale' ...</td></td></tr><tr><td>7</td><td>Tempo e frequenza</td><td>193</td><td>1536:'T4-1980', 2049:'T4-2007', 1540:'1981' ...</td></td></tr></table>"
      ],
      "text/plain": [
       "<IPython.core.display.HTML object>"
      ]
     },
     "execution_count": 4,
     "metadata": {},
     "output_type": "execute_result"
    }
   ],
   "source": [
    "istat_forzlv = istat.dataset('LAB', 'DCCV_FORZLV')\n",
    "HTML(istat_forzlv.info_dimensions_as_html(show_values=3))"
   ]
  },
  {
   "cell_type": "code",
   "execution_count": 5,
   "metadata": {
    "collapsed": false
   },
   "outputs": [],
   "source": [
    "spec = { \n",
    "    'Territorio':       'Italia',                            \n",
    "    'Tipo dato':        'numero di forze di lavoro15 anni e oltre (valori in migliaia)',\n",
    "    'Misura':           'valori assoluti',               \n",
    "    'Sesso':            'totale',                           \n",
    "    'Classe di età':    '15 anni e più',                            \n",
    "    'Titolo di studio': 'totale', \n",
    "    'Cittadinanza':     'totale',                         \n",
    "    'Tempo e frequenza': 0                    \n",
    "}\n",
    "\n",
    "df_forzlv = istat_forzlv.getvalues(spec).dataset(0).to_table(rtype=pd.DataFrame)\n",
    "# df_forzlv"
   ]
  },
  {
   "cell_type": "code",
   "execution_count": 6,
   "metadata": {
    "collapsed": false
   },
   "outputs": [
    {
     "data": {
      "text/html": [
       "<div>\n",
       "<table border=\"1\" class=\"dataframe\">\n",
       "  <thead>\n",
       "    <tr style=\"text-align: right;\">\n",
       "      <th></th>\n",
       "      <th>Tempo e frequenza</th>\n",
       "      <th>Value</th>\n",
       "    </tr>\n",
       "  </thead>\n",
       "  <tbody>\n",
       "    <tr>\n",
       "      <th>187</th>\n",
       "      <td>T2-2014</td>\n",
       "      <td>25419.15</td>\n",
       "    </tr>\n",
       "    <tr>\n",
       "      <th>188</th>\n",
       "      <td>T3-2014</td>\n",
       "      <td>25373.70</td>\n",
       "    </tr>\n",
       "    <tr>\n",
       "      <th>189</th>\n",
       "      <td>T4-2014</td>\n",
       "      <td>25794.44</td>\n",
       "    </tr>\n",
       "    <tr>\n",
       "      <th>190</th>\n",
       "      <td>T1-2015</td>\n",
       "      <td>25460.25</td>\n",
       "    </tr>\n",
       "    <tr>\n",
       "      <th>191</th>\n",
       "      <td>T2-2015</td>\n",
       "      <td>25598.29</td>\n",
       "    </tr>\n",
       "    <tr>\n",
       "      <th>192</th>\n",
       "      <td>T3-2015</td>\n",
       "      <td>25321.61</td>\n",
       "    </tr>\n",
       "  </tbody>\n",
       "</table>\n",
       "</div>"
      ],
      "text/plain": [
       "    Tempo e frequenza     Value\n",
       "187           T2-2014  25419.15\n",
       "188           T3-2014  25373.70\n",
       "189           T4-2014  25794.44\n",
       "190           T1-2015  25460.25\n",
       "191           T2-2015  25598.29\n",
       "192           T3-2015  25321.61"
      ]
     },
     "execution_count": 6,
     "metadata": {},
     "output_type": "execute_result"
    }
   ],
   "source": [
    "df_forzlv = df_forzlv.dropna()\n",
    "df_forzlv = df_forzlv[df_forzlv['Tempo e frequenza'].str.contains(r'^T.*')]\n",
    "df_forzlv.tail(6)"
   ]
  },
  {
   "cell_type": "code",
   "execution_count": 7,
   "metadata": {
    "collapsed": false
   },
   "outputs": [
    {
     "data": {
      "text/html": [
       "<table><tr><th>nr</th><th>name</th><th>nr. values</th><th>values (first 3 values)</th></tr><tr><td>0</td><td>Territorio</td><td>136</td><td>1:'Italia', 3:'Nord', 4:'Nord-ovest' ...</td></td></tr><tr><td>1</td><td>Tipo dato</td><td>2</td><td>3:'numero di forze di lavoro15 anni e oltre (valori in migliaia)', 4:'numero di inattivi (valori in migliaia)'</td></td></tr><tr><td>2</td><td>Misura</td><td>1</td><td>9:'valori assoluti'</td></td></tr><tr><td>3</td><td>Sesso</td><td>3</td><td>1:'maschi', 2:'femmine', 3:'totale' ...</td></td></tr><tr><td>4</td><td>Classe di età</td><td>12</td><td>1:'0-14 anni', 4:'15-24 anni', 7:'15-34 anni' ...</td></td></tr><tr><td>5</td><td>Titolo di studio</td><td>5</td><td>11:'laurea e post-laurea', 12:'totale', 3:'licenza di scuola elementare, nessun titolo di studio' ...</td></td></tr><tr><td>6</td><td>Cittadinanza</td><td>3</td><td>1:'italiano-a', 2:'straniero-a', 3:'totale' ...</td></td></tr><tr><td>7</td><td>Condizione professionale</td><td>9</td><td>6:'inattivi in età lavorativa', 7:'cercano lavoro non attivamente', 8:'cercano lavoro ma non disponibili a lavorare' ...</td></td></tr><tr><td>8</td><td>Motivo inattività</td><td>7</td><td>1:'scoraggiamento', 2:'motivi familiari', 3:'studio, formazione professionale' ...</td></td></tr><tr><td>9</td><td>Condizione dichiarata</td><td>8</td><td>1:'occupato', 6:'disoccupato alla ricerca di nuova occupazione', 7:'in cerca di prima occupazione' ...</td></td></tr><tr><td>10</td><td>Tempo e frequenza</td><td>193</td><td>1536:'T4-1980', 2049:'T4-2007', 1540:'1981' ...</td></td></tr></table>"
      ],
      "text/plain": [
       "<IPython.core.display.HTML object>"
      ]
     },
     "execution_count": 7,
     "metadata": {},
     "output_type": "execute_result"
    }
   ],
   "source": [
    "istat_inattiv = istat.dataset('LAB', 'DCCV_INATTIV')\n",
    "HTML(istat_inattiv.info_dimensions_as_html(show_values=3))"
   ]
  },
  {
   "cell_type": "code",
   "execution_count": 8,
   "metadata": {
    "collapsed": false
   },
   "outputs": [],
   "source": [
    "spec = { \n",
    "    'Territorio': 'Italia',                            \n",
    "    'Tipo dato':   0, #'numero di inattivi (valori in migliaia)',                           \n",
    "    'Misura':     'valori assoluti',               \n",
    "    'Sesso':      'totale',                               \n",
    "    'Classe di età': '15 anni e più',                            \n",
    "    'Titolo di studio': 'totale', \n",
    "    'Tempo e frequenza': 0                    \n",
    "}\n",
    "\n",
    "df_inattiv = istat_inattiv.getvalues(spec).dataset(0).to_table(rtype=pd.DataFrame)\n",
    "# df_inattiv"
   ]
  },
  {
   "cell_type": "code",
   "execution_count": 9,
   "metadata": {
    "collapsed": false
   },
   "outputs": [
    {
     "data": {
      "text/html": [
       "<div>\n",
       "<table border=\"1\" class=\"dataframe\">\n",
       "  <thead>\n",
       "    <tr style=\"text-align: right;\">\n",
       "      <th></th>\n",
       "      <th>Tipo dato</th>\n",
       "      <th>Cittadinanza</th>\n",
       "      <th>Condizione professionale</th>\n",
       "      <th>None</th>\n",
       "      <th>Condizione dichiarata</th>\n",
       "      <th>Tempo e frequenza</th>\n",
       "      <th>Value</th>\n",
       "    </tr>\n",
       "  </thead>\n",
       "  <tbody>\n",
       "    <tr>\n",
       "      <th>37152</th>\n",
       "      <td>numero di inattivi (valori in migliaia)</td>\n",
       "      <td>totale</td>\n",
       "      <td>totale</td>\n",
       "      <td>totale</td>\n",
       "      <td>totale</td>\n",
       "      <td>T2-2014</td>\n",
       "      <td>26594.57</td>\n",
       "    </tr>\n",
       "    <tr>\n",
       "      <th>37153</th>\n",
       "      <td>numero di inattivi (valori in migliaia)</td>\n",
       "      <td>totale</td>\n",
       "      <td>totale</td>\n",
       "      <td>totale</td>\n",
       "      <td>totale</td>\n",
       "      <td>T3-2014</td>\n",
       "      <td>26646.90</td>\n",
       "    </tr>\n",
       "    <tr>\n",
       "      <th>37154</th>\n",
       "      <td>numero di inattivi (valori in migliaia)</td>\n",
       "      <td>totale</td>\n",
       "      <td>totale</td>\n",
       "      <td>totale</td>\n",
       "      <td>totale</td>\n",
       "      <td>T4-2014</td>\n",
       "      <td>26257.15</td>\n",
       "    </tr>\n",
       "    <tr>\n",
       "      <th>37155</th>\n",
       "      <td>numero di inattivi (valori in migliaia)</td>\n",
       "      <td>totale</td>\n",
       "      <td>totale</td>\n",
       "      <td>totale</td>\n",
       "      <td>totale</td>\n",
       "      <td>T1-2015</td>\n",
       "      <td>26608.07</td>\n",
       "    </tr>\n",
       "    <tr>\n",
       "      <th>37156</th>\n",
       "      <td>numero di inattivi (valori in migliaia)</td>\n",
       "      <td>totale</td>\n",
       "      <td>totale</td>\n",
       "      <td>totale</td>\n",
       "      <td>totale</td>\n",
       "      <td>T2-2015</td>\n",
       "      <td>26487.67</td>\n",
       "    </tr>\n",
       "    <tr>\n",
       "      <th>37157</th>\n",
       "      <td>numero di inattivi (valori in migliaia)</td>\n",
       "      <td>totale</td>\n",
       "      <td>totale</td>\n",
       "      <td>totale</td>\n",
       "      <td>totale</td>\n",
       "      <td>T3-2015</td>\n",
       "      <td>26746.26</td>\n",
       "    </tr>\n",
       "  </tbody>\n",
       "</table>\n",
       "</div>"
      ],
      "text/plain": [
       "                                     Tipo dato Cittadinanza   \\\n",
       "37152  numero di inattivi (valori in migliaia)        totale   \n",
       "37153  numero di inattivi (valori in migliaia)        totale   \n",
       "37154  numero di inattivi (valori in migliaia)        totale   \n",
       "37155  numero di inattivi (valori in migliaia)        totale   \n",
       "37156  numero di inattivi (valori in migliaia)        totale   \n",
       "37157  numero di inattivi (valori in migliaia)        totale   \n",
       "\n",
       "      Condizione professionale     NaN Condizione dichiarata  \\\n",
       "37152                   totale  totale                totale   \n",
       "37153                   totale  totale                totale   \n",
       "37154                   totale  totale                totale   \n",
       "37155                   totale  totale                totale   \n",
       "37156                   totale  totale                totale   \n",
       "37157                   totale  totale                totale   \n",
       "\n",
       "      Tempo e frequenza     Value  \n",
       "37152           T2-2014  26594.57  \n",
       "37153           T3-2014  26646.90  \n",
       "37154           T4-2014  26257.15  \n",
       "37155           T1-2015  26608.07  \n",
       "37156           T2-2015  26487.67  \n",
       "37157           T3-2015  26746.26  "
      ]
     },
     "execution_count": 9,
     "metadata": {},
     "output_type": "execute_result"
    }
   ],
   "source": [
    "df_inattiv = df_inattiv.dropna()\n",
    "df_inattiv = df_inattiv[df_inattiv['Tempo e frequenza'].str.contains(r'^T.*')]\n",
    "df_inattiv.tail(6)"
   ]
  },
  {
   "cell_type": "code",
   "execution_count": 10,
   "metadata": {
    "collapsed": false
   },
   "outputs": [
    {
     "data": {
      "text/html": [
       "<table><tr><th>nr</th><th>name</th><th>nr. values</th><th>values (first 3 values)</th></tr><tr><td>0</td><td>Territorio</td><td>136</td><td>1:'Italia', 3:'Nord', 4:'Nord-ovest' ...</td></td></tr><tr><td>1</td><td>Tipo dato</td><td>1</td><td>2:'numero di persone in cerca di occupazione 15 anni e oltre (valori in migliaia)'</td></td></tr><tr><td>2</td><td>Misura</td><td>1</td><td>9:'valori assoluti'</td></td></tr><tr><td>3</td><td>Sesso</td><td>3</td><td>1:'maschi', 2:'femmine', 3:'totale' ...</td></td></tr><tr><td>4</td><td>Classe di età</td><td>11</td><td>17:'45-54 anni', 4:'15-24 anni', 21:'55-64 anni' ...</td></td></tr><tr><td>5</td><td>Titolo di studio</td><td>5</td><td>11:'laurea e post-laurea', 12:'totale', 3:'licenza di scuola elementare, nessun titolo di studio' ...</td></td></tr><tr><td>6</td><td>Cittadinanza</td><td>3</td><td>1:'italiano-a', 2:'straniero-a', 3:'totale' ...</td></td></tr><tr><td>7</td><td>Condizione professionale</td><td>4</td><td>3:'disoccupati ex-occupati', 4:'disoccupati ex-inattivi', 5:'disoccupati senza esperienza di lavoro' ...</td></td></tr><tr><td>8</td><td>Durata disoccupazione</td><td>2</td><td>2:'12 mesi o più', 3:'totale'</td></td></tr><tr><td>9</td><td>Tempo e frequenza</td><td>193</td><td>1536:'T4-1980', 2049:'T4-2007', 1540:'1981' ...</td></td></tr></table>"
      ],
      "text/plain": [
       "<IPython.core.display.HTML object>"
      ]
     },
     "execution_count": 10,
     "metadata": {},
     "output_type": "execute_result"
    }
   ],
   "source": [
    "istat_inattiv = istat.dataset('LAB', 'DCCV_DISOCCUPT')\n",
    "HTML(istat_inattiv.info_dimensions_as_html(show_values=3))"
   ]
  },
  {
   "cell_type": "markdown",
   "metadata": {},
   "source": [
    "$$Forzalav = Occupati + Disoccupati$$"
   ]
  }
 ],
 "metadata": {
  "kernelspec": {
   "display_name": "Python 3",
   "language": "python",
   "name": "python3"
  },
  "language_info": {
   "codemirror_mode": {
    "name": "ipython",
    "version": 3
   },
   "file_extension": ".py",
   "mimetype": "text/x-python",
   "name": "python",
   "nbconvert_exporter": "python",
   "pygments_lexer": "ipython3",
   "version": "3.5.1"
  }
 },
 "nbformat": 4,
 "nbformat_minor": 0
}
