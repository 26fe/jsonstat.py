{
 "cells": [
  {
   "cell_type": "markdown",
   "metadata": {},
   "source": [
    "## Notebook: using jsonstat.py to explore Istat data\n",
    "This Jupyter notebook shows how to use [jsonstat.py](http://github.com/26fe/jsonstat.py) python library to explore Istat data.\n",
    "[Istat](http://www.istat.it/en/about-istat) is Italian National Institute of Statistics. It publishs a rest api for querying italian statistics. "
   ]
  },
  {
   "cell_type": "code",
   "execution_count": 1,
   "metadata": {
    "collapsed": false
   },
   "outputs": [],
   "source": [
    "from __future__ import print_function\n",
    "import os\n",
    "import istat"
   ]
  },
  {
   "cell_type": "markdown",
   "metadata": {},
   "source": [
    "Setting a cache dir to store json files download by Istat api"
   ]
  },
  {
   "cell_type": "code",
   "execution_count": 2,
   "metadata": {
    "collapsed": false
   },
   "outputs": [
    {
     "name": "stdout",
     "output_type": "stream",
     "text": [
      "cache_dir is '/Users/26fe_nas/prj.python/jsonstat.py/tmp/istat_cached'\n"
     ]
    }
   ],
   "source": [
    "cache_dir = os.path.abspath(os.path.join(\"..\", \"tmp\", \"istat_cached\"))\n",
    "if not os.path.exists(cache_dir):\n",
    "    os.makedirs(cache_dir)\n",
    "print(\"cache_dir is '{}'\".format(cache_dir))"
   ]
  },
  {
   "cell_type": "markdown",
   "metadata": {},
   "source": [
    "List all istat areas"
   ]
  },
  {
   "cell_type": "code",
   "execution_count": 3,
   "metadata": {
    "collapsed": false
   },
   "outputs": [
    {
     "name": "stdout",
     "output_type": "stream",
     "text": [
      "CEN:2011 Population and housing census\n",
      "ENT:Enterprises\n",
      "ENV:Environment and Energy\n",
      "POP:Population and Households\n",
      "HOU:Households Economic Conditions and Disparities\n",
      "HEA:Health statistics\n",
      "WEL:Social Security and Welfare\n",
      "EDU:Education and training\n",
      "COM:Communication, culture and leisure\n",
      "JUS:Justice and Security\n",
      "OPI:Citizens' opinions and satisfaction with life\n",
      "SOC:Social participation\n",
      "ACC:National Accounts\n",
      "AGR:Agriculture\n",
      "IND:Industry and Construction\n",
      "SER:Services\n",
      "PUB:Public Administrations and Private Institutions\n",
      "EXT:External Trade and Internationalisation\n",
      "PRI:Prices\n",
      "LAB:Labour\n"
     ]
    }
   ],
   "source": [
    "istat.cache_dir(cache_dir)\n",
    "for istat_area in istat.areas():\n",
    "    print(istat_area)"
   ]
  },
  {
   "cell_type": "markdown",
   "metadata": {},
   "source": [
    "List all datasets contained into area `Prices`"
   ]
  },
  {
   "cell_type": "code",
   "execution_count": 4,
   "metadata": {
    "collapsed": false
   },
   "outputs": [
    {
     "name": "stdout",
     "output_type": "stream",
     "text": [
      "DCSP_FOI1B2015(5):FOI - Monthly data from 2016 onwards\n",
      "DCSP_NICUNOB(5):NIC  Monthly data until 2010\n",
      "DCSP_FOI3B2010(4):FOI  Weights from 2011 onwards\n",
      "DCSP_NIC3B2015(4):NIC - Weights from 2016 onwards\n",
      "DCSP_NICUNOBB2010(5):NIC  Monthly data from 2011 onwards\n",
      "DCSP_IPCATC2(5):HICP at constant tax rates  Annual average from 2002 onwards (base 2005=100) \n",
      "DCSP_IPCATC1(5):HICP at constant tax rates  Monthly data from 2002 onwards (base 2005=100) \n",
      "DCSP_FOI2B2015(5):FOI - Annual average from 2016 onwards\n",
      "DCSP_NICTREB2010(4):NIC  Weights from 2011 onwards\n",
      "DCSP_IPCATC1B2015(5):HICP at constant tax rates - Monthly data from 2016 onwards (base 2015=100) \n",
      "DCSP_IPCA1(5):HICP  Monthly data from 2001 onwards (base 2005=100)\n",
      "DCSP_NICDUE(5):NIC  Annual average until 2010\n",
      "DCSP_IPCA3(4):HICP  Weights from 2001 onwards\n",
      "DCSP_FOI2(5):FOI  Annual average  until 2010\n",
      "DCSP_FOI3(4):FOI  Weights until 2010\n",
      "DCSP_FOI1(5):FOI  Monthly data until 2010\n",
      "DCSP_IPCA2(5):HICP  Annual average from 2001 onwards (base 2005=100) \n",
      "DCSP_IPCA3B2015(4):HICP - Weights from 2016 onwards\n",
      "DCSP_FOI3B2015(4):FOI - Weights from 2016 onwards\n",
      "DCSP_NIC1B2015(5):NIC - Monthly data from 2016 onwards\n",
      "DCSP_NICTRE(4):NIC  Weights  until 2010\n",
      "DCSP_FOI1B2010(5):FOI  Monthly data from 2011 onwards\n",
      "DCSP_NICDUEB2010(5):NIC  Annual average from 2011 onwards\n",
      "DCSP_FOI2B2010(5):FOI  Annual average from 2011  onwards\n",
      "DCSC_PREZPRODSERV_1(5):Services producer prices index\n",
      "DCSP_IPAB(5):House price index \n",
      "DCSC_FABBRESID_1(5):Construction costs index - monthly data\n",
      "DCSC_PREZZPIND_1(6):Producer price index for industrial products - monthly data\n"
     ]
    }
   ],
   "source": [
    "istat_area_name = 'Prices'\n",
    "istat_area = istat.area(istat_area_name)\n",
    "\n",
    "for istat_dataset in istat_area.datasets():\n",
    "    print(u\"{}({}):{}\".format(istat_dataset.cod(), istat_dataset.nrdim(), istat_dataset.name()))"
   ]
  },
  {
   "cell_type": "markdown",
   "metadata": {},
   "source": [
    "List all dimension for dataset `DCSP_IPAB` (House price index)"
   ]
  },
  {
   "cell_type": "code",
   "execution_count": 5,
   "metadata": {
    "collapsed": false
   },
   "outputs": [
    {
     "name": "stdout",
     "output_type": "stream",
     "text": [
      "dim 0 'Territory' (1:'Italy')\n",
      "dim 1 'Index type' (18:'house price index (base 2010=100) - quarterly data', 19:'house price index (base 2010=100) - annual average', 20:'house price index (base 2010=100) - weights')\n",
      "dim 2 'Measure' (8:'annual average rate of change', 4:'index number', 22:'not applicable', 6:'percentage changes on the previous period', 7:'percentage changes on the same period of the previous year')\n",
      "dim 3 'Purchases of dwellings' (4:'H1 - all items', 5:'H11 - new dwellings', 6:'H12 - existing dwellings')\n",
      "dim 4 'Time and frequency' (2178:'Q3-2014', 2182:'Q4-2014', 2186:'2015', 2188:'Q1-2015', 2192:'Q2-2015', 2197:'Q3-2015', 2091:'2010', 2093:'Q1-2010', 2097:'Q2-2010', 2102:'Q3-2010', 2106:'Q4-2010', 2110:'2011', 2112:'Q1-2011', 2116:'Q2-2011', 2121:'Q3-2011', 2125:'Q4-2011', 2129:'2012', 2131:'Q1-2012', 2135:'Q2-2012', 2140:'Q3-2012', 2144:'Q4-2012', 2148:'2013', 2150:'Q1-2013', 2154:'Q2-2013', 2159:'Q3-2013', 2163:'Q4-2013', 2167:'2014', 2169:'Q1-2014', 2173:'Q2-2014')\n"
     ]
    }
   ],
   "source": [
    "istat_dataset_name = 'DCSP_IPAB'\n",
    "istat_dataset = istat_area.dataset(istat_dataset_name)\n",
    "istat_dataset.info_dimensions()"
   ]
  },
  {
   "cell_type": "markdown",
   "metadata": {},
   "source": [
    "Extract data from dataset `DCSP_IPAB` with dimension \"1,18,0,0,0\" where the first dimension is Territory, etc. Below is the mapping: \n",
    "- dimension Territory 1 -> Italy\n",
    "- dimension Type 18 -> 'house price index (base 2010=100) - quarterly data'\n",
    "- dimenMeasure 0 -> ALL \n",
    "- Purchase of dwelling 0 -> ALL\n",
    "- Time and frequency 0 -> ALL\n",
    "\n",
    "| dimension            |    |                                                      |\n",
    "|----------------------|----|------------------------------------------------------|\n",
    "| Terrytory            | 1  | Italy                                                |\n",
    "| Type                 | 18 | house price index (base 2010=100) - quarterly data'  |\n",
    "| Measure              | 0  | ALL                                                  |  \n",
    "| Purchase of dwelling | 0  | ALL                                                  |  \n",
    "| Time and frequency   | 0  | ALL                                                  |"
   ]
  },
  {
   "cell_type": "code",
   "execution_count": 6,
   "metadata": {
    "collapsed": false
   },
   "outputs": [
    {
     "name": "stdout",
     "output_type": "stream",
     "text": [
      "0: dataset 'IDMISURA1*IDTYPPURCH*IDTIME'\n",
      "\n"
     ]
    }
   ],
   "source": [
    "# TODO: passing dictionary to getvalues\n",
    "spec = { \n",
    "    \"Territory\": 1, \"Index type\": 18, \n",
    "    # \"Measure\": 0, # \"Purchases of dwelling\": 0, # \"Time and frequency\": 0\n",
    "}\n",
    "# convert istat dataset into jsonstat collection and print some info\n",
    "collection = istat_dataset.getvalues(spec)\n",
    "collection.info()"
   ]
  },
  {
   "cell_type": "markdown",
   "metadata": {},
   "source": [
    "Print some info of one dataset contained into the above jsonstat collection"
   ]
  },
  {
   "cell_type": "code",
   "execution_count": 7,
   "metadata": {
    "collapsed": false
   },
   "outputs": [
    {
     "name": "stdout",
     "output_type": "stream",
     "text": [
      "name:   'IDMISURA1*IDTYPPURCH*IDTIME'\n",
      "label:  'House price index  by Measure, Purchases of dwellings and Time and frequency - Italy - house price index (base 2010=100) - quarterly data'\n",
      "size: 207\n",
      "3 dimensions:\n",
      "  0: dim id/name: 'IDMISURA1' size: '3' role: 'None'\n",
      "  1: dim id/name: 'IDTYPPURCH' size: '3' role: 'None'\n",
      "  2: dim id/name: 'IDTIME' size: '23' role: 'None'\n",
      "\n"
     ]
    }
   ],
   "source": [
    "jsonstat_dataset = collection.dataset('IDMISURA1*IDTYPPURCH*IDTIME')\n",
    "jsonstat_dataset.info()"
   ]
  },
  {
   "cell_type": "code",
   "execution_count": 8,
   "metadata": {
    "collapsed": false
   },
   "outputs": [
    {
     "data": {
      "text/plain": [
       "index\n",
       "  pos    idx  label\n",
       "    0      4 index number\n",
       "    1      6 percentage changes on the previous period\n",
       "    2      7 percentage changes on the same period of the previous year"
      ]
     },
     "execution_count": 8,
     "metadata": {},
     "output_type": "execute_result"
    }
   ],
   "source": [
    "jsonstat_dataset.dimension('IDMISURA1')"
   ]
  },
  {
   "cell_type": "code",
   "execution_count": 9,
   "metadata": {
    "collapsed": false
   },
   "outputs": [
    {
     "data": {
      "text/plain": [
       "index\n",
       "  pos    idx  label\n",
       "    0      4 H1 - all items\n",
       "    1      5 H11 - new dwellings\n",
       "    2      6 H12 - existing dwellings"
      ]
     },
     "execution_count": 9,
     "metadata": {},
     "output_type": "execute_result"
    }
   ],
   "source": [
    "jsonstat_dataset.dimension('IDTYPPURCH')"
   ]
  },
  {
   "cell_type": "code",
   "execution_count": 10,
   "metadata": {
    "collapsed": false
   },
   "outputs": [
    {
     "data": {
      "text/plain": [
       "index\n",
       "  pos    idx  label\n",
       "    0   2093 Q1-2010\n",
       "    1   2097 Q2-2010\n",
       "    2   2102 Q3-2010\n",
       "    3   2106 Q4-2010\n",
       "    4   2112 Q1-2011\n",
       "    5   2116 Q2-2011\n",
       "    6   2121 Q3-2011\n",
       "    7   2125 Q4-2011\n",
       "    8   2131 Q1-2012\n",
       "    9   2135 Q2-2012\n",
       "   10   2140 Q3-2012\n",
       "   11   2144 Q4-2012\n",
       "   12   2150 Q1-2013\n",
       "   13   2154 Q2-2013\n",
       "   14   2159 Q3-2013\n",
       "   15   2163 Q4-2013\n",
       "   16   2169 Q1-2014\n",
       "   17   2173 Q2-2014\n",
       "   18   2178 Q3-2014\n",
       "   19   2182 Q4-2014\n",
       "   20   2188 Q1-2015\n",
       "   21   2192 Q2-2015\n",
       "   22   2197 Q3-2015"
      ]
     },
     "execution_count": 10,
     "metadata": {},
     "output_type": "execute_result"
    }
   ],
   "source": [
    "jsonstat_dataset.dimension('IDTIME')"
   ]
  },
  {
   "cell_type": "code",
   "execution_count": 11,
   "metadata": {
    "collapsed": false
   },
   "outputs": [
    {
     "data": {
      "text/plain": [
       "0: dataset 'IDTIME'"
      ]
     },
     "execution_count": 11,
     "metadata": {},
     "output_type": "execute_result"
    }
   ],
   "source": [
    "json_stat_data = istat_dataset.getvalues(\"1,18,4,4,0\")\n",
    "json_stat_data"
   ]
  },
  {
   "cell_type": "code",
   "execution_count": 12,
   "metadata": {
    "collapsed": false
   },
   "outputs": [
    {
     "data": {
      "text/html": [
       "<div>\n",
       "<table border=\"1\" class=\"dataframe\">\n",
       "  <thead>\n",
       "    <tr style=\"text-align: right;\">\n",
       "      <th></th>\n",
       "      <th>Measure</th>\n",
       "      <th>Purchases of dwellings</th>\n",
       "      <th>Time and frequency</th>\n",
       "      <th>Value</th>\n",
       "    </tr>\n",
       "  </thead>\n",
       "  <tbody>\n",
       "    <tr>\n",
       "      <th>0</th>\n",
       "      <td>index number</td>\n",
       "      <td>H1 - all items</td>\n",
       "      <td>Q1-2010</td>\n",
       "      <td>99.5</td>\n",
       "    </tr>\n",
       "    <tr>\n",
       "      <th>1</th>\n",
       "      <td>percentage changes on the previous period</td>\n",
       "      <td>H1 - all items</td>\n",
       "      <td>Q1-2010</td>\n",
       "      <td>NaN</td>\n",
       "    </tr>\n",
       "    <tr>\n",
       "      <th>2</th>\n",
       "      <td>percentage changes on the same period of the p...</td>\n",
       "      <td>H1 - all items</td>\n",
       "      <td>Q1-2010</td>\n",
       "      <td>NaN</td>\n",
       "    </tr>\n",
       "    <tr>\n",
       "      <th>3</th>\n",
       "      <td>index number</td>\n",
       "      <td>H11 - new dwellings</td>\n",
       "      <td>Q1-2010</td>\n",
       "      <td>99.1</td>\n",
       "    </tr>\n",
       "    <tr>\n",
       "      <th>4</th>\n",
       "      <td>percentage changes on the previous period</td>\n",
       "      <td>H11 - new dwellings</td>\n",
       "      <td>Q1-2010</td>\n",
       "      <td>NaN</td>\n",
       "    </tr>\n",
       "  </tbody>\n",
       "</table>\n",
       "</div>"
      ],
      "text/plain": [
       "                                             Measure Purchases of dwellings  \\\n",
       "0                                       index number         H1 - all items   \n",
       "1          percentage changes on the previous period         H1 - all items   \n",
       "2  percentage changes on the same period of the p...         H1 - all items   \n",
       "3                                       index number    H11 - new dwellings   \n",
       "4          percentage changes on the previous period    H11 - new dwellings   \n",
       "\n",
       "  Time and frequency  Value  \n",
       "0            Q1-2010   99.5  \n",
       "1            Q1-2010    NaN  \n",
       "2            Q1-2010    NaN  \n",
       "3            Q1-2010   99.1  \n",
       "4            Q1-2010    NaN  "
      ]
     },
     "execution_count": 12,
     "metadata": {},
     "output_type": "execute_result"
    }
   ],
   "source": [
    "import pandas as pd\n",
    "df = jsonstat_dataset.to_table(rtype=pd.DataFrame)\n",
    "df.head()"
   ]
  },
  {
   "cell_type": "code",
   "execution_count": 13,
   "metadata": {
    "collapsed": false
   },
   "outputs": [
    {
     "data": {
      "text/html": [
       "<div>\n",
       "<table border=\"1\" class=\"dataframe\">\n",
       "  <thead>\n",
       "    <tr style=\"text-align: right;\">\n",
       "      <th></th>\n",
       "      <th>Value</th>\n",
       "    </tr>\n",
       "    <tr>\n",
       "      <th>Time and frequency</th>\n",
       "      <th></th>\n",
       "    </tr>\n",
       "  </thead>\n",
       "  <tbody>\n",
       "    <tr>\n",
       "      <th>Q1-2010</th>\n",
       "      <td>99.5</td>\n",
       "    </tr>\n",
       "    <tr>\n",
       "      <th>Q2-2010</th>\n",
       "      <td>100.0</td>\n",
       "    </tr>\n",
       "    <tr>\n",
       "      <th>Q3-2010</th>\n",
       "      <td>100.3</td>\n",
       "    </tr>\n",
       "    <tr>\n",
       "      <th>Q4-2010</th>\n",
       "      <td>100.2</td>\n",
       "    </tr>\n",
       "    <tr>\n",
       "      <th>Q1-2011</th>\n",
       "      <td>100.1</td>\n",
       "    </tr>\n",
       "    <tr>\n",
       "      <th>Q2-2011</th>\n",
       "      <td>101.2</td>\n",
       "    </tr>\n",
       "    <tr>\n",
       "      <th>Q3-2011</th>\n",
       "      <td>101.2</td>\n",
       "    </tr>\n",
       "    <tr>\n",
       "      <th>Q4-2011</th>\n",
       "      <td>100.5</td>\n",
       "    </tr>\n",
       "    <tr>\n",
       "      <th>Q1-2012</th>\n",
       "      <td>99.9</td>\n",
       "    </tr>\n",
       "    <tr>\n",
       "      <th>Q2-2012</th>\n",
       "      <td>99.1</td>\n",
       "    </tr>\n",
       "    <tr>\n",
       "      <th>Q3-2012</th>\n",
       "      <td>97.4</td>\n",
       "    </tr>\n",
       "    <tr>\n",
       "      <th>Q4-2012</th>\n",
       "      <td>95.3</td>\n",
       "    </tr>\n",
       "    <tr>\n",
       "      <th>Q1-2013</th>\n",
       "      <td>93.9</td>\n",
       "    </tr>\n",
       "    <tr>\n",
       "      <th>Q2-2013</th>\n",
       "      <td>93.3</td>\n",
       "    </tr>\n",
       "    <tr>\n",
       "      <th>Q3-2013</th>\n",
       "      <td>91.9</td>\n",
       "    </tr>\n",
       "    <tr>\n",
       "      <th>Q4-2013</th>\n",
       "      <td>90.2</td>\n",
       "    </tr>\n",
       "    <tr>\n",
       "      <th>Q1-2014</th>\n",
       "      <td>89.3</td>\n",
       "    </tr>\n",
       "    <tr>\n",
       "      <th>Q2-2014</th>\n",
       "      <td>88.7</td>\n",
       "    </tr>\n",
       "    <tr>\n",
       "      <th>Q3-2014</th>\n",
       "      <td>88.3</td>\n",
       "    </tr>\n",
       "    <tr>\n",
       "      <th>Q4-2014</th>\n",
       "      <td>86.9</td>\n",
       "    </tr>\n",
       "    <tr>\n",
       "      <th>Q1-2015</th>\n",
       "      <td>86.1</td>\n",
       "    </tr>\n",
       "    <tr>\n",
       "      <th>Q2-2015</th>\n",
       "      <td>86.1</td>\n",
       "    </tr>\n",
       "    <tr>\n",
       "      <th>Q3-2015</th>\n",
       "      <td>86.3</td>\n",
       "    </tr>\n",
       "  </tbody>\n",
       "</table>\n",
       "</div>"
      ],
      "text/plain": [
       "                    Value\n",
       "Time and frequency       \n",
       "Q1-2010              99.5\n",
       "Q2-2010             100.0\n",
       "Q3-2010             100.3\n",
       "Q4-2010             100.2\n",
       "Q1-2011             100.1\n",
       "Q2-2011             101.2\n",
       "Q3-2011             101.2\n",
       "Q4-2011             100.5\n",
       "Q1-2012              99.9\n",
       "Q2-2012              99.1\n",
       "Q3-2012              97.4\n",
       "Q4-2012              95.3\n",
       "Q1-2013              93.9\n",
       "Q2-2013              93.3\n",
       "Q3-2013              91.9\n",
       "Q4-2013              90.2\n",
       "Q1-2014              89.3\n",
       "Q2-2014              88.7\n",
       "Q3-2014              88.3\n",
       "Q4-2014              86.9\n",
       "Q1-2015              86.1\n",
       "Q2-2015              86.1\n",
       "Q3-2015              86.3"
      ]
     },
     "execution_count": 13,
     "metadata": {},
     "output_type": "execute_result"
    }
   ],
   "source": [
    "filtered = df.loc[\n",
    "    (df['Measure'] == 'index number') & (df['Purchases of dwellings'] == 'H1 - all items'), \n",
    "    ['Time and frequency', 'Value']\n",
    "]\n",
    "filtered.set_index('Time and frequency')"
   ]
  },
  {
   "cell_type": "code",
   "execution_count": 14,
   "metadata": {
    "collapsed": false
   },
   "outputs": [
    {
     "data": {
      "image/png": "[encoded data removed]",
      "text/plain": [
       "<matplotlib.figure.Figure at 0x10ca01e10>"
      ]
     },
     "metadata": {},
     "output_type": "display_data"
    }
   ],
   "source": [
    "%matplotlib inline\n",
    "import matplotlib.pyplot as plt\n",
    "\n",
    "values = filtered['Value'].tolist()\n",
    "labels = filtered['Time and frequency']\n",
    "\n",
    "xs = [i + 0.1 for i, _ in enumerate(values)]\n",
    "# bars are by default width 0.8, so we'll add 0.1 to the left coordinates # so that each bar is centered\n",
    "\n",
    "# plot bars with left x-coordinates [xs], heights [num_oscars]\n",
    "plt.figure(figsize=(15,4))\n",
    "plt.bar(xs, values)\n",
    "plt.ylabel(\"value\")\n",
    "plt.title(\"house index\")\n",
    "\n",
    "# label x-axis with movie names at bar centers\n",
    "plt.xticks([i + 0.5 for i, _ in enumerate(labels)], labels) \n",
    "plt.show()"
   ]
  }
 ],
 "metadata": {
  "kernelspec": {
   "display_name": "Python 2",
   "language": "python",
   "name": "python2"
  },
  "language_info": {
   "codemirror_mode": {
    "name": "ipython",
    "version": 2
   },
   "file_extension": ".py",
   "mimetype": "text/x-python",
   "name": "python",
   "nbconvert_exporter": "python",
   "pygments_lexer": "ipython2",
   "version": "2.7.11"
  }
 },
 "nbformat": 4,
 "nbformat_minor": 0
}
