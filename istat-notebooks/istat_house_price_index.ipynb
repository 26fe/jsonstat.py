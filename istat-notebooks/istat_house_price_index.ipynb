{
 "cells": [
  {
   "cell_type": "markdown",
   "metadata": {},
   "source": [
    "### Notebook: using jsonstat.py to explore ISTAT data (house price index)\n",
    "This Jupyter notebook shows how to use [jsonstat.py](http://github.com/26fe/jsonstat.py) python library to explore Istat data.\n",
    "[Istat](http://www.istat.it/en/about-istat) is Italian National Institute of Statistics. It publishs a rest api for querying italian statistics. \n",
    "\n",
    "We starts importing some modules."
   ]
  },
  {
   "cell_type": "code",
   "execution_count": 1,
   "metadata": {
    "collapsed": false
   },
   "outputs": [],
   "source": [
    "from __future__ import print_function\n",
    "import os\n",
    "import istat\n",
    "from IPython.core.display import HTML"
   ]
  },
  {
   "cell_type": "markdown",
   "metadata": {},
   "source": [
    "#### Step 1: using istat module to get a jsonstat collection"
   ]
  },
  {
   "cell_type": "markdown",
   "metadata": {},
   "source": [
    "Following code sets a cache dir where to store json files download by Istat api. Storing file on disk speed up development, and assures consistent results over time. Anyway you can delete file to donwload a fresh copy."
   ]
  },
  {
   "cell_type": "code",
   "execution_count": 2,
   "metadata": {
    "collapsed": false
   },
   "outputs": [
    {
     "name": "stdout",
     "output_type": "stream",
     "text": [
      "cache_dir is '/Users/26fe_nas/gioprj.on_mac/prj.python/jsonstat.py/tmp/istat_cached'\n"
     ]
    }
   ],
   "source": [
    "cache_dir = os.path.abspath(os.path.join(\"..\", \"tmp\", \"istat_cached\"))\n",
    "istat.cache_dir(cache_dir)\n",
    "print(\"cache_dir is '{}'\".format(istat.cache_dir()))"
   ]
  },
  {
   "cell_type": "markdown",
   "metadata": {},
   "source": [
    "Using istat api, we can shows the istat areas used to categorize the datasets"
   ]
  },
  {
   "cell_type": "code",
   "execution_count": 3,
   "metadata": {
    "collapsed": false
   },
   "outputs": [
    {
     "data": {
      "text/html": [
       "<table><tr><th>id</th><th>desc</th></tr><tr><td>3</td><td>2011 Population and housing census</td></td></tr><tr><td>4</td><td>Enterprises</td></td></tr><tr><td>7</td><td>Environment and Energy</td></td></tr><tr><td>8</td><td>Population and Households</td></td></tr><tr><td>9</td><td>Households Economic Conditions and Disparities</td></td></tr><tr><td>10</td><td>Health statistics</td></td></tr><tr><td>11</td><td>Social Security and Welfare</td></td></tr><tr><td>12</td><td>Education and training</td></td></tr><tr><td>13</td><td>Communication, culture and leisure</td></td></tr><tr><td>14</td><td>Justice and Security</td></td></tr><tr><td>15</td><td>Citizens' opinions and satisfaction with life</td></td></tr><tr><td>16</td><td>Social participation</td></td></tr><tr><td>17</td><td>National Accounts</td></td></tr><tr><td>19</td><td>Agriculture</td></td></tr><tr><td>20</td><td>Industry and Construction</td></td></tr><tr><td>21</td><td>Services</td></td></tr><tr><td>22</td><td>Public Administrations and Private Institutions</td></td></tr><tr><td>24</td><td>External Trade and Internationalisation</td></td></tr><tr><td>25</td><td>Prices</td></td></tr><tr><td>26</td><td>Labour</td></td></tr></table>"
      ],
      "text/plain": [
       "<IPython.core.display.HTML object>"
      ]
     },
     "execution_count": 3,
     "metadata": {},
     "output_type": "execute_result"
    }
   ],
   "source": [
    "HTML(istat.areas_as_html())"
   ]
  },
  {
   "cell_type": "markdown",
   "metadata": {},
   "source": [
    "Following code list all datasets contained into area `Prices`."
   ]
  },
  {
   "cell_type": "code",
   "execution_count": 4,
   "metadata": {
    "collapsed": false
   },
   "outputs": [
    {
     "data": {
      "text/html": [
       "<table><tr><th>cod</th><th>name</th><th>dim</th></tr><tr><td>DCSC_FABBRESID_1</td><td>Construction costs index - monthly data</td><td>5</td></td></tr><tr><td>DCSC_PREZPRODSERV_1</td><td>Services producer prices index</td><td>5</td></td></tr><tr><td>DCSC_PREZZPIND_1</td><td>Producer price index for industrial products - monthly data</td><td>6</td></td></tr><tr><td>DCSP_FOI1</td><td>FOI  Monthly data until 2010</td><td>5</td></td></tr><tr><td>DCSP_FOI1B2010</td><td>FOI - Monthly data from 2011 to 2015</td><td>5</td></td></tr><tr><td>DCSP_FOI1B2015</td><td>FOI - Monthly data from 2016 onwards</td><td>5</td></td></tr><tr><td>DCSP_FOI2</td><td>FOI  Annual average  until 2010</td><td>5</td></td></tr><tr><td>DCSP_FOI2B2010</td><td>FOI  Annual average from 2011  onwards</td><td>5</td></td></tr><tr><td>DCSP_FOI2B2015</td><td>FOI - Annual average from 2016 onwards</td><td>5</td></td></tr><tr><td>DCSP_FOI3</td><td>FOI  Weights until 2010</td><td>4</td></td></tr><tr><td>DCSP_FOI3B2010</td><td>FOI - Weights from 2011 to 2015</td><td>4</td></td></tr><tr><td>DCSP_FOI3B2015</td><td>FOI - Weights from 2016 onwards</td><td>4</td></td></tr><tr><td>DCSP_IPAB</td><td>House price index </td><td>5</td></td></tr><tr><td>DCSP_IPCA1</td><td>HICP - Monthly data from 2001 to 2015 (base 2005=100)</td><td>5</td></td></tr><tr><td>DCSP_IPCA1B2015</td><td>HICP - Monthly data from 2001 onwards (base 2015=100)</td><td>5</td></td></tr><tr><td>DCSP_IPCA2</td><td>HICP - Annual average from 2001 to 2015 (base 2005=100)</td><td>5</td></td></tr><tr><td>DCSP_IPCA2B2015</td><td>HICP - Annual average from 2001 onwards (base 2015=100)</td><td>5</td></td></tr><tr><td>DCSP_IPCA3</td><td>HICP  Weights from 2001 onwards</td><td>4</td></td></tr><tr><td>DCSP_IPCATC1</td><td>HICP at constant tax rates - Monthly data from 2002 to 2015 (base 2005=100)</td><td>5</td></td></tr><tr><td>DCSP_IPCATC1B2015</td><td>HICP at constant tax rates - Monthly data from 2002 onwards (base 2015=100)</td><td>5</td></td></tr><tr><td>DCSP_IPCATC2</td><td>HICP at constant tax rates - Annual average from 2002 to 2015 (base 2005=100)</td><td>5</td></td></tr><tr><td>DCSP_IPCATC2B2015</td><td>HICP at constant tax rates - Annual average from 2002 onwards (base 2015=100)</td><td>5</td></td></tr><tr><td>DCSP_NIC1B2015</td><td>NIC - Monthly data from 2016 onwards</td><td>5</td></td></tr><tr><td>DCSP_NIC3B2015</td><td>NIC - Weights from 2016 onwards</td><td>4</td></td></tr><tr><td>DCSP_NICDUE</td><td>NIC  Annual average until 2010</td><td>5</td></td></tr><tr><td>DCSP_NICDUEB2010</td><td>NIC  Annual average from 2011 onwards</td><td>5</td></td></tr><tr><td>DCSP_NICTRE</td><td>NIC  Weights  until 2010</td><td>4</td></td></tr><tr><td>DCSP_NICTREB2010</td><td>NIC - Weights from 2011 to 2015</td><td>4</td></td></tr><tr><td>DCSP_NICUNOB</td><td>NIC  Monthly data until 2010</td><td>5</td></td></tr><tr><td>DCSP_NICUNOBB2010</td><td>NIC - Monthly data from 2011 to 2015</td><td>5</td></td></tr></table>"
      ],
      "text/plain": [
       "<IPython.core.display.HTML object>"
      ]
     },
     "execution_count": 4,
     "metadata": {},
     "output_type": "execute_result"
    }
   ],
   "source": [
    "istat_area_prices = istat.area('Prices')\n",
    "HTML(istat_area_prices.datasets_as_html())"
   ]
  },
  {
   "cell_type": "markdown",
   "metadata": {},
   "source": [
    "List all dimension for dataset `DCSP_IPAB` (House price index)"
   ]
  },
  {
   "cell_type": "code",
   "execution_count": 5,
   "metadata": {
    "collapsed": false
   },
   "outputs": [
    {
     "data": {
      "text/html": [
       "<table><tr><th>nr</th><th>name</th><th>nr. values</th><th>values (first 3 values)</th></tr><tr><td>0</td><td>Territory</td><td>1</td><td>1:'Italy'</td></td></tr><tr><td>1</td><td>Index type</td><td>3</td><td>18:'house price index (base 2010=100) - quarterly data', 19:'house price index (base 2010=100) - annual average', 20:'house price index (base 2010=100) - weights' ...</td></td></tr><tr><td>2</td><td>Measure</td><td>5</td><td>8:'annual average rate of change', 4:'index number', 22:'not applicable' ...</td></td></tr><tr><td>3</td><td>Purchases of dwellings</td><td>3</td><td>4:'H1 - all items', 5:'H11 - new dwellings', 6:'H12 - existing dwellings' ...</td></td></tr><tr><td>4</td><td>Time and frequency</td><td>29</td><td>2112:'Q1-2011', 2178:'Q3-2014', 2116:'Q2-2011' ...</td></td></tr></table>"
      ],
      "text/plain": [
       "<IPython.core.display.HTML object>"
      ]
     },
     "execution_count": 5,
     "metadata": {},
     "output_type": "execute_result"
    }
   ],
   "source": [
    "istat_dataset_dcsp_ipab = istat_area_prices.dataset('DCSP_IPAB')\n",
    "HTML(istat_dataset_dcsp_ipab.info_dimensions_as_html())"
   ]
  },
  {
   "cell_type": "markdown",
   "metadata": {},
   "source": [
    "Finally from istat dataset we extracts data in jsonstat format by specifying dimensions we are interested."
   ]
  },
  {
   "cell_type": "code",
   "execution_count": 6,
   "metadata": {
    "collapsed": false
   },
   "outputs": [
    {
     "data": {
      "text/plain": [
       "JsonstatCollection contains the following JsonStatDataSet:\n",
       "+-----+-------------------------------+\n",
       "| pos | dataset                       |\n",
       "+-----+-------------------------------+\n",
       "| 0   | 'IDMISURA1*IDTYPPURCH*IDTIME' |\n",
       "+-----+-------------------------------+"
      ]
     },
     "execution_count": 6,
     "metadata": {},
     "output_type": "execute_result"
    }
   ],
   "source": [
    "spec = { \n",
    "    \"Territory\": 1, \"Index type\": 18, \n",
    "    # \"Measure\": 0, # \"Purchases of dwelling\": 0, # \"Time and frequency\": 0\n",
    "}\n",
    "# convert istat dataset into jsonstat collection and print some info\n",
    "collection = istat_dataset_dcsp_ipab.getvalues(spec)\n",
    "collection"
   ]
  },
  {
   "cell_type": "markdown",
   "metadata": {},
   "source": [
    "The previous call is equivalent to call istat api with a \"1,18,0,0,0\" string of number.\n",
    "Below is the mapping from the number and dimensions:\n",
    "\n",
    "| dimension            |    |                                                      |\n",
    "|:---------------------|---:|:-----------------------------------------------------|\n",
    "| Territory            | 1  | Italy                                                |\n",
    "| Type                 | 18 | house price index (base 2010=100) - quarterly data'  |\n",
    "| Measure              | 0  | ALL                                                  |  \n",
    "| Purchase of dwelling | 0  | ALL                                                  |  \n",
    "| Time and frequency   | 0  | ALL                                                  |\n"
   ]
  },
  {
   "cell_type": "code",
   "execution_count": 7,
   "metadata": {
    "collapsed": false
   },
   "outputs": [
    {
     "data": {
      "text/plain": [
       "JsonstatCollection contains the following JsonStatDataSet:\n",
       "+-----+-------------------------------+\n",
       "| pos | dataset                       |\n",
       "+-----+-------------------------------+\n",
       "| 0   | 'IDMISURA1*IDTYPPURCH*IDTIME' |\n",
       "+-----+-------------------------------+"
      ]
     },
     "execution_count": 7,
     "metadata": {},
     "output_type": "execute_result"
    }
   ],
   "source": [
    "json_stat_data = istat_dataset_dcsp_ipab.getvalues(\"1,18,0,0,0\")\n",
    "json_stat_data"
   ]
  },
  {
   "cell_type": "markdown",
   "metadata": {},
   "source": [
    "#### step2: using jsonstat.py api."
   ]
  },
  {
   "cell_type": "markdown",
   "metadata": {},
   "source": [
    "Now we have a jsonstat collection, let expore it with the api of jsonstat.py"
   ]
  },
  {
   "cell_type": "markdown",
   "metadata": {},
   "source": [
    "Print some info of one dataset contained into the above jsonstat collection"
   ]
  },
  {
   "cell_type": "code",
   "execution_count": 8,
   "metadata": {
    "collapsed": false
   },
   "outputs": [
    {
     "data": {
      "text/html": [
       "in ipython"
      ],
      "text/plain": [
       "name:   'IDMISURA1*IDTYPPURCH*IDTIME'\n",
       "label:  'House price index  by Measure, Purchases of dwellings and Time and frequency - Italy - house price index (base 2010=100) - quarterly data'\n",
       "size: 207\n",
       "+-----+------------+------------------------+------+------+\n",
       "| pos | id         | label                  | size | role |\n",
       "+-----+------------+------------------------+------+------+\n",
       "| 0   | IDMISURA1  | Measure                | 3    |      |\n",
       "| 1   | IDTYPPURCH | Purchases of dwellings | 3    |      |\n",
       "| 2   | IDTIME     | Time and frequency     | 23   |      |\n",
       "+-----+------------+------------------------+------+------+"
      ]
     },
     "execution_count": 8,
     "metadata": {},
     "output_type": "execute_result"
    }
   ],
   "source": [
    "jsonstat_dataset = collection.dataset('IDMISURA1*IDTYPPURCH*IDTIME')\n",
    "jsonstat_dataset"
   ]
  },
  {
   "cell_type": "markdown",
   "metadata": {},
   "source": [
    "Print info about the dimensions to get an idea about the data"
   ]
  },
  {
   "cell_type": "code",
   "execution_count": 9,
   "metadata": {
    "collapsed": false
   },
   "outputs": [
    {
     "data": {
      "text/plain": [
       "+-----+-----+--------------------------------------------------------------+\n",
       "| pos | idx | label                                                        |\n",
       "+-----+-----+--------------------------------------------------------------+\n",
       "| 0   | '4' | 'index number'                                               |\n",
       "| 1   | '6' | 'percentage changes on the previous period'                  |\n",
       "| 2   | '7' | 'percentage changes on the same period of the previous year' |\n",
       "+-----+-----+--------------------------------------------------------------+"
      ]
     },
     "execution_count": 9,
     "metadata": {},
     "output_type": "execute_result"
    }
   ],
   "source": [
    "jsonstat_dataset.dimension('IDMISURA1')"
   ]
  },
  {
   "cell_type": "code",
   "execution_count": 10,
   "metadata": {
    "collapsed": false
   },
   "outputs": [
    {
     "data": {
      "text/plain": [
       "+-----+-----+----------------------------+\n",
       "| pos | idx | label                      |\n",
       "+-----+-----+----------------------------+\n",
       "| 0   | '4' | 'H1 - all items'           |\n",
       "| 1   | '5' | 'H11 - new dwellings'      |\n",
       "| 2   | '6' | 'H12 - existing dwellings' |\n",
       "+-----+-----+----------------------------+"
      ]
     },
     "execution_count": 10,
     "metadata": {},
     "output_type": "execute_result"
    }
   ],
   "source": [
    "jsonstat_dataset.dimension('IDTYPPURCH')"
   ]
  },
  {
   "cell_type": "code",
   "execution_count": 11,
   "metadata": {
    "collapsed": false
   },
   "outputs": [
    {
     "data": {
      "text/plain": [
       "+-----+--------+-----------+\n",
       "| pos | idx    | label     |\n",
       "+-----+--------+-----------+\n",
       "| 0   | '2093' | 'Q1-2010' |\n",
       "| 1   | '2097' | 'Q2-2010' |\n",
       "| 2   | '2102' | 'Q3-2010' |\n",
       "| 3   | '2106' | 'Q4-2010' |\n",
       "| 4   | '2112' | 'Q1-2011' |\n",
       "| 5   | '2116' | 'Q2-2011' |\n",
       "| 6   | '2121' | 'Q3-2011' |\n",
       "| 7   | '2125' | 'Q4-2011' |\n",
       "| 8   | '2131' | 'Q1-2012' |\n",
       "| 9   | '2135' | 'Q2-2012' |\n",
       "| 10  | '2140' | 'Q3-2012' |\n",
       "| 11  | '2144' | 'Q4-2012' |\n",
       "| 12  | '2150' | 'Q1-2013' |\n",
       "| 13  | '2154' | 'Q2-2013' |\n",
       "| 14  | '2159' | 'Q3-2013' |\n",
       "| 15  | '2163' | 'Q4-2013' |\n",
       "| 16  | '2169' | 'Q1-2014' |\n",
       "| 17  | '2173' | 'Q2-2014' |\n",
       "| 18  | '2178' | 'Q3-2014' |\n",
       "| 19  | '2182' | 'Q4-2014' |\n",
       "| 20  | '2188' | 'Q1-2015' |\n",
       "| 21  | '2192' | 'Q2-2015' |\n",
       "| 22  | '2197' | 'Q3-2015' |\n",
       "+-----+--------+-----------+"
      ]
     },
     "execution_count": 11,
     "metadata": {},
     "output_type": "execute_result"
    }
   ],
   "source": [
    "jsonstat_dataset.dimension('IDTIME')"
   ]
  },
  {
   "cell_type": "code",
   "execution_count": 12,
   "metadata": {
    "collapsed": false
   },
   "outputs": [
    {
     "data": {
      "text/html": [
       "<div>\n",
       "<table border=\"1\" class=\"dataframe\">\n",
       "  <thead>\n",
       "    <tr style=\"text-align: right;\">\n",
       "      <th></th>\n",
       "      <th>Measure</th>\n",
       "      <th>Purchases of dwellings</th>\n",
       "      <th>Time and frequency</th>\n",
       "      <th>Value</th>\n",
       "    </tr>\n",
       "  </thead>\n",
       "  <tbody>\n",
       "    <tr>\n",
       "      <th>0</th>\n",
       "      <td>index number</td>\n",
       "      <td>H1 - all items</td>\n",
       "      <td>Q1-2010</td>\n",
       "      <td>99.5</td>\n",
       "    </tr>\n",
       "    <tr>\n",
       "      <th>1</th>\n",
       "      <td>index number</td>\n",
       "      <td>H1 - all items</td>\n",
       "      <td>Q2-2010</td>\n",
       "      <td>100.0</td>\n",
       "    </tr>\n",
       "    <tr>\n",
       "      <th>2</th>\n",
       "      <td>index number</td>\n",
       "      <td>H1 - all items</td>\n",
       "      <td>Q3-2010</td>\n",
       "      <td>100.3</td>\n",
       "    </tr>\n",
       "    <tr>\n",
       "      <th>3</th>\n",
       "      <td>index number</td>\n",
       "      <td>H1 - all items</td>\n",
       "      <td>Q4-2010</td>\n",
       "      <td>100.2</td>\n",
       "    </tr>\n",
       "    <tr>\n",
       "      <th>4</th>\n",
       "      <td>index number</td>\n",
       "      <td>H1 - all items</td>\n",
       "      <td>Q1-2011</td>\n",
       "      <td>100.1</td>\n",
       "    </tr>\n",
       "  </tbody>\n",
       "</table>\n",
       "</div>"
      ],
      "text/plain": [
       "        Measure Purchases of dwellings Time and frequency  Value\n",
       "0  index number         H1 - all items            Q1-2010   99.5\n",
       "1  index number         H1 - all items            Q2-2010  100.0\n",
       "2  index number         H1 - all items            Q3-2010  100.3\n",
       "3  index number         H1 - all items            Q4-2010  100.2\n",
       "4  index number         H1 - all items            Q1-2011  100.1"
      ]
     },
     "execution_count": 12,
     "metadata": {},
     "output_type": "execute_result"
    }
   ],
   "source": [
    "import pandas as pd\n",
    "df = jsonstat_dataset.to_table(rtype=pd.DataFrame)\n",
    "df.head()"
   ]
  },
  {
   "cell_type": "code",
   "execution_count": 13,
   "metadata": {
    "collapsed": false
   },
   "outputs": [
    {
     "data": {
      "text/html": [
       "<div>\n",
       "<table border=\"1\" class=\"dataframe\">\n",
       "  <thead>\n",
       "    <tr style=\"text-align: right;\">\n",
       "      <th></th>\n",
       "      <th>Value</th>\n",
       "    </tr>\n",
       "    <tr>\n",
       "      <th>Time and frequency</th>\n",
       "      <th></th>\n",
       "    </tr>\n",
       "  </thead>\n",
       "  <tbody>\n",
       "    <tr>\n",
       "      <th>Q1-2010</th>\n",
       "      <td>99.5</td>\n",
       "    </tr>\n",
       "    <tr>\n",
       "      <th>Q2-2010</th>\n",
       "      <td>100.0</td>\n",
       "    </tr>\n",
       "    <tr>\n",
       "      <th>Q3-2010</th>\n",
       "      <td>100.3</td>\n",
       "    </tr>\n",
       "    <tr>\n",
       "      <th>Q4-2010</th>\n",
       "      <td>100.2</td>\n",
       "    </tr>\n",
       "    <tr>\n",
       "      <th>Q1-2011</th>\n",
       "      <td>100.1</td>\n",
       "    </tr>\n",
       "    <tr>\n",
       "      <th>Q2-2011</th>\n",
       "      <td>101.2</td>\n",
       "    </tr>\n",
       "    <tr>\n",
       "      <th>Q3-2011</th>\n",
       "      <td>101.2</td>\n",
       "    </tr>\n",
       "    <tr>\n",
       "      <th>Q4-2011</th>\n",
       "      <td>100.5</td>\n",
       "    </tr>\n",
       "    <tr>\n",
       "      <th>Q1-2012</th>\n",
       "      <td>99.9</td>\n",
       "    </tr>\n",
       "    <tr>\n",
       "      <th>Q2-2012</th>\n",
       "      <td>99.1</td>\n",
       "    </tr>\n",
       "    <tr>\n",
       "      <th>Q3-2012</th>\n",
       "      <td>97.4</td>\n",
       "    </tr>\n",
       "    <tr>\n",
       "      <th>Q4-2012</th>\n",
       "      <td>95.3</td>\n",
       "    </tr>\n",
       "    <tr>\n",
       "      <th>Q1-2013</th>\n",
       "      <td>93.9</td>\n",
       "    </tr>\n",
       "    <tr>\n",
       "      <th>Q2-2013</th>\n",
       "      <td>93.3</td>\n",
       "    </tr>\n",
       "    <tr>\n",
       "      <th>Q3-2013</th>\n",
       "      <td>91.9</td>\n",
       "    </tr>\n",
       "    <tr>\n",
       "      <th>Q4-2013</th>\n",
       "      <td>90.2</td>\n",
       "    </tr>\n",
       "    <tr>\n",
       "      <th>Q1-2014</th>\n",
       "      <td>89.3</td>\n",
       "    </tr>\n",
       "    <tr>\n",
       "      <th>Q2-2014</th>\n",
       "      <td>88.7</td>\n",
       "    </tr>\n",
       "    <tr>\n",
       "      <th>Q3-2014</th>\n",
       "      <td>88.3</td>\n",
       "    </tr>\n",
       "    <tr>\n",
       "      <th>Q4-2014</th>\n",
       "      <td>86.9</td>\n",
       "    </tr>\n",
       "    <tr>\n",
       "      <th>Q1-2015</th>\n",
       "      <td>86.1</td>\n",
       "    </tr>\n",
       "    <tr>\n",
       "      <th>Q2-2015</th>\n",
       "      <td>86.1</td>\n",
       "    </tr>\n",
       "    <tr>\n",
       "      <th>Q3-2015</th>\n",
       "      <td>86.3</td>\n",
       "    </tr>\n",
       "  </tbody>\n",
       "</table>\n",
       "</div>"
      ],
      "text/plain": [
       "                    Value\n",
       "Time and frequency       \n",
       "Q1-2010              99.5\n",
       "Q2-2010             100.0\n",
       "Q3-2010             100.3\n",
       "Q4-2010             100.2\n",
       "Q1-2011             100.1\n",
       "Q2-2011             101.2\n",
       "Q3-2011             101.2\n",
       "Q4-2011             100.5\n",
       "Q1-2012              99.9\n",
       "Q2-2012              99.1\n",
       "Q3-2012              97.4\n",
       "Q4-2012              95.3\n",
       "Q1-2013              93.9\n",
       "Q2-2013              93.3\n",
       "Q3-2013              91.9\n",
       "Q4-2013              90.2\n",
       "Q1-2014              89.3\n",
       "Q2-2014              88.7\n",
       "Q3-2014              88.3\n",
       "Q4-2014              86.9\n",
       "Q1-2015              86.1\n",
       "Q2-2015              86.1\n",
       "Q3-2015              86.3"
      ]
     },
     "execution_count": 13,
     "metadata": {},
     "output_type": "execute_result"
    }
   ],
   "source": [
    "filtered = df.loc[\n",
    "    (df['Measure'] == 'index number') & (df['Purchases of dwellings'] == 'H1 - all items'), \n",
    "    ['Time and frequency', 'Value']\n",
    "]\n",
    "filtered.set_index('Time and frequency')"
   ]
  },
  {
   "cell_type": "code",
   "execution_count": 14,
   "metadata": {
    "collapsed": false
   },
   "outputs": [
    {
     "data": {
      "image/png": "[encoded data removed]",
      "text/plain": [
       "<matplotlib.figure.Figure at 0x113e9a160>"
      ]
     },
     "metadata": {},
     "output_type": "display_data"
    }
   ],
   "source": [
    "%matplotlib inline\n",
    "import matplotlib.pyplot as plt\n",
    "\n",
    "values = filtered['Value'].tolist()\n",
    "labels = filtered['Time and frequency']\n",
    "\n",
    "xs = [i + 0.1 for i, _ in enumerate(values)]\n",
    "# bars are by default width 0.8, so we'll add 0.1 to the left coordinates \n",
    "# so that each bar is centered\n",
    "\n",
    "# plot bars with left x-coordinates [xs], heights [num_oscars]\n",
    "plt.figure(figsize=(15,4))\n",
    "plt.bar(xs, values)\n",
    "plt.ylabel(\"value\")\n",
    "plt.title(\"house index\")\n",
    "\n",
    "# label x-axis with movie names at bar centers\n",
    "plt.xticks([i + 0.5 for i, _ in enumerate(labels)], labels, rotation='vertical') \n",
    "plt.show()"
   ]
  }
 ],
 "metadata": {
  "kernelspec": {
   "display_name": "Python 3",
   "language": "python",
   "name": "python3"
  },
  "language_info": {
   "codemirror_mode": {
    "name": "ipython",
    "version": 3
   },
   "file_extension": ".py",
   "mimetype": "text/x-python",
   "name": "python",
   "nbconvert_exporter": "python",
   "pygments_lexer": "ipython3",
   "version": "3.5.1"
  }
 },
 "nbformat": 4,
 "nbformat_minor": 0
}
